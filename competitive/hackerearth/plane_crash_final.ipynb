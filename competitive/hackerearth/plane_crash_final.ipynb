{
 "cells": [
  {
   "cell_type": "code",
   "execution_count": 1,
   "metadata": {},
   "outputs": [],
   "source": [
    "import pandas as pd\n",
    "import numpy as np\n",
    "import os\n",
    "import sklearn\n",
    "import matplotlib.pyplot as plt\n",
    "%matplotlib inline\n",
    "import seaborn as sns\n"
   ]
  },
  {
   "cell_type": "code",
   "execution_count": 51,
   "metadata": {},
   "outputs": [],
   "source": [
    "from sklearn.preprocessing import LabelEncoder\n",
    "from sklearn.model_selection import train_test_split\n",
    "from sklearn.model_selection import StratifiedKFold\n",
    "from sklearn.linear_model import LogisticRegression\n",
    "from sklearn.ensemble import RandomForestClassifier\n",
    "from sklearn.ensemble import GradientBoostingClassifier\n",
    "from sklearn.svm import SVC\n",
    "from sklearn.metrics import f1_score\n",
    "from sklearn.neighbors import KNeighborsClassifier\n",
    "from xgboost import XGBClassifier\n",
    "from sklearn.model_selection import cross_val_score\n",
    "from sklearn.model_selection import RandomizedSearchCV\n",
    "from sklearn.model_selection import GridSearchCV\n",
    "import math\n",
    "import warnings"
   ]
  },
  {
   "cell_type": "code",
   "execution_count": 3,
   "metadata": {},
   "outputs": [],
   "source": [
    "warnings.filterwarnings(\"ignore\",category=FutureWarning)\n"
   ]
  },
  {
   "cell_type": "code",
   "execution_count": 4,
   "metadata": {},
   "outputs": [],
   "source": [
    "df=pd.read_csv(\"C:\\\\Users\\\\shsubham\\\\program\\\\DATA\\\\hackerearth\\\\planecrash\\\\train.csv\")"
   ]
  },
  {
   "cell_type": "code",
   "execution_count": 5,
   "metadata": {},
   "outputs": [],
   "source": [
    "le_Severity=LabelEncoder()\n",
    "le_Severity.fit(df['Severity'])\n",
    "df['Severity']=le_Severity.transform(df['Severity'])"
   ]
  },
  {
   "cell_type": "code",
   "execution_count": 75,
   "metadata": {},
   "outputs": [
    {
     "data": {
      "text/plain": [
       "array(['Highly_Fatal_And_Damaging', 'Minor_Damage_And_Injuries',\n",
       "       'Significant_Damage_And_Fatalities',\n",
       "       'Significant_Damage_And_Serious_Injuries'], dtype=object)"
      ]
     },
     "execution_count": 75,
     "metadata": {},
     "output_type": "execute_result"
    }
   ],
   "source": [
    "le_Severity.classes_"
   ]
  },
  {
   "cell_type": "code",
   "execution_count": null,
   "metadata": {},
   "outputs": [],
   "source": [
    "#([0,1,2,3],['Highly_Fatal_And_Damaging','Minor_Damage_And_Injuries','Significant_Damage_And_Fatalities','Significant_Damage_And_Serious_Injuries'])"
   ]
  },
  {
   "cell_type": "code",
   "execution_count": 6,
   "metadata": {},
   "outputs": [],
   "source": [
    "X=df.drop([\"Severity\"],axis=1)"
   ]
  },
  {
   "cell_type": "code",
   "execution_count": 7,
   "metadata": {},
   "outputs": [],
   "source": [
    "y=df[\"Severity\"]"
   ]
  },
  {
   "cell_type": "code",
   "execution_count": null,
   "metadata": {},
   "outputs": [],
   "source": [
    "\n"
   ]
  },
  {
   "cell_type": "code",
   "execution_count": 8,
   "metadata": {},
   "outputs": [],
   "source": [
    "X.drop(['Accident_ID','Accident_Type_Code'],axis=1,inplace=True)"
   ]
  },
  {
   "cell_type": "code",
   "execution_count": 9,
   "metadata": {},
   "outputs": [],
   "source": [
    "X_train,X_test,y_train,y_test=train_test_split(X,y,test_size=.2)"
   ]
  },
  {
   "cell_type": "code",
   "execution_count": 17,
   "metadata": {},
   "outputs": [],
   "source": [
    "X_train,X_holdout,X_test=np.split(X,[int(.7*len(X)),int(len(X)*.9)])"
   ]
  },
  {
   "cell_type": "code",
   "execution_count": 20,
   "metadata": {},
   "outputs": [
    {
     "name": "stdout",
     "output_type": "stream",
     "text": [
      "(7000, 9) (1000, 9) (2000, 9)\n"
     ]
    }
   ],
   "source": [
    "print(X_train.shape,X_test.shape,X_holdout.shape)"
   ]
  },
  {
   "cell_type": "code",
   "execution_count": 21,
   "metadata": {},
   "outputs": [],
   "source": [
    "y_train,y_holdout,y_test=np.split(y,[int(.7*len(y)),int(len(y)*.9)])"
   ]
  },
  {
   "cell_type": "code",
   "execution_count": 54,
   "metadata": {},
   "outputs": [],
   "source": [
    "def GridSearchGBM(X_train,y_train,lr=.3,trees=50,cv=10):\n",
    "    default_learning_rate=.3\n",
    "    default_num_of_tree=50\n",
    "    base_GBM=GradientBoostingClassifier(learning_rate=lr,n_estimators=trees,max_depth=6,max_features='sqrt',min_samples_split=50,min_samples_leaf=10,subsample=1.0,n_iter_no_change=20,validation_fraction=.2)\n",
    "    max_depth_val=[10,30,50,70,90,20]\n",
    "    #max_depth_val=[10]\n",
    "    min_samples_split_val=[4,8,16,32,64,128,256,512]\n",
    "    #min_samples_split_val=[4]\n",
    "    n_fe=len(X_train.columns)\n",
    "    #max_features_val=[n_fe//2,n_fe//3,round(math.sqrt(n_fe)),n_fe]\n",
    "    max_features_val=[n_fe]\n",
    "    tol=1e-4\n",
    "    first_tuning={'max_depth':max_depth_val,'min_samples_split':min_samples_split_val,'max_features':max_features_val}\n",
    "    grid_model=GridSearchCV(estimator=base_GBM,param_grid=first_tuning,cv=cv)\n",
    "    grid_model.fit(X_train,y_train)\n",
    "    #learning-rate=2-10/num of trees\n",
    "    learning_rate_val=[.2,.1,.05,.02,.01]\n",
    "    #learning_rate_val=[.1]\n",
    "    n_estimators_val=[50,100,200,400,500,800,1000]\n",
    "    #n_estimators_val=[100,200]\n",
    "    second_tuning={'learning_rate':learning_rate_val,'n_estimators':n_estimators_val}\n",
    "    final_model=GridSearchCV(estimator=grid_model.best_estimator_,param_grid=second_tuning,cv=cv)\n",
    "    final_model.fit(X_train,y_train)\n",
    "    return final_model"
   ]
  },
  {
   "cell_type": "code",
   "execution_count": 29,
   "metadata": {},
   "outputs": [],
   "source": [
    "def GridSearchXGBC(X_train,y_train,lr=.3,trees=50,cv=10):\n",
    "    #XGB_classifier_param={'learning_rate':learning_rate_val,'subsample':subsample_val,'colsample_bytree':colsample_bytree_val}\n",
    "    base_XGBC=XGBClassifier(objective='multi:softmax',booster='gbtree',n_estimators=trees,silent=0,learning_rate=lr,min_child_weight=1,max_depth=6,gamma=0,max_delta_setp=0,colsample_bytree=1)\n",
    "    #max_depth_val=[100]\n",
    "    max_depth_val=[10,30,50,70,90,20]\n",
    "    #min_child_weight_val=[1]\n",
    "    min_child_weight_val=[1,2,4,8] #equivalent of min_child_leaf in GBM\n",
    "    #eta=learning_rate\n",
    "    first_tuning={'max_depth':max_depth_val,'min_child_weight':min_child_weight_val}\n",
    "    grid_model=GridSearchCV(estimator=base_XGBC,param_grid=first_tuning,cv=cv)\n",
    "    grid_model.fit(X_train,y_train)\n",
    "    #learning-rate=2-10/num of trees\n",
    "    learning_rate_val=[.2,.1,.05,.02,.01]\n",
    "    #learning_rate_val=[.2,.1]\n",
    "    n_estimators_val=[50,100,200,400,500,800,1000]\n",
    "    #n_estimators_val=[100,200]\n",
    "    second_tuning={'learning_rate':learning_rate_val,'n_estimators':n_estimators_val}\n",
    "    final_model=GridSearchCV(estimator=grid_model.best_estimator_,param_grid=second_tuning,cv=cv)\n",
    "    final_model.fit(X_train,y_train)\n",
    "    return final_model"
   ]
  },
  {
   "cell_type": "code",
   "execution_count": 25,
   "metadata": {},
   "outputs": [],
   "source": [
    "def RandomSearchRandomForest(X_train,y_train,trees=50,cv=10):\n",
    "    n_estimators_val = [int(x) for x in np.linspace(start = 200, stop = 2000, num = 10)]\n",
    "    max_features_val = ['auto', 'sqrt'] #[.2,.4,.6,.8]\n",
    "    max_depth_val = [int(x) for x in np.linspace(10, 110, num = 11)]\n",
    "    max_depth_val.append(None)\n",
    "    min_samples_split_val = [2, 5, 10]\n",
    "    min_samples_leaf_val = [1, 2, 4]\n",
    "    bootstrap_val = [True, False]\n",
    "    random_grid={'n_estimators':n_estimators_val,'max_features':max_features_val,'max_depth':max_depth_val,\n",
    "                 'min_samples_split':min_samples_split_val,\n",
    "                 'min_samples_leaf':min_samples_leaf_val,\n",
    "                 'bootstrap':bootstrap_val\n",
    "                }\n",
    "    base_model=RandomForestClassifier(random_state=108)\n",
    "    random_model=RandomizedSearchCV(estimator=base_model,param_distributions=random_grid,n_iter=100,cv=cv,random_state=108,return_train_score=True)\n",
    "    random_model.fit(X_train,y_train)\n",
    "    return random_model"
   ]
  },
  {
   "cell_type": "code",
   "execution_count": 40,
   "metadata": {},
   "outputs": [],
   "source": [
    "def ensemble_level_train(base_models,X_train,y_train):\n",
    "    intermediate_input=pd.DataFrame()\n",
    "    for model in base_models:\n",
    "        model.fit(X_train,y_train)\n",
    "        #y_temp=model.predict(X_holdout)\n",
    "        #intermediate_input[model.__class__.__name__]=y_temp;\n",
    "        #print(model.__class__.__name__,accuracy_score(y_holdout,y_temp))\n",
    "    #return intermediate_input"
   ]
  },
  {
   "cell_type": "code",
   "execution_count": 43,
   "metadata": {},
   "outputs": [],
   "source": [
    "def ensemble_level_predict(base_models,X_test):\n",
    "    intermediate_input=pd.DataFrame()\n",
    "    for model in base_models:\n",
    "        y_temp=model.predict(X_test)\n",
    "        intermediate_input[model.__class__.__name__]=y_temp;\n",
    "    return intermediate_input"
   ]
  },
  {
   "cell_type": "code",
   "execution_count": 30,
   "metadata": {},
   "outputs": [],
   "source": [
    "Grid_XGB=GridSearchXGBC(X_train,y_train,cv=3)"
   ]
  },
  {
   "cell_type": "code",
   "execution_count": 31,
   "metadata": {},
   "outputs": [],
   "source": [
    "XGB_model=Grid_XGB.best_estimator_"
   ]
  },
  {
   "cell_type": "code",
   "execution_count": 33,
   "metadata": {},
   "outputs": [
    {
     "data": {
      "text/plain": [
       "array([0.26336884, 0.22707438, 0.02505419, 0.18709669, 0.02801372,\n",
       "       0.02201429, 0.03299121, 0.02347733, 0.1909094 ], dtype=float32)"
      ]
     },
     "execution_count": 33,
     "metadata": {},
     "output_type": "execute_result"
    }
   ],
   "source": [
    "XGB_model.feature_importances_"
   ]
  },
  {
   "cell_type": "code",
   "execution_count": 34,
   "metadata": {},
   "outputs": [
    {
     "data": {
      "text/plain": [
       "Index(['Safety_Score', 'Days_Since_Inspection', 'Total_Safety_Complaints',\n",
       "       'Control_Metric', 'Turbulence_In_gforces', 'Cabin_Temperature',\n",
       "       'Max_Elevation', 'Violations', 'Adverse_Weather_Metric'],\n",
       "      dtype='object')"
      ]
     },
     "execution_count": 34,
     "metadata": {},
     "output_type": "execute_result"
    }
   ],
   "source": [
    "X_train.columns"
   ]
  },
  {
   "cell_type": "code",
   "execution_count": 38,
   "metadata": {},
   "outputs": [],
   "source": [
    "Grid_RandomForest=RandomSearchRandomForest(X_train,y_train,cv=3)"
   ]
  },
  {
   "cell_type": "code",
   "execution_count": 39,
   "metadata": {},
   "outputs": [],
   "source": [
    "RandomForest_model=Grid_RandomForest.best_estimator_"
   ]
  },
  {
   "cell_type": "code",
   "execution_count": 42,
   "metadata": {},
   "outputs": [],
   "source": [
    "base_models=[XGB_model,RandomForest_model]"
   ]
  },
  {
   "cell_type": "code",
   "execution_count": 44,
   "metadata": {},
   "outputs": [],
   "source": [
    "y_holdout_pred=ensemble_level_predict(base_models,X_holdout)"
   ]
  },
  {
   "cell_type": "code",
   "execution_count": 55,
   "metadata": {},
   "outputs": [],
   "source": [
    "Grid_stack_model=GridSearchGBM(y_holdout_pred,y_holdout,cv=3)"
   ]
  },
  {
   "cell_type": "code",
   "execution_count": 56,
   "metadata": {},
   "outputs": [],
   "source": [
    "stack_model=Grid_stack_model.best_estimator_"
   ]
  },
  {
   "cell_type": "code",
   "execution_count": 57,
   "metadata": {},
   "outputs": [],
   "source": [
    "intermediate_val=ensemble_level_predict(base_models,X_test)"
   ]
  },
  {
   "cell_type": "code",
   "execution_count": 58,
   "metadata": {},
   "outputs": [],
   "source": [
    "final_pred=stack_model.predict(intermediate_val)"
   ]
  },
  {
   "cell_type": "code",
   "execution_count": 59,
   "metadata": {},
   "outputs": [
    {
     "data": {
      "text/plain": [
       "0.9609879541672197"
      ]
     },
     "execution_count": 59,
     "metadata": {},
     "output_type": "execute_result"
    }
   ],
   "source": [
    "f1_score(y_test,final_pred,average='weighted')"
   ]
  },
  {
   "cell_type": "code",
   "execution_count": 63,
   "metadata": {},
   "outputs": [],
   "source": [
    "df_test=pd.read_csv(\"C:\\\\Users\\\\shsubham\\\\program\\\\DATA\\\\hackerearth\\\\planecrash\\\\test.csv\")"
   ]
  },
  {
   "cell_type": "code",
   "execution_count": 64,
   "metadata": {},
   "outputs": [],
   "source": [
    "df_accid=df_test['Accident_ID']"
   ]
  },
  {
   "cell_type": "code",
   "execution_count": 65,
   "metadata": {},
   "outputs": [],
   "source": [
    "df_test.drop(['Accident_ID','Accident_Type_Code'],axis=1,inplace=True)"
   ]
  },
  {
   "cell_type": "code",
   "execution_count": 66,
   "metadata": {},
   "outputs": [],
   "source": [
    "intermediate_test_input=ensemble_level_predict(base_models,df_test)"
   ]
  },
  {
   "cell_type": "code",
   "execution_count": 69,
   "metadata": {},
   "outputs": [],
   "source": [
    "test_predict=stack_model.predict(intermediate_test_input)"
   ]
  },
  {
   "cell_type": "code",
   "execution_count": 68,
   "metadata": {},
   "outputs": [
    {
     "data": {
      "text/plain": [
       "array([0, 2, 3, ..., 3, 3, 0])"
      ]
     },
     "execution_count": 68,
     "metadata": {},
     "output_type": "execute_result"
    }
   ],
   "source": [
    "test_final\n"
   ]
  },
  {
   "cell_type": "code",
   "execution_count": 73,
   "metadata": {},
   "outputs": [],
   "source": [
    "result=pd.DataFrame({'Accident_ID':df_accid,'Severity':test_predict})"
   ]
  },
  {
   "cell_type": "code",
   "execution_count": 74,
   "metadata": {},
   "outputs": [],
   "source": [
    "result['Severity']=result['Severity'].replace([0,1,2,3],['Highly_Fatal_And_Damaging','Minor_Damage_And_Injuries','Significant_Damage_And_Fatalities','Significant_Damage_And_Serious_Injuries'])"
   ]
  },
  {
   "cell_type": "code",
   "execution_count": 72,
   "metadata": {},
   "outputs": [],
   "source": [
    "result.to_csv(\"airplane_accident_prediction2901_2030.csv\")"
   ]
  },
  {
   "cell_type": "code",
   "execution_count": 78,
   "metadata": {},
   "outputs": [],
   "source": [
    "import tensorflow as tf\n"
   ]
  },
  {
   "cell_type": "code",
   "execution_count": 81,
   "metadata": {},
   "outputs": [],
   "source": [
    "from tensorflow import keras"
   ]
  },
  {
   "cell_type": "code",
   "execution_count": 80,
   "metadata": {},
   "outputs": [
    {
     "data": {
      "text/plain": [
       "'1.9.0'"
      ]
     },
     "execution_count": 80,
     "metadata": {},
     "output_type": "execute_result"
    }
   ],
   "source": [
    "tf.__version__"
   ]
  },
  {
   "cell_type": "code",
   "execution_count": 83,
   "metadata": {},
   "outputs": [
    {
     "data": {
      "text/plain": [
       "'2.1.6-tf'"
      ]
     },
     "execution_count": 83,
     "metadata": {},
     "output_type": "execute_result"
    }
   ],
   "source": [
    "keras.__version__"
   ]
  },
  {
   "cell_type": "code",
   "execution_count": 85,
   "metadata": {},
   "outputs": [],
   "source": [
    "model=keras.models.Sequential()"
   ]
  },
  {
   "cell_type": "code",
   "execution_count": null,
   "metadata": {},
   "outputs": [],
   "source": [
    "#model.add.(keras.layers.Flatten())"
   ]
  },
  {
   "cell_type": "code",
   "execution_count": 135,
   "metadata": {},
   "outputs": [],
   "source": [
    "#model.add(keras.layers.Flatten(9))\n",
    "model.add(keras.layers.Dense(units=300,activation='relu',input_shape=X_train.shape[1:]))\n",
    "#model.add(keras.layers.Dense(100,activation='relu'))\n",
    "model.add(keras.layers.Dense(4,activation='softmax'))"
   ]
  },
  {
   "cell_type": "code",
   "execution_count": null,
   "metadata": {},
   "outputs": [],
   "source": [
    "activation='relu' is equivalent to activation= keras.activations.relu"
   ]
  },
  {
   "cell_type": "code",
   "execution_count": 89,
   "metadata": {},
   "outputs": [
    {
     "data": {
      "text/plain": [
       "[<tensorflow.python.keras.layers.core.Dense at 0x1c9126e3e10>,\n",
       " <tensorflow.python.keras.layers.core.Dense at 0x1c9126e3c88>,\n",
       " <tensorflow.python.keras.layers.core.Dense at 0x1c9126e3f28>,\n",
       " <tensorflow.python.keras.layers.core.Dense at 0x1c9126f20f0>]"
      ]
     },
     "execution_count": 89,
     "metadata": {},
     "output_type": "execute_result"
    }
   ],
   "source": [
    "model.layers"
   ]
  },
  {
   "cell_type": "code",
   "execution_count": 95,
   "metadata": {},
   "outputs": [],
   "source": [
    "hidden1=model.layers[1].name"
   ]
  },
  {
   "cell_type": "code",
   "execution_count": null,
   "metadata": {},
   "outputs": [],
   "source": [
    "hidden1.get_weights()"
   ]
  },
  {
   "cell_type": "code",
   "execution_count": 136,
   "metadata": {},
   "outputs": [],
   "source": [
    "model.compile(loss=\"sparse_categorical_crossentropy\",optimizer='sgd',metrics=['accuracy'])\n",
    "loss=keras.losses.sparse_categorical_crossentropy"
   ]
  },
  {
   "cell_type": "code",
   "execution_count": 121,
   "metadata": {},
   "outputs": [],
   "source": [
    "#history=model.fit(X_train,y_train,epochs=30,validation_data=(X_holdout,y_holdout))"
   ]
  },
  {
   "cell_type": "code",
   "execution_count": 137,
   "metadata": {},
   "outputs": [],
   "source": [
    "X_train_np=np.array(X_train)\n",
    "y_train_np=np.array(y_train)\n",
    "X_holdout_np=np.array(X_holdout)\n",
    "y_holdout_np=np.array(y_holdout)\n",
    "X_test_np=np.array(X_test)\n",
    "y_test_np=np.array(y_test)"
   ]
  },
  {
   "cell_type": "code",
   "execution_count": 138,
   "metadata": {},
   "outputs": [
    {
     "name": "stdout",
     "output_type": "stream",
     "text": [
      "Train on 7000 samples, validate on 2000 samples\n",
      "Epoch 1/30\n",
      "7000/7000 [==============================] - 2s 330us/step - loss: 1.3748 - acc: 0.2927 - val_loss: 1.3681 - val_acc: 0.2965\n",
      "Epoch 2/30\n",
      "7000/7000 [==============================] - 1s 126us/step - loss: 1.3668 - acc: 0.3070 - val_loss: 1.3658 - val_acc: 0.2965\n",
      "Epoch 3/30\n",
      "7000/7000 [==============================] - 1s 108us/step - loss: 1.3658 - acc: 0.3070 - val_loss: 1.3655 - val_acc: 0.2965\n",
      "Epoch 4/30\n",
      "7000/7000 [==============================] - 1s 123us/step - loss: 1.3658 - acc: 0.3070 - val_loss: 1.3656 - val_acc: 0.2965\n",
      "Epoch 5/30\n",
      "7000/7000 [==============================] - 1s 102us/step - loss: 1.3656 - acc: 0.3070 - val_loss: 1.3658 - val_acc: 0.2965\n",
      "Epoch 6/30\n",
      "7000/7000 [==============================] - 1s 98us/step - loss: 1.3657 - acc: 0.3070 - val_loss: 1.3656 - val_acc: 0.2965\n",
      "Epoch 7/30\n",
      "7000/7000 [==============================] - 1s 103us/step - loss: 1.3657 - acc: 0.3070 - val_loss: 1.3655 - val_acc: 0.2965\n",
      "Epoch 8/30\n",
      "7000/7000 [==============================] - 1s 96us/step - loss: 1.3657 - acc: 0.3070 - val_loss: 1.3656 - val_acc: 0.2965\n",
      "Epoch 9/30\n",
      "7000/7000 [==============================] - 1s 102us/step - loss: 1.3657 - acc: 0.3070 - val_loss: 1.3656 - val_acc: 0.2965\n",
      "Epoch 10/30\n",
      "7000/7000 [==============================] - 1s 103us/step - loss: 1.3657 - acc: 0.3070 - val_loss: 1.3657 - val_acc: 0.2965\n",
      "Epoch 11/30\n",
      "7000/7000 [==============================] - 1s 105us/step - loss: 1.3657 - acc: 0.3070 - val_loss: 1.3656 - val_acc: 0.2965\n",
      "Epoch 12/30\n",
      "7000/7000 [==============================] - 1s 97us/step - loss: 1.3657 - acc: 0.3070 - val_loss: 1.3656 - val_acc: 0.2965\n",
      "Epoch 13/30\n",
      "7000/7000 [==============================] - 1s 94us/step - loss: 1.3657 - acc: 0.3070 - val_loss: 1.3658 - val_acc: 0.2965\n",
      "Epoch 14/30\n",
      "7000/7000 [==============================] - 1s 92us/step - loss: 1.3657 - acc: 0.3070 - val_loss: 1.3654 - val_acc: 0.2965\n",
      "Epoch 15/30\n",
      "7000/7000 [==============================] - 1s 92us/step - loss: 1.3657 - acc: 0.3070 - val_loss: 1.3656 - val_acc: 0.2965\n",
      "Epoch 16/30\n",
      "7000/7000 [==============================] - 1s 94us/step - loss: 1.3657 - acc: 0.3070 - val_loss: 1.3656 - val_acc: 0.2965\n",
      "Epoch 17/30\n",
      "7000/7000 [==============================] - 1s 117us/step - loss: 1.3657 - acc: 0.3070 - val_loss: 1.3656 - val_acc: 0.2965\n",
      "Epoch 18/30\n",
      "7000/7000 [==============================] - 1s 122us/step - loss: 1.3657 - acc: 0.3070 - val_loss: 1.3657 - val_acc: 0.2965\n",
      "Epoch 19/30\n",
      "7000/7000 [==============================] - 1s 111us/step - loss: 1.3657 - acc: 0.3070 - val_loss: 1.3655 - val_acc: 0.2965\n",
      "Epoch 20/30\n",
      "7000/7000 [==============================] - 1s 105us/step - loss: 1.3657 - acc: 0.3070 - val_loss: 1.3655 - val_acc: 0.2965\n",
      "Epoch 21/30\n",
      "7000/7000 [==============================] - 1s 97us/step - loss: 1.3657 - acc: 0.3070 - val_loss: 1.3656 - val_acc: 0.2965\n",
      "Epoch 22/30\n",
      "7000/7000 [==============================] - 1s 93us/step - loss: 1.3657 - acc: 0.3070 - val_loss: 1.3657 - val_acc: 0.2965\n",
      "Epoch 23/30\n",
      "7000/7000 [==============================] - 1s 84us/step - loss: 1.3657 - acc: 0.3070 - val_loss: 1.3657 - val_acc: 0.2965\n",
      "Epoch 24/30\n",
      "7000/7000 [==============================] - 1s 84us/step - loss: 1.3657 - acc: 0.3070 - val_loss: 1.3655 - val_acc: 0.2965\n",
      "Epoch 25/30\n",
      "7000/7000 [==============================] - 1s 86us/step - loss: 1.3657 - acc: 0.3070 - val_loss: 1.3656 - val_acc: 0.2965\n",
      "Epoch 26/30\n",
      "7000/7000 [==============================] - 1s 86us/step - loss: 1.3657 - acc: 0.3070 - val_loss: 1.3657 - val_acc: 0.2965\n",
      "Epoch 27/30\n",
      "7000/7000 [==============================] - 1s 99us/step - loss: 1.3656 - acc: 0.3070 - val_loss: 1.3656 - val_acc: 0.2965\n",
      "Epoch 28/30\n",
      "7000/7000 [==============================] - 1s 103us/step - loss: 1.3657 - acc: 0.3070 - val_loss: 1.3656 - val_acc: 0.2965\n",
      "Epoch 29/30\n",
      "7000/7000 [==============================] - 1s 95us/step - loss: 1.3657 - acc: 0.3070 - val_loss: 1.3659 - val_acc: 0.2965\n",
      "Epoch 30/30\n",
      "7000/7000 [==============================] - 1s 82us/step - loss: 1.3657 - acc: 0.3070 - val_loss: 1.3658 - val_acc: 0.2965\n"
     ]
    }
   ],
   "source": [
    "history=model.fit(X_train_np,y_train_np,epochs=30,validation_data=(X_holdout_np,y_holdout_np))"
   ]
  },
  {
   "cell_type": "code",
   "execution_count": 115,
   "metadata": {},
   "outputs": [
    {
     "data": {
      "text/plain": [
       "pandas.core.series.Series"
      ]
     },
     "execution_count": 115,
     "metadata": {},
     "output_type": "execute_result"
    }
   ],
   "source": [
    "type(y_train)"
   ]
  },
  {
   "cell_type": "code",
   "execution_count": 107,
   "metadata": {},
   "outputs": [
    {
     "data": {
      "text/html": [
       "<div>\n",
       "<style scoped>\n",
       "    .dataframe tbody tr th:only-of-type {\n",
       "        vertical-align: middle;\n",
       "    }\n",
       "\n",
       "    .dataframe tbody tr th {\n",
       "        vertical-align: top;\n",
       "    }\n",
       "\n",
       "    .dataframe thead th {\n",
       "        text-align: right;\n",
       "    }\n",
       "</style>\n",
       "<table border=\"1\" class=\"dataframe\">\n",
       "  <thead>\n",
       "    <tr style=\"text-align: right;\">\n",
       "      <th></th>\n",
       "      <th>Safety_Score</th>\n",
       "      <th>Days_Since_Inspection</th>\n",
       "      <th>Total_Safety_Complaints</th>\n",
       "      <th>Control_Metric</th>\n",
       "      <th>Turbulence_In_gforces</th>\n",
       "      <th>Cabin_Temperature</th>\n",
       "      <th>Max_Elevation</th>\n",
       "      <th>Violations</th>\n",
       "      <th>Adverse_Weather_Metric</th>\n",
       "    </tr>\n",
       "  </thead>\n",
       "  <tbody>\n",
       "    <tr>\n",
       "      <th>0</th>\n",
       "      <td>49.223744</td>\n",
       "      <td>14</td>\n",
       "      <td>22</td>\n",
       "      <td>71.285324</td>\n",
       "      <td>0.272118</td>\n",
       "      <td>78.04</td>\n",
       "      <td>31335.476824</td>\n",
       "      <td>3</td>\n",
       "      <td>0.424352</td>\n",
       "    </tr>\n",
       "    <tr>\n",
       "      <th>1</th>\n",
       "      <td>62.465753</td>\n",
       "      <td>10</td>\n",
       "      <td>27</td>\n",
       "      <td>72.288058</td>\n",
       "      <td>0.423939</td>\n",
       "      <td>84.54</td>\n",
       "      <td>26024.711057</td>\n",
       "      <td>2</td>\n",
       "      <td>0.352350</td>\n",
       "    </tr>\n",
       "    <tr>\n",
       "      <th>2</th>\n",
       "      <td>63.059361</td>\n",
       "      <td>13</td>\n",
       "      <td>16</td>\n",
       "      <td>66.362808</td>\n",
       "      <td>0.322604</td>\n",
       "      <td>78.86</td>\n",
       "      <td>39269.053927</td>\n",
       "      <td>3</td>\n",
       "      <td>0.003364</td>\n",
       "    </tr>\n",
       "    <tr>\n",
       "      <th>3</th>\n",
       "      <td>48.082192</td>\n",
       "      <td>11</td>\n",
       "      <td>9</td>\n",
       "      <td>74.703737</td>\n",
       "      <td>0.337029</td>\n",
       "      <td>81.79</td>\n",
       "      <td>42771.499200</td>\n",
       "      <td>1</td>\n",
       "      <td>0.211728</td>\n",
       "    </tr>\n",
       "    <tr>\n",
       "      <th>4</th>\n",
       "      <td>26.484018</td>\n",
       "      <td>13</td>\n",
       "      <td>25</td>\n",
       "      <td>47.948952</td>\n",
       "      <td>0.541140</td>\n",
       "      <td>77.16</td>\n",
       "      <td>35509.228515</td>\n",
       "      <td>2</td>\n",
       "      <td>0.176883</td>\n",
       "    </tr>\n",
       "  </tbody>\n",
       "</table>\n",
       "</div>"
      ],
      "text/plain": [
       "   Safety_Score  Days_Since_Inspection  Total_Safety_Complaints  \\\n",
       "0     49.223744                     14                       22   \n",
       "1     62.465753                     10                       27   \n",
       "2     63.059361                     13                       16   \n",
       "3     48.082192                     11                        9   \n",
       "4     26.484018                     13                       25   \n",
       "\n",
       "   Control_Metric  Turbulence_In_gforces  Cabin_Temperature  Max_Elevation  \\\n",
       "0       71.285324               0.272118              78.04   31335.476824   \n",
       "1       72.288058               0.423939              84.54   26024.711057   \n",
       "2       66.362808               0.322604              78.86   39269.053927   \n",
       "3       74.703737               0.337029              81.79   42771.499200   \n",
       "4       47.948952               0.541140              77.16   35509.228515   \n",
       "\n",
       "   Violations  Adverse_Weather_Metric  \n",
       "0           3                0.424352  \n",
       "1           2                0.352350  \n",
       "2           3                0.003364  \n",
       "3           1                0.211728  \n",
       "4           2                0.176883  "
      ]
     },
     "execution_count": 107,
     "metadata": {},
     "output_type": "execute_result"
    }
   ],
   "source": [
    "X_np.head()"
   ]
  },
  {
   "cell_type": "code",
   "execution_count": 139,
   "metadata": {},
   "outputs": [
    {
     "data": {
      "image/png": "[encoded data removed]",
      "text/plain": [
       "<Figure size 576x360 with 1 Axes>"
      ]
     },
     "metadata": {
      "needs_background": "light"
     },
     "output_type": "display_data"
    }
   ],
   "source": [
    "pd.DataFrame(history.history).plot(figsize=(8,5))\n",
    "plt.grid(True)\n",
    "plt.gca().set_ylim(0,1)\n",
    "plt.show()"
   ]
  },
  {
   "cell_type": "code",
   "execution_count": 140,
   "metadata": {},
   "outputs": [],
   "source": [
    "nn_predict=model.predict_classes(X_test_np)"
   ]
  },
  {
   "cell_type": "code",
   "execution_count": 131,
   "metadata": {},
   "outputs": [
    {
     "data": {
      "text/plain": [
       "(9,)"
      ]
     },
     "execution_count": 131,
     "metadata": {},
     "output_type": "execute_result"
    }
   ],
   "source": [
    "X_train.shape[1:]"
   ]
  },
  {
   "cell_type": "code",
   "execution_count": 141,
   "metadata": {},
   "outputs": [
    {
     "data": {
      "text/plain": [
       "0.1442218821729151"
      ]
     },
     "execution_count": 141,
     "metadata": {},
     "output_type": "execute_result"
    }
   ],
   "source": [
    "f1_score(y_test_np,nn_predict,average='weighted')"
   ]
  }
 ],
 "metadata": {
  "kernelspec": {
   "display_name": "Python 3",
   "language": "python",
   "name": "python3"
  },
  "language_info": {
   "codemirror_mode": {
    "name": "ipython",
    "version": 3
   },
   "file_extension": ".py",
   "mimetype": "text/x-python",
   "name": "python",
   "nbconvert_exporter": "python",
   "pygments_lexer": "ipython3",
   "version": "3.7.7"
  }
 },
 "nbformat": 4,
 "nbformat_minor": 2
}
