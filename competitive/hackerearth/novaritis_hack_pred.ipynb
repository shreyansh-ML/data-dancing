{
 "cells": [
  {
   "cell_type": "code",
   "execution_count": 1,
   "metadata": {},
   "outputs": [],
   "source": [
    "import pandas as pd\n",
    "import numpy as np\n",
    "import matplotlib.pyplot as plt\n",
    "%matplotlib inline"
   ]
  },
  {
   "cell_type": "code",
   "execution_count": 110,
   "metadata": {},
   "outputs": [],
   "source": [
    "df=pd.read_csv(\"train.csv\",parse_dates=[1])\n",
    "#df=pd.read_csv(\"train.csv\")"
   ]
  },
  {
   "cell_type": "code",
   "execution_count": 111,
   "metadata": {},
   "outputs": [],
   "source": [
    "df_test=pd.read_csv(\"test.csv\",parse_dates=[1])"
   ]
  },
  {
   "cell_type": "code",
   "execution_count": 112,
   "metadata": {},
   "outputs": [
    {
     "data": {
      "text/plain": [
       "Index(['X_12'], dtype='object')"
      ]
     },
     "execution_count": 112,
     "metadata": {},
     "output_type": "execute_result"
    }
   ],
   "source": [
    "df_test.columns[df_test.isnull().any()]"
   ]
  },
  {
   "cell_type": "code",
   "execution_count": 113,
   "metadata": {},
   "outputs": [
    {
     "data": {
      "text/html": [
       "<div>\n",
       "<style scoped>\n",
       "    .dataframe tbody tr th:only-of-type {\n",
       "        vertical-align: middle;\n",
       "    }\n",
       "\n",
       "    .dataframe tbody tr th {\n",
       "        vertical-align: top;\n",
       "    }\n",
       "\n",
       "    .dataframe thead th {\n",
       "        text-align: right;\n",
       "    }\n",
       "</style>\n",
       "<table border=\"1\" class=\"dataframe\">\n",
       "  <thead>\n",
       "    <tr style=\"text-align: right;\">\n",
       "      <th></th>\n",
       "      <th>X_1</th>\n",
       "      <th>X_2</th>\n",
       "      <th>X_3</th>\n",
       "      <th>X_4</th>\n",
       "      <th>X_5</th>\n",
       "      <th>X_6</th>\n",
       "      <th>X_7</th>\n",
       "      <th>X_8</th>\n",
       "      <th>X_9</th>\n",
       "      <th>X_10</th>\n",
       "      <th>X_11</th>\n",
       "      <th>X_12</th>\n",
       "      <th>X_13</th>\n",
       "      <th>X_14</th>\n",
       "      <th>X_15</th>\n",
       "      <th>MULTIPLE_OFFENSE</th>\n",
       "    </tr>\n",
       "  </thead>\n",
       "  <tbody>\n",
       "    <tr>\n",
       "      <th>count</th>\n",
       "      <td>23856.000000</td>\n",
       "      <td>23856.000000</td>\n",
       "      <td>23856.000000</td>\n",
       "      <td>23856.000000</td>\n",
       "      <td>23856.000000</td>\n",
       "      <td>23856.000000</td>\n",
       "      <td>23856.000000</td>\n",
       "      <td>23856.000000</td>\n",
       "      <td>23856.000000</td>\n",
       "      <td>23856.000000</td>\n",
       "      <td>23856.000000</td>\n",
       "      <td>23674.000000</td>\n",
       "      <td>23856.000000</td>\n",
       "      <td>23856.000000</td>\n",
       "      <td>23856.000000</td>\n",
       "      <td>23856.000000</td>\n",
       "    </tr>\n",
       "    <tr>\n",
       "      <th>mean</th>\n",
       "      <td>0.483778</td>\n",
       "      <td>24.791206</td>\n",
       "      <td>24.637450</td>\n",
       "      <td>4.276744</td>\n",
       "      <td>2.455609</td>\n",
       "      <td>6.154175</td>\n",
       "      <td>4.876509</td>\n",
       "      <td>0.972460</td>\n",
       "      <td>4.924128</td>\n",
       "      <td>1.244802</td>\n",
       "      <td>206.954519</td>\n",
       "      <td>0.974064</td>\n",
       "      <td>85.237383</td>\n",
       "      <td>72.674296</td>\n",
       "      <td>33.464747</td>\n",
       "      <td>0.955231</td>\n",
       "    </tr>\n",
       "    <tr>\n",
       "      <th>std</th>\n",
       "      <td>1.439738</td>\n",
       "      <td>15.240231</td>\n",
       "      <td>15.135093</td>\n",
       "      <td>2.944672</td>\n",
       "      <td>1.963095</td>\n",
       "      <td>4.471756</td>\n",
       "      <td>3.881931</td>\n",
       "      <td>1.453144</td>\n",
       "      <td>1.362625</td>\n",
       "      <td>1.119301</td>\n",
       "      <td>93.033348</td>\n",
       "      <td>1.167725</td>\n",
       "      <td>27.597226</td>\n",
       "      <td>43.297320</td>\n",
       "      <td>8.386834</td>\n",
       "      <td>0.206800</td>\n",
       "    </tr>\n",
       "    <tr>\n",
       "      <th>min</th>\n",
       "      <td>0.000000</td>\n",
       "      <td>0.000000</td>\n",
       "      <td>0.000000</td>\n",
       "      <td>0.000000</td>\n",
       "      <td>0.000000</td>\n",
       "      <td>1.000000</td>\n",
       "      <td>0.000000</td>\n",
       "      <td>0.000000</td>\n",
       "      <td>0.000000</td>\n",
       "      <td>1.000000</td>\n",
       "      <td>0.000000</td>\n",
       "      <td>0.000000</td>\n",
       "      <td>0.000000</td>\n",
       "      <td>0.000000</td>\n",
       "      <td>0.000000</td>\n",
       "      <td>0.000000</td>\n",
       "    </tr>\n",
       "    <tr>\n",
       "      <th>25%</th>\n",
       "      <td>0.000000</td>\n",
       "      <td>7.000000</td>\n",
       "      <td>8.000000</td>\n",
       "      <td>2.000000</td>\n",
       "      <td>1.000000</td>\n",
       "      <td>3.000000</td>\n",
       "      <td>2.000000</td>\n",
       "      <td>0.000000</td>\n",
       "      <td>5.000000</td>\n",
       "      <td>1.000000</td>\n",
       "      <td>174.000000</td>\n",
       "      <td>1.000000</td>\n",
       "      <td>72.000000</td>\n",
       "      <td>29.000000</td>\n",
       "      <td>34.000000</td>\n",
       "      <td>1.000000</td>\n",
       "    </tr>\n",
       "    <tr>\n",
       "      <th>50%</th>\n",
       "      <td>0.000000</td>\n",
       "      <td>24.000000</td>\n",
       "      <td>24.000000</td>\n",
       "      <td>4.000000</td>\n",
       "      <td>3.000000</td>\n",
       "      <td>5.000000</td>\n",
       "      <td>4.000000</td>\n",
       "      <td>1.000000</td>\n",
       "      <td>5.000000</td>\n",
       "      <td>1.000000</td>\n",
       "      <td>249.000000</td>\n",
       "      <td>1.000000</td>\n",
       "      <td>98.000000</td>\n",
       "      <td>62.000000</td>\n",
       "      <td>34.000000</td>\n",
       "      <td>1.000000</td>\n",
       "    </tr>\n",
       "    <tr>\n",
       "      <th>75%</th>\n",
       "      <td>0.000000</td>\n",
       "      <td>36.000000</td>\n",
       "      <td>35.000000</td>\n",
       "      <td>6.000000</td>\n",
       "      <td>5.000000</td>\n",
       "      <td>8.000000</td>\n",
       "      <td>7.000000</td>\n",
       "      <td>1.000000</td>\n",
       "      <td>6.000000</td>\n",
       "      <td>1.000000</td>\n",
       "      <td>249.000000</td>\n",
       "      <td>1.000000</td>\n",
       "      <td>103.000000</td>\n",
       "      <td>107.000000</td>\n",
       "      <td>34.000000</td>\n",
       "      <td>1.000000</td>\n",
       "    </tr>\n",
       "    <tr>\n",
       "      <th>max</th>\n",
       "      <td>7.000000</td>\n",
       "      <td>52.000000</td>\n",
       "      <td>52.000000</td>\n",
       "      <td>10.000000</td>\n",
       "      <td>5.000000</td>\n",
       "      <td>19.000000</td>\n",
       "      <td>18.000000</td>\n",
       "      <td>99.000000</td>\n",
       "      <td>6.000000</td>\n",
       "      <td>90.000000</td>\n",
       "      <td>332.000000</td>\n",
       "      <td>90.000000</td>\n",
       "      <td>116.000000</td>\n",
       "      <td>142.000000</td>\n",
       "      <td>50.000000</td>\n",
       "      <td>1.000000</td>\n",
       "    </tr>\n",
       "  </tbody>\n",
       "</table>\n",
       "</div>"
      ],
      "text/plain": [
       "                X_1           X_2           X_3           X_4           X_5  \\\n",
       "count  23856.000000  23856.000000  23856.000000  23856.000000  23856.000000   \n",
       "mean       0.483778     24.791206     24.637450      4.276744      2.455609   \n",
       "std        1.439738     15.240231     15.135093      2.944672      1.963095   \n",
       "min        0.000000      0.000000      0.000000      0.000000      0.000000   \n",
       "25%        0.000000      7.000000      8.000000      2.000000      1.000000   \n",
       "50%        0.000000     24.000000     24.000000      4.000000      3.000000   \n",
       "75%        0.000000     36.000000     35.000000      6.000000      5.000000   \n",
       "max        7.000000     52.000000     52.000000     10.000000      5.000000   \n",
       "\n",
       "                X_6           X_7           X_8           X_9          X_10  \\\n",
       "count  23856.000000  23856.000000  23856.000000  23856.000000  23856.000000   \n",
       "mean       6.154175      4.876509      0.972460      4.924128      1.244802   \n",
       "std        4.471756      3.881931      1.453144      1.362625      1.119301   \n",
       "min        1.000000      0.000000      0.000000      0.000000      1.000000   \n",
       "25%        3.000000      2.000000      0.000000      5.000000      1.000000   \n",
       "50%        5.000000      4.000000      1.000000      5.000000      1.000000   \n",
       "75%        8.000000      7.000000      1.000000      6.000000      1.000000   \n",
       "max       19.000000     18.000000     99.000000      6.000000     90.000000   \n",
       "\n",
       "               X_11          X_12          X_13          X_14          X_15  \\\n",
       "count  23856.000000  23674.000000  23856.000000  23856.000000  23856.000000   \n",
       "mean     206.954519      0.974064     85.237383     72.674296     33.464747   \n",
       "std       93.033348      1.167725     27.597226     43.297320      8.386834   \n",
       "min        0.000000      0.000000      0.000000      0.000000      0.000000   \n",
       "25%      174.000000      1.000000     72.000000     29.000000     34.000000   \n",
       "50%      249.000000      1.000000     98.000000     62.000000     34.000000   \n",
       "75%      249.000000      1.000000    103.000000    107.000000     34.000000   \n",
       "max      332.000000     90.000000    116.000000    142.000000     50.000000   \n",
       "\n",
       "       MULTIPLE_OFFENSE  \n",
       "count      23856.000000  \n",
       "mean           0.955231  \n",
       "std            0.206800  \n",
       "min            0.000000  \n",
       "25%            1.000000  \n",
       "50%            1.000000  \n",
       "75%            1.000000  \n",
       "max            1.000000  "
      ]
     },
     "execution_count": 113,
     "metadata": {},
     "output_type": "execute_result"
    }
   ],
   "source": [
    "df.describe()"
   ]
  },
  {
   "cell_type": "code",
   "execution_count": 6,
   "metadata": {},
   "outputs": [
    {
     "data": {
      "text/html": [
       "<div>\n",
       "<style scoped>\n",
       "    .dataframe tbody tr th:only-of-type {\n",
       "        vertical-align: middle;\n",
       "    }\n",
       "\n",
       "    .dataframe tbody tr th {\n",
       "        vertical-align: top;\n",
       "    }\n",
       "\n",
       "    .dataframe thead th {\n",
       "        text-align: right;\n",
       "    }\n",
       "</style>\n",
       "<table border=\"1\" class=\"dataframe\">\n",
       "  <thead>\n",
       "    <tr style=\"text-align: right;\">\n",
       "      <th></th>\n",
       "      <th>INCIDENT_ID</th>\n",
       "      <th>DATE</th>\n",
       "      <th>X_1</th>\n",
       "      <th>X_2</th>\n",
       "      <th>X_3</th>\n",
       "      <th>X_4</th>\n",
       "      <th>X_5</th>\n",
       "      <th>X_6</th>\n",
       "      <th>X_7</th>\n",
       "      <th>X_8</th>\n",
       "      <th>X_9</th>\n",
       "      <th>X_10</th>\n",
       "      <th>X_11</th>\n",
       "      <th>X_12</th>\n",
       "      <th>X_13</th>\n",
       "      <th>X_14</th>\n",
       "      <th>X_15</th>\n",
       "      <th>MULTIPLE_OFFENSE</th>\n",
       "    </tr>\n",
       "  </thead>\n",
       "  <tbody>\n",
       "    <tr>\n",
       "      <th>0</th>\n",
       "      <td>CR_102659</td>\n",
       "      <td>2004-07-04</td>\n",
       "      <td>0</td>\n",
       "      <td>36</td>\n",
       "      <td>34</td>\n",
       "      <td>2</td>\n",
       "      <td>1</td>\n",
       "      <td>5</td>\n",
       "      <td>6</td>\n",
       "      <td>1</td>\n",
       "      <td>6</td>\n",
       "      <td>1</td>\n",
       "      <td>174</td>\n",
       "      <td>1.0</td>\n",
       "      <td>92</td>\n",
       "      <td>29</td>\n",
       "      <td>36</td>\n",
       "      <td>0</td>\n",
       "    </tr>\n",
       "    <tr>\n",
       "      <th>1</th>\n",
       "      <td>CR_189752</td>\n",
       "      <td>2017-07-18</td>\n",
       "      <td>1</td>\n",
       "      <td>37</td>\n",
       "      <td>37</td>\n",
       "      <td>0</td>\n",
       "      <td>0</td>\n",
       "      <td>11</td>\n",
       "      <td>17</td>\n",
       "      <td>1</td>\n",
       "      <td>6</td>\n",
       "      <td>1</td>\n",
       "      <td>236</td>\n",
       "      <td>1.0</td>\n",
       "      <td>103</td>\n",
       "      <td>142</td>\n",
       "      <td>34</td>\n",
       "      <td>1</td>\n",
       "    </tr>\n",
       "    <tr>\n",
       "      <th>2</th>\n",
       "      <td>CR_184637</td>\n",
       "      <td>2017-03-15</td>\n",
       "      <td>0</td>\n",
       "      <td>3</td>\n",
       "      <td>2</td>\n",
       "      <td>3</td>\n",
       "      <td>5</td>\n",
       "      <td>1</td>\n",
       "      <td>0</td>\n",
       "      <td>2</td>\n",
       "      <td>3</td>\n",
       "      <td>1</td>\n",
       "      <td>174</td>\n",
       "      <td>1.0</td>\n",
       "      <td>110</td>\n",
       "      <td>93</td>\n",
       "      <td>34</td>\n",
       "      <td>1</td>\n",
       "    </tr>\n",
       "    <tr>\n",
       "      <th>3</th>\n",
       "      <td>CR_139071</td>\n",
       "      <td>2009-02-13</td>\n",
       "      <td>0</td>\n",
       "      <td>33</td>\n",
       "      <td>32</td>\n",
       "      <td>2</td>\n",
       "      <td>1</td>\n",
       "      <td>7</td>\n",
       "      <td>1</td>\n",
       "      <td>1</td>\n",
       "      <td>6</td>\n",
       "      <td>1</td>\n",
       "      <td>249</td>\n",
       "      <td>1.0</td>\n",
       "      <td>72</td>\n",
       "      <td>29</td>\n",
       "      <td>34</td>\n",
       "      <td>1</td>\n",
       "    </tr>\n",
       "    <tr>\n",
       "      <th>4</th>\n",
       "      <td>CR_109335</td>\n",
       "      <td>2005-04-13</td>\n",
       "      <td>0</td>\n",
       "      <td>33</td>\n",
       "      <td>32</td>\n",
       "      <td>2</td>\n",
       "      <td>1</td>\n",
       "      <td>8</td>\n",
       "      <td>3</td>\n",
       "      <td>0</td>\n",
       "      <td>5</td>\n",
       "      <td>1</td>\n",
       "      <td>174</td>\n",
       "      <td>0.0</td>\n",
       "      <td>112</td>\n",
       "      <td>29</td>\n",
       "      <td>43</td>\n",
       "      <td>1</td>\n",
       "    </tr>\n",
       "  </tbody>\n",
       "</table>\n",
       "</div>"
      ],
      "text/plain": [
       "  INCIDENT_ID       DATE  X_1  X_2  X_3  X_4  X_5  X_6  X_7  X_8  X_9  X_10  \\\n",
       "0   CR_102659 2004-07-04    0   36   34    2    1    5    6    1    6     1   \n",
       "1   CR_189752 2017-07-18    1   37   37    0    0   11   17    1    6     1   \n",
       "2   CR_184637 2017-03-15    0    3    2    3    5    1    0    2    3     1   \n",
       "3   CR_139071 2009-02-13    0   33   32    2    1    7    1    1    6     1   \n",
       "4   CR_109335 2005-04-13    0   33   32    2    1    8    3    0    5     1   \n",
       "\n",
       "   X_11  X_12  X_13  X_14  X_15  MULTIPLE_OFFENSE  \n",
       "0   174   1.0    92    29    36                 0  \n",
       "1   236   1.0   103   142    34                 1  \n",
       "2   174   1.0   110    93    34                 1  \n",
       "3   249   1.0    72    29    34                 1  \n",
       "4   174   0.0   112    29    43                 1  "
      ]
     },
     "execution_count": 6,
     "metadata": {},
     "output_type": "execute_result"
    }
   ],
   "source": [
    "df.head()"
   ]
  },
  {
   "cell_type": "code",
   "execution_count": 7,
   "metadata": {},
   "outputs": [
    {
     "name": "stdout",
     "output_type": "stream",
     "text": [
      "<class 'pandas.core.frame.DataFrame'>\n",
      "RangeIndex: 23856 entries, 0 to 23855\n",
      "Data columns (total 18 columns):\n",
      " #   Column            Non-Null Count  Dtype         \n",
      "---  ------            --------------  -----         \n",
      " 0   INCIDENT_ID       23856 non-null  object        \n",
      " 1   DATE              23856 non-null  datetime64[ns]\n",
      " 2   X_1               23856 non-null  int64         \n",
      " 3   X_2               23856 non-null  int64         \n",
      " 4   X_3               23856 non-null  int64         \n",
      " 5   X_4               23856 non-null  int64         \n",
      " 6   X_5               23856 non-null  int64         \n",
      " 7   X_6               23856 non-null  int64         \n",
      " 8   X_7               23856 non-null  int64         \n",
      " 9   X_8               23856 non-null  int64         \n",
      " 10  X_9               23856 non-null  int64         \n",
      " 11  X_10              23856 non-null  int64         \n",
      " 12  X_11              23856 non-null  int64         \n",
      " 13  X_12              23674 non-null  float64       \n",
      " 14  X_13              23856 non-null  int64         \n",
      " 15  X_14              23856 non-null  int64         \n",
      " 16  X_15              23856 non-null  int64         \n",
      " 17  MULTIPLE_OFFENSE  23856 non-null  int64         \n",
      "dtypes: datetime64[ns](1), float64(1), int64(15), object(1)\n",
      "memory usage: 3.3+ MB\n"
     ]
    }
   ],
   "source": [
    "df.info()"
   ]
  },
  {
   "cell_type": "code",
   "execution_count": 8,
   "metadata": {},
   "outputs": [
    {
     "data": {
      "text/plain": [
       "int64             15\n",
       "float64            1\n",
       "datetime64[ns]     1\n",
       "object             1\n",
       "dtype: int64"
      ]
     },
     "execution_count": 8,
     "metadata": {},
     "output_type": "execute_result"
    }
   ],
   "source": [
    "df.dtypes.value_counts()"
   ]
  },
  {
   "cell_type": "code",
   "execution_count": 9,
   "metadata": {},
   "outputs": [],
   "source": [
    "df_org=df.copy()"
   ]
  },
  {
   "cell_type": "code",
   "execution_count": 10,
   "metadata": {},
   "outputs": [],
   "source": [
    "from sklearn.impute import SimpleImputer"
   ]
  },
  {
   "cell_type": "code",
   "execution_count": 114,
   "metadata": {},
   "outputs": [],
   "source": [
    "SI=SimpleImputer()"
   ]
  },
  {
   "cell_type": "code",
   "execution_count": 115,
   "metadata": {},
   "outputs": [
    {
     "data": {
      "text/plain": [
       "SimpleImputer()"
      ]
     },
     "execution_count": 115,
     "metadata": {},
     "output_type": "execute_result"
    }
   ],
   "source": [
    "SI.fit(df[['X_12']])"
   ]
  },
  {
   "cell_type": "code",
   "execution_count": 116,
   "metadata": {},
   "outputs": [],
   "source": [
    "df['X_12']=SI.transform(df[['X_12']])"
   ]
  },
  {
   "cell_type": "code",
   "execution_count": 117,
   "metadata": {},
   "outputs": [],
   "source": [
    "df_test['X_12']=SI.transform(df_test[['X_12']])"
   ]
  },
  {
   "cell_type": "code",
   "execution_count": 118,
   "metadata": {},
   "outputs": [
    {
     "data": {
      "text/plain": [
       "Index([], dtype='object')"
      ]
     },
     "execution_count": 118,
     "metadata": {},
     "output_type": "execute_result"
    }
   ],
   "source": [
    "df_test.columns[df_test.isnull().any()]"
   ]
  },
  {
   "cell_type": "code",
   "execution_count": 16,
   "metadata": {},
   "outputs": [],
   "source": [
    "def summary(df):\n",
    "    columns1=list([df.columns])\n",
    "    unique_values=[]\n",
    "    null_values=[]\n",
    "    \n",
    "    for col in df.columns:\n",
    "        unique_values.append(df[col].nunique())\n",
    "        null_values.append(df[col].isnull().sum())\n",
    "        \n",
    "    df_summary=pd.DataFrame([columns1,unique_values,null_values],columns=['col_name,unique_val,null_val'])\n",
    "    return df_summary"
   ]
  },
  {
   "cell_type": "code",
   "execution_count": 17,
   "metadata": {},
   "outputs": [],
   "source": [
    "#df_summary=summary(df)"
   ]
  },
  {
   "cell_type": "code",
   "execution_count": 119,
   "metadata": {},
   "outputs": [],
   "source": [
    "X=df.drop(columns=['DATE','MULTIPLE_OFFENSE','INCIDENT_ID'],axis=1)"
   ]
  },
  {
   "cell_type": "code",
   "execution_count": 120,
   "metadata": {},
   "outputs": [],
   "source": [
    "X=X.astype('float64')"
   ]
  },
  {
   "cell_type": "code",
   "execution_count": 121,
   "metadata": {},
   "outputs": [],
   "source": [
    "test_inident_id=df_test['INCIDENT_ID']"
   ]
  },
  {
   "cell_type": "code",
   "execution_count": 122,
   "metadata": {},
   "outputs": [],
   "source": [
    "df_test=df_test.drop(columns=['DATE','INCIDENT_ID'])"
   ]
  },
  {
   "cell_type": "code",
   "execution_count": 123,
   "metadata": {},
   "outputs": [],
   "source": [
    "df_test=df_test.astype('float64')"
   ]
  },
  {
   "cell_type": "code",
   "execution_count": 124,
   "metadata": {},
   "outputs": [],
   "source": [
    "y=df['MULTIPLE_OFFENSE']"
   ]
  },
  {
   "cell_type": "code",
   "execution_count": 125,
   "metadata": {},
   "outputs": [],
   "source": [
    "from sklearn.preprocessing import StandardScaler\n",
    "from sklearn.model_selection import train_test_split"
   ]
  },
  {
   "cell_type": "code",
   "execution_count": 126,
   "metadata": {},
   "outputs": [],
   "source": [
    "ss=StandardScaler()\n",
    "ss.fit(X)\n",
    "X_cols=list(X.columns)\n",
    "X=ss.transform(X)"
   ]
  },
  {
   "cell_type": "code",
   "execution_count": 127,
   "metadata": {},
   "outputs": [
    {
     "data": {
      "text/plain": [
       "array([[-0.33602492,  0.73548947,  0.61861178, ...,  0.24505213,\n",
       "        -1.00872781,  0.30229601],\n",
       "       [ 0.35856051,  0.80110665,  0.81683078, ...,  0.64365126,\n",
       "         1.60118818,  0.06382199],\n",
       "       [-0.33602492, -1.42987743, -1.4957242 , ...,  0.89730526,\n",
       "         0.46945469,  0.06382199],\n",
       "       ...,\n",
       "       [-0.33602492,  0.0137005 ,  0.02395479, ..., -2.72632324,\n",
       "        -1.00872781, -1.84397015],\n",
       "       [-0.33602492,  0.932341  ,  0.94897678, ...,  0.96977783,\n",
       "         0.70042071,  1.13695506],\n",
       "       [ 4.52607309,  0.73548947,  0.61861178, ...,  0.24505213,\n",
       "        -1.00872781,  0.06382199]])"
      ]
     },
     "execution_count": 127,
     "metadata": {},
     "output_type": "execute_result"
    }
   ],
   "source": [
    "X"
   ]
  },
  {
   "cell_type": "code",
   "execution_count": 128,
   "metadata": {},
   "outputs": [],
   "source": [
    "ss_test=StandardScaler()\n",
    "ss_test.fit(df_test)\n",
    "df_cols=list(df.columns)\n",
    "df_test=ss_test.transform(df_test)\n",
    "#df_test=ss.transform(df_test)"
   ]
  },
  {
   "cell_type": "code",
   "execution_count": 129,
   "metadata": {},
   "outputs": [
    {
     "data": {
      "text/plain": [
       "array([[-0.33149102,  0.3465487 ,  0.68916296, ..., -0.47981008,\n",
       "         1.07699829, -1.25362   ],\n",
       "       [-0.33149102,  1.26588593,  1.28412657, ..., -2.66223712,\n",
       "        -0.99497464,  0.06944597],\n",
       "       [-0.33149102,  0.60921648,  0.55694882, ..., -0.47981008,\n",
       "        -1.66261037,  0.06944597],\n",
       "       ...,\n",
       "       [-0.33149102,  0.08388092,  0.16030642, ..., -0.47981008,\n",
       "        -0.23525123,  0.06944597],\n",
       "       [-0.33149102, -0.2444538 , -0.10412185, ...,  0.2476656 ,\n",
       "        -0.23525123,  0.06944597],\n",
       "       [-0.33149102, -1.36079186, -1.36015614, ..., -0.47981008,\n",
       "        -0.99497464,  0.06944597]])"
      ]
     },
     "execution_count": 129,
     "metadata": {},
     "output_type": "execute_result"
    }
   ],
   "source": [
    "df_test"
   ]
  },
  {
   "cell_type": "code",
   "execution_count": 130,
   "metadata": {},
   "outputs": [],
   "source": [
    "oversample = SMOTE(random_state=42)\n",
    "X, y = oversample.fit_resample(X,y)"
   ]
  },
  {
   "cell_type": "code",
   "execution_count": 131,
   "metadata": {},
   "outputs": [],
   "source": [
    "mu, sigma = 0, 0.1 \n",
    "noise = np.random.normal(mu, sigma, [X.shape[0],X.shape[1]])"
   ]
  },
  {
   "cell_type": "code",
   "execution_count": 132,
   "metadata": {},
   "outputs": [],
   "source": [
    "X_noise=X+noise"
   ]
  },
  {
   "cell_type": "code",
   "execution_count": 133,
   "metadata": {},
   "outputs": [],
   "source": [
    "X_noise_train,X_noise_test,X_train_enc,X_test_enc=train_test_split(X_noise,X,test_size=.2)"
   ]
  },
  {
   "cell_type": "code",
   "execution_count": 134,
   "metadata": {},
   "outputs": [],
   "source": [
    "X_train,X_test,y_train,y_test=train_test_split(X,y,test_size=.2)\n",
    "#X_val,X_test,y_val,y_test=train_test_split(X_test,y_test,test_size=.5)"
   ]
  },
  {
   "cell_type": "code",
   "execution_count": 135,
   "metadata": {},
   "outputs": [],
   "source": [
    "X_val,X_test,y_val,y_test=train_test_split(X_test,y_test,test_size=.5)"
   ]
  },
  {
   "cell_type": "code",
   "execution_count": 31,
   "metadata": {},
   "outputs": [],
   "source": [
    "from sklearn.ensemble import RandomForestClassifier"
   ]
  },
  {
   "cell_type": "code",
   "execution_count": 32,
   "metadata": {},
   "outputs": [
    {
     "data": {
      "text/plain": [
       "RandomForestClassifier()"
      ]
     },
     "execution_count": 32,
     "metadata": {},
     "output_type": "execute_result"
    }
   ],
   "source": [
    "rfc=RandomForestClassifier()\n",
    "rfc.fit(X_train,y_train)"
   ]
  },
  {
   "cell_type": "code",
   "execution_count": 33,
   "metadata": {},
   "outputs": [],
   "source": [
    "y_test_predict=rfc.predict(X_test)"
   ]
  },
  {
   "cell_type": "code",
   "execution_count": 34,
   "metadata": {},
   "outputs": [],
   "source": [
    "from sklearn.metrics import recall_score"
   ]
  },
  {
   "cell_type": "code",
   "execution_count": 35,
   "metadata": {},
   "outputs": [],
   "source": [
    "from xgboost import XGBClassifier\n",
    "from sklearn.model_selection import GridSearchCV"
   ]
  },
  {
   "cell_type": "code",
   "execution_count": 36,
   "metadata": {},
   "outputs": [],
   "source": [
    "#XGB_model=Grid_XGB.best_estimator_"
   ]
  },
  {
   "cell_type": "code",
   "execution_count": 37,
   "metadata": {},
   "outputs": [],
   "source": [
    "def GridSearchXGBC(X_train,y_train,lr=.3,trees=50,cv=10):\n",
    "    #XGB_classifier_param={'learning_rate':learning_rate_val,'subsample':subsample_val,'colsample_bytree':colsample_bytree_val}\n",
    "    base_XGBC=XGBClassifier(objective='binary:logistic',eval_metric='auc',booster='gbtree',n_estimators=trees,silent=0,learning_rate=lr,min_child_weight=1,max_depth=6,gamma=0,max_delta_setp=0,colsample_bytree=1)\n",
    "    #max_depth_val=[100]\n",
    "    max_depth_val=[10,30,50,70,90,20]\n",
    "    #min_child_weight_val=[1]\n",
    "    min_child_weight_val=[1,2,4,8] #equivalent of min_child_leaf in GBM\n",
    "    #eta=learning_rate\n",
    "    first_tuning={'max_depth':max_depth_val,'min_child_weight':min_child_weight_val}\n",
    "    grid_model=GridSearchCV(estimator=base_XGBC,param_grid=first_tuning,cv=cv)\n",
    "    grid_model.fit(X_train,y_train)\n",
    "    #learning-rate=2-10/num of trees\n",
    "    learning_rate_val=[.2,.1,.05,.02,.01]\n",
    "    #learning_rate_val=[.2,.1]\n",
    "    n_estimators_val=[50,100,200,400,500,800,1000]\n",
    "    #n_estimators_val=[100,200]\n",
    "    second_tuning={'learning_rate':learning_rate_val,'n_estimators':n_estimators_val}\n",
    "    final_model=GridSearchCV(estimator=grid_model.best_estimator_,param_grid=second_tuning,cv=cv)\n",
    "    final_model.fit(X_train,y_train)\n",
    "    return final_model"
   ]
  },
  {
   "cell_type": "code",
   "execution_count": 38,
   "metadata": {},
   "outputs": [],
   "source": [
    "Grid_XGB=GridSearchXGBC(X_train,y_train,cv=3)"
   ]
  },
  {
   "cell_type": "code",
   "execution_count": 39,
   "metadata": {},
   "outputs": [],
   "source": [
    "XGB_model=Grid_XGB.best_estimator_"
   ]
  },
  {
   "cell_type": "code",
   "execution_count": 40,
   "metadata": {},
   "outputs": [
    {
     "data": {
      "text/plain": [
       "XGBClassifier(eval_metric='auc', learning_rate=0.05, max_delta_setp=0,\n",
       "              max_depth=30, n_estimators=800, silent=0)"
      ]
     },
     "execution_count": 40,
     "metadata": {},
     "output_type": "execute_result"
    }
   ],
   "source": [
    "XGB_model.fit(X_train,y_train)"
   ]
  },
  {
   "cell_type": "code",
   "execution_count": 41,
   "metadata": {},
   "outputs": [],
   "source": [
    "XGB_pred=XGB_model.predict(df_test)"
   ]
  },
  {
   "cell_type": "code",
   "execution_count": 42,
   "metadata": {},
   "outputs": [],
   "source": [
    "y_upload=rfc.predict(df_test)"
   ]
  },
  {
   "cell_type": "code",
   "execution_count": 43,
   "metadata": {},
   "outputs": [
    {
     "data": {
      "text/plain": [
       "array([[-0.33602492, -0.44561975, -0.43855621, ...,  0.64365126,\n",
       "         1.60118818,  0.06382199],\n",
       "       [-0.33602492,  0.99795818,  1.01504978, ...,  0.64365126,\n",
       "         0.46945469,  0.06382199],\n",
       "       [-0.33602492,  1.2604269 ,  1.27934178, ..., -1.8566524 ,\n",
       "        -1.00872781, -3.9902363 ],\n",
       "       ...,\n",
       "       [-0.33602492, -0.11753386, -0.24033721, ..., -2.65385067,\n",
       "         0.16919887,  0.06382199],\n",
       "       [-0.33602492, -0.44561975, -0.43855621, ...,  0.64365126,\n",
       "        -1.00872781,  0.06382199],\n",
       "       [ 0.35856051, -0.57685411, -0.63677521, ...,  0.06387071,\n",
       "         1.60118818,  0.06382199]])"
      ]
     },
     "execution_count": 43,
     "metadata": {},
     "output_type": "execute_result"
    }
   ],
   "source": [
    "X_train"
   ]
  },
  {
   "cell_type": "code",
   "execution_count": 44,
   "metadata": {},
   "outputs": [
    {
     "data": {
      "text/plain": [
       "(19084, 15)"
      ]
     },
     "execution_count": 44,
     "metadata": {},
     "output_type": "execute_result"
    }
   ],
   "source": [
    "X_train.shape"
   ]
  },
  {
   "cell_type": "code",
   "execution_count": 45,
   "metadata": {},
   "outputs": [
    {
     "name": "stderr",
     "output_type": "stream",
     "text": [
      "Using TensorFlow backend.\n"
     ]
    }
   ],
   "source": [
    "from keras import models\n",
    "from keras import layers"
   ]
  },
  {
   "cell_type": "markdown",
   "metadata": {},
   "source": [
    "network=models.Sequential()\n",
    "network.add(layers.Dense(512,activation='relu',name='layer1',input_shape=(15,)))\n",
    "network.add(layers.Dense(1,activation='sigmoid'))"
   ]
  },
  {
   "cell_type": "code",
   "execution_count": 46,
   "metadata": {},
   "outputs": [
    {
     "data": {
      "text/plain": [
       "array([1, 1, 1, ..., 1, 1, 1], dtype=int64)"
      ]
     },
     "execution_count": 46,
     "metadata": {},
     "output_type": "execute_result"
    }
   ],
   "source": [
    "XGB_pred"
   ]
  },
  {
   "cell_type": "code",
   "execution_count": 47,
   "metadata": {},
   "outputs": [],
   "source": [
    "#datadict={'INCIDENT_ID':test_inident_id,'MULTIPLE_OFFENSE':y_nn_pred[:,0]}"
   ]
  },
  {
   "cell_type": "code",
   "execution_count": null,
   "metadata": {},
   "outputs": [],
   "source": []
  },
  {
   "cell_type": "code",
   "execution_count": 48,
   "metadata": {},
   "outputs": [
    {
     "ename": "NameError",
     "evalue": "name 'datadict' is not defined",
     "output_type": "error",
     "traceback": [
      "\u001b[1;31m---------------------------------------------------------------------------\u001b[0m",
      "\u001b[1;31mNameError\u001b[0m                                 Traceback (most recent call last)",
      "\u001b[1;32m<ipython-input-48-58179f41478b>\u001b[0m in \u001b[0;36m<module>\u001b[1;34m\u001b[0m\n\u001b[1;32m----> 1\u001b[1;33m \u001b[0mupload\u001b[0m\u001b[1;33m=\u001b[0m\u001b[0mpd\u001b[0m\u001b[1;33m.\u001b[0m\u001b[0mDataFrame\u001b[0m\u001b[1;33m(\u001b[0m\u001b[0mdata\u001b[0m\u001b[1;33m=\u001b[0m\u001b[0mdatadict\u001b[0m\u001b[1;33m)\u001b[0m\u001b[1;33m\u001b[0m\u001b[1;33m\u001b[0m\u001b[0m\n\u001b[0m",
      "\u001b[1;31mNameError\u001b[0m: name 'datadict' is not defined"
     ]
    }
   ],
   "source": [
    "#upload=pd.DataFrame(data=datadict)"
   ]
  },
  {
   "cell_type": "code",
   "execution_count": null,
   "metadata": {},
   "outputs": [],
   "source": []
  },
  {
   "cell_type": "code",
   "execution_count": null,
   "metadata": {},
   "outputs": [],
   "source": [
    "#upload"
   ]
  },
  {
   "cell_type": "code",
   "execution_count": 49,
   "metadata": {},
   "outputs": [],
   "source": [
    "#upload.to_csv(\"hacking_incidence_NN2.csv\")"
   ]
  },
  {
   "cell_type": "code",
   "execution_count": null,
   "metadata": {},
   "outputs": [],
   "source": []
  },
  {
   "cell_type": "code",
   "execution_count": 50,
   "metadata": {},
   "outputs": [],
   "source": [
    "from keras.models import Sequential\n",
    "from keras.layers import Dense,Dropout,Flatten\n",
    "from keras.wrappers.scikit_learn import KerasClassifier\n",
    "from keras import losses\n",
    "from keras import metrics\n",
    "from keras import optimizers,initializers,activations\n",
    "import tensorflow as tf\n",
    "import keras\n",
    "#from keras import lecun_uniform"
   ]
  },
  {
   "cell_type": "code",
   "execution_count": 51,
   "metadata": {},
   "outputs": [
    {
     "data": {
      "text/plain": [
       "<keras.initializers.Initializer at 0x204779342c8>"
      ]
     },
     "execution_count": 51,
     "metadata": {},
     "output_type": "execute_result"
    }
   ],
   "source": [
    "initializers.Initializer()"
   ]
  },
  {
   "cell_type": "markdown",
   "metadata": {},
   "source": [
    "seq=Sequential()\n",
    "seq.add(16,kernel_initializer=tf.keras.initializers.lecun_uniform,activation='elu',input_shape=(),name='layer1')\n",
    "#seq.add(8,kernel_initializer='lecun_uniform',activation='elu',name='layer2')\n",
    "#seq.add(4,kernel_initializer='lecun_uniform',activation='elu',name='layer3')\n",
    "seq.add(1,kernel_initializer='glorot_uniform',activation='sigmoid',name='layer4')\n",
    "#seq.compile(optimizer=optimizers.RMSprop(lr=0.001),loss=losses.binary_crossentropy,metrics=[metrics.binary_accuracy])\n",
    "#history = model.fit(X_train, y_train, validation_data=(X_val, Y_val))"
   ]
  },
  {
   "cell_type": "markdown",
   "metadata": {},
   "source": [
    "seq=Sequential()\n",
    "seq.add(Dense(32,activation=activations.relu,input_shape=(15,),name='layer1'))\n",
    "seq.add(layers.Dropout(0.5))\n",
    "seq.add(Dense(64,activation=activations.relu,input_shape=(15,),name='layer1_1'))\n",
    "seq.add(layers.Dropout(0.5))\n",
    "seq.add(Dense(128,activation=activations.relu,input_shape=(15,),name='layer1_2'))\n",
    "seq.add(layers.Dropout(0.5))\n",
    "seq.add(Dense(64,activation=activations.relu,input_shape=(15,),name='layer1_3'))\n",
    "seq.add(layers.Dropout(0.5))\n",
    "seq.add(Dense(32,activation=activations.relu,input_shape=(15,),name='layer1_4'))\n",
    "seq.add(layers.Dropout(0.5))\n",
    "seq.add(Dense(16,activation=activations.relu,input_shape=(15,),name='layer1_5'))\n",
    "seq.add(layers.Dropout(0.5))\n",
    "seq.add(Dense(8,activation=activations.relu,name='layer2'))\n",
    "seq.add(layers.Dropout(0.5))\n",
    "seq.add(Dense(4,activation='elu',name='layer3'))\n",
    "seq.add(Dense(1,activation='sigmoid',name='layer4'))\n",
    "seq.compile(optimizer=optimizers.RMSprop(lr=0.001),loss=losses.binary_crossentropy,metrics=[metrics.binary_accuracy])\n",
    "history = seq.fit(X_train, y_train, validation_data=(X_val, y_val),epochs=80)"
   ]
  },
  {
   "cell_type": "code",
   "execution_count": 52,
   "metadata": {},
   "outputs": [],
   "source": [
    "val=y_train.values"
   ]
  },
  {
   "cell_type": "code",
   "execution_count": 53,
   "metadata": {},
   "outputs": [
    {
     "data": {
      "text/plain": [
       "array([0, 1, 1, ..., 1, 1, 1], dtype=int64)"
      ]
     },
     "execution_count": 53,
     "metadata": {},
     "output_type": "execute_result"
    }
   ],
   "source": [
    "val"
   ]
  },
  {
   "cell_type": "code",
   "execution_count": 54,
   "metadata": {},
   "outputs": [
    {
     "name": "stdout",
     "output_type": "stream",
     "text": [
      "Number of positive samples in training data: 18213 (95.44% of total)\n"
     ]
    }
   ],
   "source": [
    "counts = np.bincount(val)\n",
    "print(\n",
    "    \"Number of positive samples in training data: {} ({:.2f}% of total)\".format(\n",
    "        counts[1], 100 * float(counts[1]) / len(y_train)\n",
    "    )\n",
    ")\n",
    "\n",
    "weight_for_0 = 1.0 / counts[0]\n",
    "weight_for_1 = 1.0 / counts[1]"
   ]
  },
  {
   "cell_type": "code",
   "execution_count": 55,
   "metadata": {},
   "outputs": [
    {
     "data": {
      "text/plain": [
       "0.001148105625717566"
      ]
     },
     "execution_count": 55,
     "metadata": {},
     "output_type": "execute_result"
    }
   ],
   "source": [
    "weight_for_0"
   ]
  },
  {
   "cell_type": "code",
   "execution_count": 57,
   "metadata": {},
   "outputs": [
    {
     "name": "stdout",
     "output_type": "stream",
     "text": [
      "Train on 19084 samples, validate on 2386 samples\n",
      "Epoch 1/50\n",
      "19084/19084 [==============================] - 1s 62us/step - loss: 8.3520e-04 - recall: 0.0535 - val_loss: 1.8751 - val_recall: 0.0000e+00\n",
      "Epoch 2/50\n",
      "19084/19084 [==============================] - 1s 36us/step - loss: 3.6538e-04 - recall: 0.0000e+00 - val_loss: 2.3596 - val_recall: 0.0000e+00\n",
      "Epoch 3/50\n",
      "19084/19084 [==============================] - 1s 36us/step - loss: 2.9297e-04 - recall: 0.0000e+00 - val_loss: 1.6909 - val_recall: 0.0000e+00\n",
      "Epoch 4/50\n",
      "19084/19084 [==============================] - 1s 36us/step - loss: 2.5135e-04 - recall: 0.0000e+00 - val_loss: 1.2822 - val_recall: 0.0000e+00\n",
      "Epoch 5/50\n",
      "19084/19084 [==============================] - 1s 43us/step - loss: 2.3787e-04 - recall: 0.0000e+00 - val_loss: 1.6052 - val_recall: 0.0000e+00\n",
      "Epoch 6/50\n",
      "19084/19084 [==============================] - 1s 63us/step - loss: 2.2042e-04 - recall: 0.0000e+00 - val_loss: 1.2234 - val_recall: 0.0000e+00\n",
      "Epoch 7/50\n",
      "19084/19084 [==============================] - 1s 46us/step - loss: 2.1494e-04 - recall: 0.0000e+00 - val_loss: 1.4216 - val_recall: 0.0000e+00\n",
      "Epoch 8/50\n",
      "19084/19084 [==============================] - 1s 44us/step - loss: 2.0687e-04 - recall: 0.0000e+00 - val_loss: 1.1831 - val_recall: 0.0000e+00\n",
      "Epoch 9/50\n",
      "19084/19084 [==============================] - 1s 68us/step - loss: 2.0434e-04 - recall: 0.0298 - val_loss: 1.3693 - val_recall: 0.2679\n",
      "Epoch 10/50\n",
      "19084/19084 [==============================] - 1s 45us/step - loss: 1.8183e-04 - recall: 0.4849 - val_loss: 1.2161 - val_recall: 0.7946\n",
      "Epoch 11/50\n",
      "19084/19084 [==============================] - 1s 37us/step - loss: 1.6470e-04 - recall: 0.7068 - val_loss: 0.8152 - val_recall: 0.8352\n",
      "Epoch 12/50\n",
      "19084/19084 [==============================] - 1s 58us/step - loss: 2.1960e-04 - recall: 0.6089 - val_loss: 1.3739 - val_recall: 0.2797\n",
      "Epoch 13/50\n",
      "19084/19084 [==============================] - 1s 49us/step - loss: 2.2138e-04 - recall: 0.3362 - val_loss: 0.8852 - val_recall: 0.6525\n",
      "Epoch 14/50\n",
      "19084/19084 [==============================] - 1s 38us/step - loss: 2.0866e-04 - recall: 0.6045 - val_loss: 1.0701 - val_recall: 0.4838\n",
      "Epoch 15/50\n",
      "19084/19084 [==============================] - 1s 53us/step - loss: 2.1556e-04 - recall: 0.4099 - val_loss: 1.0738 - val_recall: 0.5118\n",
      "Epoch 16/50\n",
      "19084/19084 [==============================] - 1s 55us/step - loss: 1.6769e-04 - recall: 0.6142 - val_loss: 0.9262 - val_recall: 0.7627\n",
      "Epoch 17/50\n",
      "19084/19084 [==============================] - 1s 39us/step - loss: 2.8516e-04 - recall: 0.4554 - val_loss: 1.4151 - val_recall: 0.0883\n",
      "Epoch 18/50\n",
      "19084/19084 [==============================] - 1s 46us/step - loss: 3.3759e-04 - recall: 0.0301 - val_loss: 2.6255 - val_recall: 0.0358\n",
      "Epoch 19/50\n",
      "19084/19084 [==============================] - 1s 60us/step - loss: 2.9308e-04 - recall: 0.1175 - val_loss: 1.2475 - val_recall: 0.3304\n",
      "Epoch 20/50\n",
      "19084/19084 [==============================] - 1s 39us/step - loss: 2.2797e-04 - recall: 0.4369 - val_loss: 1.1024 - val_recall: 0.5878\n",
      "Epoch 21/50\n",
      "19084/19084 [==============================] - 1s 41us/step - loss: 1.9670e-04 - recall: 0.5180 - val_loss: 0.9871 - val_recall: 0.6442\n",
      "Epoch 22/50\n",
      "19084/19084 [==============================] - 1s 62us/step - loss: 3.2186e-04 - recall: 0.5422 - val_loss: 1.7205 - val_recall: 0.5052\n",
      "Epoch 23/50\n",
      "19084/19084 [==============================] - 1s 45us/step - loss: 2.2670e-04 - recall: 0.4894 - val_loss: 0.8169 - val_recall: 0.5765\n",
      "Epoch 24/50\n",
      "19084/19084 [==============================] - 1s 39us/step - loss: 2.1273e-04 - recall: 0.5487 - val_loss: 0.7402 - val_recall: 0.5699\n",
      "Epoch 25/50\n",
      "19084/19084 [==============================] - 1s 58us/step - loss: 2.0241e-04 - recall: 0.5469 - val_loss: 1.4147 - val_recall: 0.6211\n",
      "Epoch 26/50\n",
      "19084/19084 [==============================] - 1s 52us/step - loss: 2.0221e-04 - recall: 0.6190 - val_loss: 0.9020 - val_recall: 0.7194\n",
      "Epoch 27/50\n",
      "19084/19084 [==============================] - 1s 39us/step - loss: 2.0822e-04 - recall: 0.6580 - val_loss: 0.7249 - val_recall: 0.5481\n",
      "Epoch 28/50\n",
      "19084/19084 [==============================] - 1s 55us/step - loss: 5.1219e-04 - recall: 0.3334 - val_loss: 1.3383 - val_recall: 0.2653\n",
      "Epoch 29/50\n",
      "19084/19084 [==============================] - 1s 54us/step - loss: 2.8867e-04 - recall: 0.2790 - val_loss: 1.2165 - val_recall: 0.4873\n",
      "Epoch 30/50\n",
      "19084/19084 [==============================] - 1s 38us/step - loss: 4.4912e-04 - recall: 0.2978 - val_loss: 1.5144 - val_recall: 0.3011\n",
      "Epoch 31/50\n",
      "19084/19084 [==============================] - 1s 50us/step - loss: 3.0394e-04 - recall: 0.2907 - val_loss: 1.2769 - val_recall: 0.3837\n",
      "Epoch 32/50\n",
      "19084/19084 [==============================] - 1s 58us/step - loss: 9.2476e-04 - recall: 0.3992 - val_loss: 1.7806 - val_recall: 0.1718\n",
      "Epoch 33/50\n",
      "19084/19084 [==============================] - 1s 39us/step - loss: 3.1898e-04 - recall: 0.0732 - val_loss: 1.7671 - val_recall: 0.0555\n",
      "Epoch 34/50\n",
      "19084/19084 [==============================] - 1s 42us/step - loss: 3.0124e-04 - recall: 0.0667 - val_loss: 1.2428 - val_recall: 0.2286\n",
      "Epoch 35/50\n",
      "19084/19084 [==============================] - 1s 62us/step - loss: 2.5305e-04 - recall: 0.2977 - val_loss: 1.2693 - val_recall: 0.5581\n",
      "Epoch 36/50\n",
      "19084/19084 [==============================] - 1s 46us/step - loss: 5.8833e-04 - recall: 0.3876 - val_loss: 1.6657 - val_recall: 0.2207\n",
      "Epoch 37/50\n",
      "19084/19084 [==============================] - 1s 44us/step - loss: 3.5219e-04 - recall: 0.1891 - val_loss: 1.1360 - val_recall: 0.3142\n",
      "Epoch 38/50\n",
      "19084/19084 [==============================] - 1s 67us/step - loss: 6.2440e-04 - recall: 0.3489 - val_loss: 1.5630 - val_recall: 0.6154\n",
      "Epoch 39/50\n",
      "19084/19084 [==============================] - 1s 45us/step - loss: 5.2618e-04 - recall: 0.4632 - val_loss: 2.1062 - val_recall: 0.6014\n",
      "Epoch 40/50\n",
      "19084/19084 [==============================] - 1s 38us/step - loss: 3.6931e-04 - recall: 0.4593 - val_loss: 0.8114 - val_recall: 0.5433\n",
      "Epoch 41/50\n",
      "19084/19084 [==============================] - 1s 57us/step - loss: 3.2742e-04 - recall: 0.4325 - val_loss: 1.4750 - val_recall: 0.5682\n",
      "Epoch 42/50\n",
      "19084/19084 [==============================] - 1s 50us/step - loss: 3.2006e-04 - recall: 0.4822 - val_loss: 1.0915 - val_recall: 0.5948\n",
      "Epoch 43/50\n",
      "19084/19084 [==============================] - 1s 37us/step - loss: 3.4772e-04 - recall: 0.4864 - val_loss: 1.2909 - val_recall: 0.4397\n",
      "Epoch 44/50\n",
      "19084/19084 [==============================] - 1s 50us/step - loss: 3.0191e-04 - recall: 0.1934 - val_loss: 1.2983 - val_recall: 0.2985\n",
      "Epoch 45/50\n",
      "19084/19084 [==============================] - 1s 56us/step - loss: 2.8010e-04 - recall: 0.2399 - val_loss: 1.0201 - val_recall: 0.5017\n",
      "Epoch 46/50\n",
      "19084/19084 [==============================] - 1s 37us/step - loss: 2.8495e-04 - recall: 0.3941 - val_loss: 1.2933 - val_recall: 0.5516\n",
      "Epoch 47/50\n",
      "19084/19084 [==============================] - 1s 44us/step - loss: 2.7059e-04 - recall: 0.3987 - val_loss: 1.5141 - val_recall: 0.5184\n",
      "Epoch 48/50\n",
      "19084/19084 [==============================] - 1s 61us/step - loss: 3.2543e-04 - recall: 0.4942 - val_loss: 0.7881 - val_recall: 0.7067\n",
      "Epoch 49/50\n",
      "19084/19084 [==============================] - 1s 39us/step - loss: 7.2624e-04 - recall: 0.5128 - val_loss: 1.4581 - val_recall: 0.3737\n",
      "Epoch 50/50\n",
      "19084/19084 [==============================] - 1s 37us/step - loss: 4.5630e-04 - recall: 0.2841 - val_loss: 1.1690 - val_recall: 0.2915\n"
     ]
    }
   ],
   "source": [
    "seq=Sequential()\n",
    "seq.add(Dense(256,activation=activations.relu,input_shape=(15,),name='layer1'))\n",
    "seq.add(layers.Dropout(0.3))\n",
    "seq.add(Dense(256,activation='relu',name='layer2'))\n",
    "seq.add(layers.Dropout(0.3))\n",
    "seq.add(Dense(256,activation='relu',name='layer3'))\n",
    "seq.add(layers.Dropout(0.3))\n",
    "seq.add(Dense(256,activation='relu',name='layer4'))\n",
    "seq.add(layers.Dropout(0.3))\n",
    "seq.add(Dense(256,activation='relu',name='layer5'))\n",
    "seq.add(layers.Dropout(0.3))\n",
    "seq.add(Dense(256,activation='relu',name='layer6'))\n",
    "seq.add(layers.Dropout(0.3))\n",
    "seq.add(Dense(1,activation='sigmoid',name='layer7'))\n",
    "metrics=[keras.metrics.Recall(name=\"recall\")]\n",
    "\n",
    "seq.compile(\n",
    "    optimizer=keras.optimizers.Adam(1e-2), loss=\"binary_crossentropy\", metrics=metrics)\n",
    "class_weight = {0: .1, 1: .0001}\n",
    "\n",
    "history=seq.fit(X_train, y_train, validation_data=(X_val, y_val),epochs=50,batch_size=2048,class_weight=class_weight)\n",
    "#history=seq.fit(X_train, y_train, validation_data=(X_val, y_val),epochs=30,batch_size=1024)"
   ]
  },
  {
   "cell_type": "code",
   "execution_count": 58,
   "metadata": {},
   "outputs": [],
   "source": [
    "def plot_NN_matrix(history,value='loss'):\n",
    "    if value == 'loss':\n",
    "        loss = history.history['loss']\n",
    "        val_loss = history.history['val_loss']\n",
    "        epochs = range(1, len(loss) + 1)\n",
    "        plt.plot(epochs, loss, 'bo', label='Training loss')\n",
    "        plt.plot(epochs, val_loss, 'b', label='Validation loss')\n",
    "        plt.title('Training and validation loss')\n",
    "        plt.xlabel('Epochs')\n",
    "        plt.ylabel('Loss')\n",
    "        plt.legend()\n",
    "        plt.show()\n",
    "        #plt.clf()\n",
    "    if value == 'acc':\n",
    "        acc = history.history['binary_accuracy']\n",
    "        val_acc = history.history['val_binary_accuracy']\n",
    "        epochs = range(1, len(acc) + 1)\n",
    "        plt.plot(epochs, acc, 'bo', label='Training acc')\n",
    "        plt.plot(epochs, val_acc, 'b', label='Validation acc')\n",
    "        plt.title('Training and validation accuracy')\n",
    "        plt.xlabel('Epochs')\n",
    "        plt.ylabel('Loss')\n",
    "        plt.legend()\n",
    "        plt.show()"
   ]
  },
  {
   "cell_type": "code",
   "execution_count": 60,
   "metadata": {},
   "outputs": [],
   "source": [
    "#plot_NN_matrix(history,value='acc')"
   ]
  },
  {
   "cell_type": "code",
   "execution_count": 61,
   "metadata": {},
   "outputs": [
    {
     "data": {
      "text/plain": [
       "dict_keys(['val_loss', 'val_recall', 'loss', 'recall'])"
      ]
     },
     "execution_count": 61,
     "metadata": {},
     "output_type": "execute_result"
    }
   ],
   "source": [
    "history.history.keys()"
   ]
  },
  {
   "cell_type": "code",
   "execution_count": 62,
   "metadata": {},
   "outputs": [
    {
     "data": {
      "text/plain": [
       "array([[-0.33149102,  0.3465487 ,  0.68916296, ..., -0.47981008,\n",
       "         1.07699829, -1.25362   ],\n",
       "       [-0.33149102,  1.26588593,  1.28412657, ..., -2.66223712,\n",
       "        -0.99497464,  0.06944597],\n",
       "       [-0.33149102,  0.60921648,  0.55694882, ..., -0.47981008,\n",
       "        -1.66261037,  0.06944597],\n",
       "       ...,\n",
       "       [-0.33149102,  0.08388092,  0.16030642, ..., -0.47981008,\n",
       "        -0.23525123,  0.06944597],\n",
       "       [-0.33149102, -0.2444538 , -0.10412185, ...,  0.2476656 ,\n",
       "        -0.23525123,  0.06944597],\n",
       "       [-0.33149102, -1.36079186, -1.36015614, ..., -0.47981008,\n",
       "        -0.99497464,  0.06944597]])"
      ]
     },
     "execution_count": 62,
     "metadata": {},
     "output_type": "execute_result"
    }
   ],
   "source": [
    "df_test"
   ]
  },
  {
   "cell_type": "code",
   "execution_count": 63,
   "metadata": {},
   "outputs": [],
   "source": [
    "import imblearn"
   ]
  },
  {
   "cell_type": "code",
   "execution_count": 64,
   "metadata": {},
   "outputs": [
    {
     "name": "stdout",
     "output_type": "stream",
     "text": [
      "0.7.0\n"
     ]
    }
   ],
   "source": [
    "print(imblearn.__version__)"
   ]
  },
  {
   "cell_type": "code",
   "execution_count": 65,
   "metadata": {},
   "outputs": [],
   "source": [
    "from collections import Counter\n",
    "from imblearn.over_sampling import SMOTE"
   ]
  },
  {
   "cell_type": "code",
   "execution_count": 83,
   "metadata": {},
   "outputs": [],
   "source": [
    "counter=Counter(y_train)"
   ]
  },
  {
   "cell_type": "code",
   "execution_count": 84,
   "metadata": {},
   "outputs": [
    {
     "data": {
      "text/plain": [
       "Counter({0: 22788, 1: 22788})"
      ]
     },
     "execution_count": 84,
     "metadata": {},
     "output_type": "execute_result"
    }
   ],
   "source": [
    "counter"
   ]
  },
  {
   "cell_type": "markdown",
   "metadata": {},
   "source": [
    "oversample = SMOTE(random_state=42)\n",
    "X_train, y_train = oversample.fit_resample(X_train,y_train)"
   ]
  },
  {
   "cell_type": "markdown",
   "metadata": {},
   "source": [
    "mu, sigma = 0, 0.1 \n",
    "noise = np.random.normal(mu, sigma, [X_train.shape[0],X_train.shape[1]])"
   ]
  },
  {
   "cell_type": "markdown",
   "metadata": {},
   "source": [
    "X_train=X_train+noise"
   ]
  },
  {
   "cell_type": "code",
   "execution_count": 97,
   "metadata": {},
   "outputs": [
    {
     "data": {
      "text/plain": [
       "(45576, 15)"
      ]
     },
     "execution_count": 97,
     "metadata": {},
     "output_type": "execute_result"
    }
   ],
   "source": [
    "X.shape"
   ]
  },
  {
   "cell_type": "code",
   "execution_count": 99,
   "metadata": {},
   "outputs": [],
   "source": [
    "from keras.layers import Input, Dense\n",
    "from keras.models import Model\n"
   ]
  },
  {
   "cell_type": "code",
   "execution_count": 142,
   "metadata": {},
   "outputs": [],
   "source": [
    "input_ = Input(shape=(15,))\n",
    "encoded=Dense(10, activation='relu')(input_)\n",
    "encoded = Dense(7, activation='relu')(encoded)\n",
    "encoded = Dense(5, activation='relu')(encoded)\n",
    "\n",
    "decoded = Dense(7, activation='relu')(encoded)\n",
    "decoded = Dense(10, activation='relu')(decoded)\n",
    "decoded = Dense(15)(decoded)"
   ]
  },
  {
   "cell_type": "code",
   "execution_count": 105,
   "metadata": {},
   "outputs": [],
   "source": [
    "#X_train = X_train.reshape((len(X_train), np.prod(X_train.shape[1:])))\n",
    "#X_test = X_test.reshape((len(X_test), np.prod(X_test.shape[1:])))"
   ]
  },
  {
   "cell_type": "code",
   "execution_count": 143,
   "metadata": {},
   "outputs": [
    {
     "name": "stdout",
     "output_type": "stream",
     "text": [
      "Train on 36460 samples, validate on 9116 samples\n",
      "Epoch 1/100\n",
      "36460/36460 [==============================] - 0s 13us/step - loss: 0.9121 - val_loss: 0.9261\n",
      "Epoch 2/100\n",
      "36460/36460 [==============================] - 0s 6us/step - loss: 0.7799 - val_loss: 0.8114\n",
      "Epoch 3/100\n",
      "36460/36460 [==============================] - 0s 6us/step - loss: 0.6751 - val_loss: 0.7076\n",
      "Epoch 4/100\n",
      "36460/36460 [==============================] - 0s 6us/step - loss: 0.5982 - val_loss: 0.6311\n",
      "Epoch 5/100\n",
      "36460/36460 [==============================] - 0s 6us/step - loss: 0.5589 - val_loss: 0.5916\n",
      "Epoch 6/100\n",
      "36460/36460 [==============================] - 0s 6us/step - loss: 0.5326 - val_loss: 0.5580\n",
      "Epoch 7/100\n",
      "36460/36460 [==============================] - 0s 6us/step - loss: 0.5163 - val_loss: 0.5370\n",
      "Epoch 8/100\n",
      "36460/36460 [==============================] - 0s 6us/step - loss: 0.5034 - val_loss: 0.5215\n",
      "Epoch 9/100\n",
      "36460/36460 [==============================] - 0s 6us/step - loss: 0.4924 - val_loss: 0.5118\n",
      "Epoch 10/100\n",
      "36460/36460 [==============================] - 0s 6us/step - loss: 0.4832 - val_loss: 0.5015\n",
      "Epoch 11/100\n",
      "36460/36460 [==============================] - 0s 7us/step - loss: 0.4743 - val_loss: 0.4869\n",
      "Epoch 12/100\n",
      "36460/36460 [==============================] - 0s 6us/step - loss: 0.4638 - val_loss: 0.4788\n",
      "Epoch 13/100\n",
      "36460/36460 [==============================] - 0s 6us/step - loss: 0.4552 - val_loss: 0.4654\n",
      "Epoch 14/100\n",
      "36460/36460 [==============================] - 0s 6us/step - loss: 0.4473 - val_loss: 0.4576\n",
      "Epoch 15/100\n",
      "36460/36460 [==============================] - 0s 6us/step - loss: 0.4409 - val_loss: 0.4554\n",
      "Epoch 16/100\n",
      "36460/36460 [==============================] - 0s 6us/step - loss: 0.4375 - val_loss: 0.4484\n",
      "Epoch 17/100\n",
      "36460/36460 [==============================] - 0s 6us/step - loss: 0.4325 - val_loss: 0.4416\n",
      "Epoch 18/100\n",
      "36460/36460 [==============================] - 0s 6us/step - loss: 0.4279 - val_loss: 0.4356\n",
      "Epoch 19/100\n",
      "36460/36460 [==============================] - 0s 6us/step - loss: 0.4229 - val_loss: 0.4338\n",
      "Epoch 20/100\n",
      "36460/36460 [==============================] - 0s 6us/step - loss: 0.4207 - val_loss: 0.4286\n",
      "Epoch 21/100\n",
      "36460/36460 [==============================] - 0s 6us/step - loss: 0.4183 - val_loss: 0.4275\n",
      "Epoch 22/100\n",
      "36460/36460 [==============================] - 0s 6us/step - loss: 0.4166 - val_loss: 0.4254\n",
      "Epoch 23/100\n",
      "36460/36460 [==============================] - 0s 6us/step - loss: 0.4149 - val_loss: 0.4243\n",
      "Epoch 24/100\n",
      "36460/36460 [==============================] - 0s 6us/step - loss: 0.4136 - val_loss: 0.4235\n",
      "Epoch 25/100\n",
      "36460/36460 [==============================] - 0s 6us/step - loss: 0.4133 - val_loss: 0.4232\n",
      "Epoch 26/100\n",
      "36460/36460 [==============================] - 0s 6us/step - loss: 0.4113 - val_loss: 0.4208\n",
      "Epoch 27/100\n",
      "36460/36460 [==============================] - 0s 6us/step - loss: 0.4105 - val_loss: 0.4295\n",
      "Epoch 28/100\n",
      "36460/36460 [==============================] - 0s 6us/step - loss: 0.4093 - val_loss: 0.4204\n",
      "Epoch 29/100\n",
      "36460/36460 [==============================] - 0s 6us/step - loss: 0.4087 - val_loss: 0.4185\n",
      "Epoch 30/100\n",
      "36460/36460 [==============================] - 0s 7us/step - loss: 0.4074 - val_loss: 0.4203\n",
      "Epoch 31/100\n",
      "36460/36460 [==============================] - 0s 7us/step - loss: 0.4068 - val_loss: 0.4165\n",
      "Epoch 32/100\n",
      "36460/36460 [==============================] - 0s 6us/step - loss: 0.4050 - val_loss: 0.4155\n",
      "Epoch 33/100\n",
      "36460/36460 [==============================] - 0s 6us/step - loss: 0.4042 - val_loss: 0.4194\n",
      "Epoch 34/100\n",
      "36460/36460 [==============================] - 0s 6us/step - loss: 0.4032 - val_loss: 0.4137\n",
      "Epoch 35/100\n",
      "36460/36460 [==============================] - 0s 6us/step - loss: 0.4021 - val_loss: 0.4114\n",
      "Epoch 36/100\n",
      "36460/36460 [==============================] - 0s 6us/step - loss: 0.4012 - val_loss: 0.4137\n",
      "Epoch 37/100\n",
      "36460/36460 [==============================] - 0s 7us/step - loss: 0.4013 - val_loss: 0.4123\n",
      "Epoch 38/100\n",
      "36460/36460 [==============================] - 0s 7us/step - loss: 0.4004 - val_loss: 0.4112\n",
      "Epoch 39/100\n",
      "36460/36460 [==============================] - 0s 6us/step - loss: 0.3998 - val_loss: 0.4096\n",
      "Epoch 40/100\n",
      "36460/36460 [==============================] - 0s 6us/step - loss: 0.3992 - val_loss: 0.4114\n",
      "Epoch 41/100\n",
      "36460/36460 [==============================] - 0s 6us/step - loss: 0.3989 - val_loss: 0.4125\n",
      "Epoch 42/100\n",
      "36460/36460 [==============================] - 0s 8us/step - loss: 0.3986 - val_loss: 0.4090\n",
      "Epoch 43/100\n",
      "36460/36460 [==============================] - 0s 6us/step - loss: 0.3978 - val_loss: 0.4166\n",
      "Epoch 44/100\n",
      "36460/36460 [==============================] - 0s 7us/step - loss: 0.3977 - val_loss: 0.4128\n",
      "Epoch 45/100\n",
      "36460/36460 [==============================] - 0s 7us/step - loss: 0.3979 - val_loss: 0.4073\n",
      "Epoch 46/100\n",
      "36460/36460 [==============================] - 0s 6us/step - loss: 0.3970 - val_loss: 0.4103\n",
      "Epoch 47/100\n",
      "36460/36460 [==============================] - 0s 6us/step - loss: 0.3972 - val_loss: 0.4092\n",
      "Epoch 48/100\n",
      "36460/36460 [==============================] - 0s 6us/step - loss: 0.3968 - val_loss: 0.4095\n",
      "Epoch 49/100\n",
      "36460/36460 [==============================] - 0s 7us/step - loss: 0.3970 - val_loss: 0.4061\n",
      "Epoch 50/100\n",
      "36460/36460 [==============================] - 0s 8us/step - loss: 0.3960 - val_loss: 0.4050\n",
      "Epoch 51/100\n",
      "36460/36460 [==============================] - 0s 7us/step - loss: 0.3949 - val_loss: 0.4063\n",
      "Epoch 52/100\n",
      "36460/36460 [==============================] - 0s 13us/step - loss: 0.3949 - val_loss: 0.4063\n",
      "Epoch 53/100\n",
      "36460/36460 [==============================] - 0s 13us/step - loss: 0.3955 - val_loss: 0.4074\n",
      "Epoch 54/100\n",
      "36460/36460 [==============================] - 0s 13us/step - loss: 0.3949 - val_loss: 0.4055\n",
      "Epoch 55/100\n",
      "36460/36460 [==============================] - 0s 9us/step - loss: 0.3935 - val_loss: 0.4035\n",
      "Epoch 56/100\n",
      "36460/36460 [==============================] - 0s 6us/step - loss: 0.3947 - val_loss: 0.4057\n",
      "Epoch 57/100\n",
      "36460/36460 [==============================] - 0s 7us/step - loss: 0.3945 - val_loss: 0.4051\n",
      "Epoch 58/100\n",
      "36460/36460 [==============================] - 0s 6us/step - loss: 0.3943 - val_loss: 0.4043\n",
      "Epoch 59/100\n",
      "36460/36460 [==============================] - 0s 6us/step - loss: 0.3938 - val_loss: 0.4037\n",
      "Epoch 60/100\n",
      "36460/36460 [==============================] - 0s 6us/step - loss: 0.3935 - val_loss: 0.4086\n",
      "Epoch 61/100\n",
      "36460/36460 [==============================] - 0s 6us/step - loss: 0.3930 - val_loss: 0.4051\n",
      "Epoch 62/100\n",
      "36460/36460 [==============================] - 0s 6us/step - loss: 0.3930 - val_loss: 0.4028\n",
      "Epoch 63/100\n",
      "36460/36460 [==============================] - 0s 7us/step - loss: 0.3923 - val_loss: 0.4035\n",
      "Epoch 64/100\n",
      "36460/36460 [==============================] - 0s 7us/step - loss: 0.3931 - val_loss: 0.4051\n",
      "Epoch 65/100\n",
      "36460/36460 [==============================] - 0s 6us/step - loss: 0.3920 - val_loss: 0.4079\n",
      "Epoch 66/100\n",
      "36460/36460 [==============================] - 0s 6us/step - loss: 0.3920 - val_loss: 0.4083\n",
      "Epoch 67/100\n",
      "36460/36460 [==============================] - 0s 6us/step - loss: 0.3926 - val_loss: 0.4049\n",
      "Epoch 68/100\n",
      "36460/36460 [==============================] - 0s 6us/step - loss: 0.3918 - val_loss: 0.4019\n",
      "Epoch 69/100\n",
      "36460/36460 [==============================] - 0s 6us/step - loss: 0.3909 - val_loss: 0.4005\n",
      "Epoch 70/100\n",
      "36460/36460 [==============================] - 0s 6us/step - loss: 0.3904 - val_loss: 0.4010\n",
      "Epoch 71/100\n",
      "36460/36460 [==============================] - 0s 6us/step - loss: 0.3904 - val_loss: 0.3999\n",
      "Epoch 72/100\n",
      "36460/36460 [==============================] - 0s 6us/step - loss: 0.3906 - val_loss: 0.3992\n",
      "Epoch 73/100\n",
      "36460/36460 [==============================] - 0s 6us/step - loss: 0.3903 - val_loss: 0.4006\n",
      "Epoch 74/100\n",
      "36460/36460 [==============================] - 0s 7us/step - loss: 0.3905 - val_loss: 0.4004\n",
      "Epoch 75/100\n",
      "36460/36460 [==============================] - 0s 7us/step - loss: 0.3894 - val_loss: 0.4011\n",
      "Epoch 76/100\n",
      "36460/36460 [==============================] - 0s 6us/step - loss: 0.3898 - val_loss: 0.4016\n",
      "Epoch 77/100\n",
      "36460/36460 [==============================] - 0s 7us/step - loss: 0.3895 - val_loss: 0.3987\n"
     ]
    },
    {
     "name": "stdout",
     "output_type": "stream",
     "text": [
      "Epoch 78/100\n",
      "36460/36460 [==============================] - 0s 5us/step - loss: 0.3901 - val_loss: 0.3995\n",
      "Epoch 79/100\n",
      "36460/36460 [==============================] - 0s 5us/step - loss: 0.3889 - val_loss: 0.4013\n",
      "Epoch 80/100\n",
      "36460/36460 [==============================] - 0s 6us/step - loss: 0.3886 - val_loss: 0.3987\n",
      "Epoch 81/100\n",
      "36460/36460 [==============================] - 0s 6us/step - loss: 0.3896 - val_loss: 0.3971\n",
      "Epoch 82/100\n",
      "36460/36460 [==============================] - 0s 6us/step - loss: 0.3887 - val_loss: 0.4002\n",
      "Epoch 83/100\n",
      "36460/36460 [==============================] - 0s 6us/step - loss: 0.3890 - val_loss: 0.3992\n",
      "Epoch 84/100\n",
      "36460/36460 [==============================] - 0s 6us/step - loss: 0.3880 - val_loss: 0.3992\n",
      "Epoch 85/100\n",
      "36460/36460 [==============================] - 0s 6us/step - loss: 0.3891 - val_loss: 0.3978\n",
      "Epoch 86/100\n",
      "36460/36460 [==============================] - 0s 6us/step - loss: 0.3886 - val_loss: 0.4017\n",
      "Epoch 87/100\n",
      "36460/36460 [==============================] - 0s 6us/step - loss: 0.3878 - val_loss: 0.3976\n",
      "Epoch 88/100\n",
      "36460/36460 [==============================] - 0s 6us/step - loss: 0.3875 - val_loss: 0.3991\n",
      "Epoch 89/100\n",
      "36460/36460 [==============================] - 0s 6us/step - loss: 0.3884 - val_loss: 0.3980\n",
      "Epoch 90/100\n",
      "36460/36460 [==============================] - 0s 6us/step - loss: 0.3882 - val_loss: 0.3981\n",
      "Epoch 91/100\n",
      "36460/36460 [==============================] - 0s 6us/step - loss: 0.3884 - val_loss: 0.4015\n",
      "Epoch 92/100\n",
      "36460/36460 [==============================] - 0s 6us/step - loss: 0.3877 - val_loss: 0.3999\n",
      "Epoch 93/100\n",
      "36460/36460 [==============================] - 0s 6us/step - loss: 0.3880 - val_loss: 0.3973\n",
      "Epoch 94/100\n",
      "36460/36460 [==============================] - 0s 6us/step - loss: 0.3877 - val_loss: 0.3965\n",
      "Epoch 95/100\n",
      "36460/36460 [==============================] - 0s 6us/step - loss: 0.3880 - val_loss: 0.4001\n",
      "Epoch 96/100\n",
      "36460/36460 [==============================] - 0s 6us/step - loss: 0.3868 - val_loss: 0.3980\n",
      "Epoch 97/100\n",
      "36460/36460 [==============================] - 0s 6us/step - loss: 0.3868 - val_loss: 0.3956\n",
      "Epoch 98/100\n",
      "36460/36460 [==============================] - 0s 6us/step - loss: 0.3862 - val_loss: 0.3948\n",
      "Epoch 99/100\n",
      "36460/36460 [==============================] - 0s 6us/step - loss: 0.3871 - val_loss: 0.3998\n",
      "Epoch 100/100\n",
      "36460/36460 [==============================] - 0s 6us/step - loss: 0.3861 - val_loss: 0.3944\n"
     ]
    },
    {
     "data": {
      "text/plain": [
       "<keras.callbacks.callbacks.History at 0x20405a4dcc8>"
      ]
     },
     "execution_count": 143,
     "metadata": {},
     "output_type": "execute_result"
    }
   ],
   "source": [
    "autoencoder = Model(input_, decoded)\n",
    "autoencoder.compile(optimizer='adadelta', loss='mean_squared_error')\n",
    "\n",
    "autoencoder.fit(X_noise_train, X_train_enc,\n",
    "                epochs=100,\n",
    "                batch_size=256,\n",
    "                shuffle=True,\n",
    "                validation_data=(X_noise_test, X_test_enc))"
   ]
  },
  {
   "cell_type": "code",
   "execution_count": 138,
   "metadata": {},
   "outputs": [
    {
     "data": {
      "text/plain": [
       "array([[-0.42957382,  0.84580793,  0.96995317, ..., -0.32943023,\n",
       "        -1.16613196,  0.24797815],\n",
       "       [-0.30206943,  1.05838071,  0.95351112, ...,  0.51843461,\n",
       "        -0.92155985,  0.00727624],\n",
       "       [-0.30571745,  0.43408211,  0.39927178, ..., -2.63004387,\n",
       "         1.14027181,  0.00614663],\n",
       "       ...,\n",
       "       [-0.40179805, -1.10967813, -1.20818474, ..., -2.47071054,\n",
       "        -0.44596764,  1.53185444],\n",
       "       [-0.46260539,  0.74601074,  1.13538523, ...,  0.29938039,\n",
       "         1.56809366,  0.13219501],\n",
       "       [-0.4914913 ,  0.78369402,  0.92216642, ...,  0.35016166,\n",
       "        -0.79319732,  0.25067879]])"
      ]
     },
     "execution_count": 138,
     "metadata": {},
     "output_type": "execute_result"
    }
   ],
   "source": []
  },
  {
   "cell_type": "code",
   "execution_count": 144,
   "metadata": {},
   "outputs": [],
   "source": [
    "X_autoenc=autoencoder.predict(X)"
   ]
  },
  {
   "cell_type": "code",
   "execution_count": 145,
   "metadata": {},
   "outputs": [
    {
     "data": {
      "text/plain": [
       "array([[-0.20335579,  0.5461263 ,  0.5084764 , ...,  0.32064903,\n",
       "        -0.46795544,  0.28849888],\n",
       "       [ 0.25288785,  1.1874534 ,  1.1792475 , ...,  0.26674068,\n",
       "        -0.48090738,  0.29039964],\n",
       "       [-0.2537887 , -1.5565448 , -1.5694373 , ..., -0.26716575,\n",
       "         0.6160876 ,  0.340685  ],\n",
       "       ...,\n",
       "       [-0.4346274 ,  0.7644179 ,  0.7197113 , ...,  0.17999195,\n",
       "         0.27378428,  0.33125433],\n",
       "       [-0.4324602 ,  0.7629684 ,  0.7810918 , ..., -0.15694113,\n",
       "         0.48834467,  0.19056776],\n",
       "       [-0.3346604 , -1.5629961 , -1.5502673 , ..., -0.17007118,\n",
       "        -0.18967807,  0.06418961]], dtype=float32)"
      ]
     },
     "execution_count": 145,
     "metadata": {},
     "output_type": "execute_result"
    }
   ],
   "source": [
    "X_autoenc"
   ]
  },
  {
   "cell_type": "code",
   "execution_count": 139,
   "metadata": {},
   "outputs": [
    {
     "data": {
      "text/plain": [
       "array([[-0.33602492,  0.97845068,  0.99540677, ..., -0.36835487,\n",
       "        -1.06137057,  0.06382199],\n",
       "       [-0.33602492,  0.99795818,  1.01504978, ...,  0.64365126,\n",
       "        -1.00872781,  0.06382199],\n",
       "       [-0.33602492,  0.31147559,  0.32379842, ..., -2.52905401,\n",
       "         1.13749775,  0.06382199],\n",
       "       ...,\n",
       "       [-0.33602492, -1.1847614 , -1.20713232, ..., -2.43643296,\n",
       "        -0.45440937,  1.49466609],\n",
       "       [-0.33602492,  0.80110665,  0.81683078, ...,  0.24505213,\n",
       "         1.60118818,  0.06382199],\n",
       "       [-0.33602492,  0.99795818,  1.01504978, ...,  0.40900741,\n",
       "        -1.00872781,  0.06382199]])"
      ]
     },
     "execution_count": 139,
     "metadata": {},
     "output_type": "execute_result"
    }
   ],
   "source": [
    "X_train_enc"
   ]
  },
  {
   "cell_type": "code",
   "execution_count": 146,
   "metadata": {},
   "outputs": [],
   "source": [
    "X_train,X_test,y_train,y_test=train_test_split(X_autoenc,y,test_size=.2)\n",
    "X_val,X_test,y_val,y_test=train_test_split(X_test,y_test,test_size=.5)"
   ]
  },
  {
   "cell_type": "code",
   "execution_count": 226,
   "metadata": {},
   "outputs": [
    {
     "name": "stdout",
     "output_type": "stream",
     "text": [
      "Train on 36460 samples, validate on 4558 samples\n",
      "Epoch 1/80\n",
      "36460/36460 [==============================] - 1s 27us/step - loss: 0.1518 - recall: 0.0000e+00 - val_loss: 0.7938 - val_recall: 0.0000e+00\n",
      "Epoch 2/80\n",
      "36460/36460 [==============================] - 1s 24us/step - loss: 0.0918 - recall: 0.3054 - val_loss: 0.5726 - val_recall: 0.5240\n",
      "Epoch 3/80\n",
      "36460/36460 [==============================] - 1s 33us/step - loss: 0.0769 - recall: 0.5936 - val_loss: 0.5106 - val_recall: 0.6448\n",
      "Epoch 4/80\n",
      "36460/36460 [==============================] - 1s 23us/step - loss: 0.0714 - recall: 0.6296 - val_loss: 0.5528 - val_recall: 0.6047\n",
      "Epoch 5/80\n",
      "36460/36460 [==============================] - 1s 23us/step - loss: 0.0703 - recall: 0.6306 - val_loss: 0.4285 - val_recall: 0.6783\n",
      "Epoch 6/80\n",
      "36460/36460 [==============================] - 1s 37us/step - loss: 0.0674 - recall: 0.6427 - val_loss: 0.4423 - val_recall: 0.6602\n",
      "Epoch 7/80\n",
      "36460/36460 [==============================] - 1s 21us/step - loss: 0.0637 - recall: 0.6614 - val_loss: 0.4487 - val_recall: 0.6677\n",
      "Epoch 8/80\n",
      "36460/36460 [==============================] - 1s 22us/step - loss: 0.0621 - recall: 0.6680 - val_loss: 0.4298 - val_recall: 0.7047\n",
      "Epoch 9/80\n",
      "36460/36460 [==============================] - 1s 37us/step - loss: 0.0602 - recall: 0.6782 - val_loss: 0.5254 - val_recall: 0.6390\n",
      "Epoch 10/80\n",
      "36460/36460 [==============================] - 1s 23us/step - loss: 0.0651 - recall: 0.6333 - val_loss: 0.4150 - val_recall: 0.6941\n",
      "Epoch 11/80\n",
      "36460/36460 [==============================] - 1s 21us/step - loss: 0.0618 - recall: 0.6588 - val_loss: 0.4318 - val_recall: 0.6637\n",
      "Epoch 12/80\n",
      "36460/36460 [==============================] - 1s 37us/step - loss: 0.0594 - recall: 0.6618 - val_loss: 0.4357 - val_recall: 0.6606\n",
      "Epoch 13/80\n",
      "36460/36460 [==============================] - 1s 27us/step - loss: 0.0582 - recall: 0.6779 - val_loss: 0.4078 - val_recall: 0.7228\n",
      "Epoch 14/80\n",
      "36460/36460 [==============================] - 1s 24us/step - loss: 0.0575 - recall: 0.6884 - val_loss: 0.4185 - val_recall: 0.6774\n",
      "Epoch 15/80\n",
      "36460/36460 [==============================] - 1s 38us/step - loss: 0.0570 - recall: 0.6852 - val_loss: 0.4095 - val_recall: 0.7109\n",
      "Epoch 16/80\n",
      "36460/36460 [==============================] - 1s 23us/step - loss: 0.0576 - recall: 0.6887 - val_loss: 0.3857 - val_recall: 0.7012\n",
      "Epoch 17/80\n",
      "36460/36460 [==============================] - 1s 31us/step - loss: 0.0572 - recall: 0.6849 - val_loss: 0.4495 - val_recall: 0.6598\n",
      "Epoch 18/80\n",
      "36460/36460 [==============================] - 1s 35us/step - loss: 0.0576 - recall: 0.6785 - val_loss: 0.4086 - val_recall: 0.7012\n",
      "Epoch 19/80\n",
      "36460/36460 [==============================] - 1s 24us/step - loss: 0.0540 - recall: 0.7087 - val_loss: 0.3905 - val_recall: 0.7237\n",
      "Epoch 20/80\n",
      "36460/36460 [==============================] - 1s 35us/step - loss: 0.0533 - recall: 0.7159 - val_loss: 0.3712 - val_recall: 0.7272\n",
      "Epoch 21/80\n",
      "36460/36460 [==============================] - 1s 30us/step - loss: 0.0541 - recall: 0.6996 - val_loss: 0.4036 - val_recall: 0.7052\n",
      "Epoch 22/80\n",
      "36460/36460 [==============================] - 1s 24us/step - loss: 0.0549 - recall: 0.6979 - val_loss: 0.3768 - val_recall: 0.7219\n",
      "Epoch 23/80\n",
      "36460/36460 [==============================] - 1s 38us/step - loss: 0.0531 - recall: 0.7128 - val_loss: 0.4042 - val_recall: 0.7206\n",
      "Epoch 24/80\n",
      "36460/36460 [==============================] - 1s 28us/step - loss: 0.0535 - recall: 0.7086 - val_loss: 0.3721 - val_recall: 0.7276\n",
      "Epoch 25/80\n",
      "36460/36460 [==============================] - 1s 28us/step - loss: 0.0527 - recall: 0.7159 - val_loss: 0.4266 - val_recall: 0.7065\n",
      "Epoch 26/80\n",
      "36460/36460 [==============================] - 1s 38us/step - loss: 0.0561 - recall: 0.6922 - val_loss: 0.3740 - val_recall: 0.7144\n",
      "Epoch 27/80\n",
      "36460/36460 [==============================] - 1s 24us/step - loss: 0.0532 - recall: 0.7040 - val_loss: 0.4178 - val_recall: 0.7007\n",
      "Epoch 28/80\n",
      "36460/36460 [==============================] - 1s 33us/step - loss: 0.0540 - recall: 0.7024 - val_loss: 0.3927 - val_recall: 0.7007\n",
      "Epoch 29/80\n",
      "36460/36460 [==============================] - 1s 31us/step - loss: 0.0532 - recall: 0.7037 - val_loss: 0.3705 - val_recall: 0.7290\n",
      "Epoch 30/80\n",
      "36460/36460 [==============================] - 1s 21us/step - loss: 0.0532 - recall: 0.7052 - val_loss: 0.3659 - val_recall: 0.7228\n",
      "Epoch 31/80\n",
      "36460/36460 [==============================] - 1s 31us/step - loss: 0.0530 - recall: 0.7079 - val_loss: 0.3731 - val_recall: 0.7259\n",
      "Epoch 32/80\n",
      "36460/36460 [==============================] - 1s 31us/step - loss: 0.0513 - recall: 0.7136 - val_loss: 0.3702 - val_recall: 0.7382\n",
      "Epoch 33/80\n",
      "36460/36460 [==============================] - 1s 22us/step - loss: 0.0507 - recall: 0.7230 - val_loss: 0.4087 - val_recall: 0.7188\n",
      "Epoch 34/80\n",
      "36460/36460 [==============================] - 1s 35us/step - loss: 0.0503 - recall: 0.7171 - val_loss: 0.4149 - val_recall: 0.6884\n",
      "Epoch 35/80\n",
      "36460/36460 [==============================] - 1s 27us/step - loss: 0.0518 - recall: 0.7145 - val_loss: 0.3608 - val_recall: 0.7228\n",
      "Epoch 36/80\n",
      "36460/36460 [==============================] - 1s 19us/step - loss: 0.0499 - recall: 0.7169 - val_loss: 0.3681 - val_recall: 0.7268\n",
      "Epoch 37/80\n",
      "36460/36460 [==============================] - 1s 27us/step - loss: 0.0486 - recall: 0.7254 - val_loss: 0.3723 - val_recall: 0.7219\n",
      "Epoch 38/80\n",
      "36460/36460 [==============================] - 1s 30us/step - loss: 0.0503 - recall: 0.7147 - val_loss: 0.3949 - val_recall: 0.6972\n",
      "Epoch 39/80\n",
      "36460/36460 [==============================] - 1s 19us/step - loss: 0.0499 - recall: 0.7206 - val_loss: 0.3845 - val_recall: 0.7149\n",
      "Epoch 40/80\n",
      "36460/36460 [==============================] - 1s 23us/step - loss: 0.0485 - recall: 0.7249 - val_loss: 0.3623 - val_recall: 0.7281\n",
      "Epoch 41/80\n",
      "36460/36460 [==============================] - 1s 33us/step - loss: 0.0488 - recall: 0.7264 - val_loss: 0.3713 - val_recall: 0.7422\n",
      "Epoch 42/80\n",
      "36460/36460 [==============================] - 1s 18us/step - loss: 0.0472 - recall: 0.7427 - val_loss: 0.3542 - val_recall: 0.7307\n",
      "Epoch 43/80\n",
      "36460/36460 [==============================] - 1s 20us/step - loss: 0.0478 - recall: 0.7275 - val_loss: 0.3619 - val_recall: 0.7347\n",
      "Epoch 44/80\n",
      "36460/36460 [==============================] - 1s 33us/step - loss: 0.0481 - recall: 0.7311 - val_loss: 0.3587 - val_recall: 0.7378\n",
      "Epoch 45/80\n",
      "36460/36460 [==============================] - 1s 22us/step - loss: 0.0484 - recall: 0.7238 - val_loss: 0.3369 - val_recall: 0.7439\n",
      "Epoch 46/80\n",
      "36460/36460 [==============================] - 1s 19us/step - loss: 0.0480 - recall: 0.7261 - val_loss: 0.3657 - val_recall: 0.7201\n",
      "Epoch 47/80\n",
      "36460/36460 [==============================] - 1s 26us/step - loss: 0.0471 - recall: 0.7347 - val_loss: 0.3578 - val_recall: 0.7215\n",
      "Epoch 48/80\n",
      "36460/36460 [==============================] - 1s 30us/step - loss: 0.0462 - recall: 0.7337 - val_loss: 0.4051 - val_recall: 0.7223\n",
      "Epoch 49/80\n",
      "36460/36460 [==============================] - 1s 18us/step - loss: 0.0469 - recall: 0.7334 - val_loss: 0.3542 - val_recall: 0.7431\n",
      "Epoch 50/80\n",
      "36460/36460 [==============================] - 1s 22us/step - loss: 0.0466 - recall: 0.7340 - val_loss: 0.3666 - val_recall: 0.7439\n",
      "Epoch 51/80\n",
      "36460/36460 [==============================] - 1s 34us/step - loss: 0.0479 - recall: 0.7260 - val_loss: 0.3560 - val_recall: 0.7483\n",
      "Epoch 52/80\n",
      "36460/36460 [==============================] - 1s 21us/step - loss: 0.0480 - recall: 0.7382 - val_loss: 0.3807 - val_recall: 0.7210\n",
      "Epoch 53/80\n",
      "36460/36460 [==============================] - 1s 21us/step - loss: 0.0485 - recall: 0.7242 - val_loss: 0.3725 - val_recall: 0.7078\n",
      "Epoch 54/80\n",
      "36460/36460 [==============================] - 1s 36us/step - loss: 0.0469 - recall: 0.7463 - val_loss: 0.3702 - val_recall: 0.7572\n",
      "Epoch 55/80\n",
      "36460/36460 [==============================] - 1s 40us/step - loss: 0.0484 - recall: 0.7298 - val_loss: 0.3649 - val_recall: 0.7228\n",
      "Epoch 56/80\n",
      "36460/36460 [==============================] - 1s 29us/step - loss: 0.0474 - recall: 0.7234 - val_loss: 0.3542 - val_recall: 0.7488\n",
      "Epoch 57/80\n"
     ]
    },
    {
     "name": "stdout",
     "output_type": "stream",
     "text": [
      "36460/36460 [==============================] - 1s 22us/step - loss: 0.0458 - recall: 0.7483 - val_loss: 0.3089 - val_recall: 0.7752\n",
      "Epoch 58/80\n",
      "36460/36460 [==============================] - 1s 34us/step - loss: 0.0457 - recall: 0.7458 - val_loss: 0.3381 - val_recall: 0.7413\n",
      "Epoch 59/80\n",
      "36460/36460 [==============================] - 1s 28us/step - loss: 0.0447 - recall: 0.7527 - val_loss: 0.3478 - val_recall: 0.7532\n",
      "Epoch 60/80\n",
      "36460/36460 [==============================] - 1s 24us/step - loss: 0.0458 - recall: 0.7467 - val_loss: 0.3694 - val_recall: 0.7131\n",
      "Epoch 61/80\n",
      "36460/36460 [==============================] - 1s 39us/step - loss: 0.0462 - recall: 0.7319 - val_loss: 0.3406 - val_recall: 0.7461\n",
      "Epoch 62/80\n",
      "36460/36460 [==============================] - 1s 25us/step - loss: 0.0449 - recall: 0.7483 - val_loss: 0.3438 - val_recall: 0.7488\n",
      "Epoch 63/80\n",
      "36460/36460 [==============================] - 1s 23us/step - loss: 0.0451 - recall: 0.7455 - val_loss: 0.3573 - val_recall: 0.7431\n",
      "Epoch 64/80\n",
      "36460/36460 [==============================] - 1s 40us/step - loss: 0.0448 - recall: 0.7478 - val_loss: 0.3185 - val_recall: 0.7664\n",
      "Epoch 65/80\n",
      "36460/36460 [==============================] - 1s 37us/step - loss: 0.0428 - recall: 0.7588 - val_loss: 0.3312 - val_recall: 0.7717\n",
      "Epoch 66/80\n",
      "36460/36460 [==============================] - 1s 28us/step - loss: 0.0431 - recall: 0.7552 - val_loss: 0.3573 - val_recall: 0.7404\n",
      "Epoch 67/80\n",
      "36460/36460 [==============================] - 1s 27us/step - loss: 0.0478 - recall: 0.7342 - val_loss: 0.3664 - val_recall: 0.7228\n",
      "Epoch 68/80\n",
      "36460/36460 [==============================] - 1s 38us/step - loss: 0.0454 - recall: 0.7402 - val_loss: 0.3295 - val_recall: 0.7616\n",
      "Epoch 69/80\n",
      "36460/36460 [==============================] - 1s 23us/step - loss: 0.0436 - recall: 0.7516 - val_loss: 0.3435 - val_recall: 0.7470\n",
      "Epoch 70/80\n",
      "36460/36460 [==============================] - 1s 28us/step - loss: 0.0428 - recall: 0.7592 - val_loss: 0.3614 - val_recall: 0.7241\n",
      "Epoch 71/80\n",
      "36460/36460 [==============================] - 1s 39us/step - loss: 0.0438 - recall: 0.7487 - val_loss: 0.3254 - val_recall: 0.7638\n",
      "Epoch 72/80\n",
      "36460/36460 [==============================] - 1s 38us/step - loss: 0.0431 - recall: 0.7515 - val_loss: 0.3208 - val_recall: 0.7620\n",
      "Epoch 73/80\n",
      "36460/36460 [==============================] - 1s 24us/step - loss: 0.0427 - recall: 0.7597 - val_loss: 0.3432 - val_recall: 0.7479\n",
      "Epoch 74/80\n",
      "36460/36460 [==============================] - 1s 29us/step - loss: 0.0425 - recall: 0.7559 - val_loss: 0.3253 - val_recall: 0.7832\n",
      "Epoch 75/80\n",
      "36460/36460 [==============================] - 1s 36us/step - loss: 0.0439 - recall: 0.7546 - val_loss: 0.3176 - val_recall: 0.7686\n",
      "Epoch 76/80\n",
      "36460/36460 [==============================] - 1s 38us/step - loss: 0.0427 - recall: 0.7599 - val_loss: 0.3373 - val_recall: 0.7629\n",
      "Epoch 77/80\n",
      "36460/36460 [==============================] - 1s 22us/step - loss: 0.0437 - recall: 0.7543 - val_loss: 0.3524 - val_recall: 0.7558\n",
      "Epoch 78/80\n",
      "36460/36460 [==============================] - 1s 21us/step - loss: 0.0425 - recall: 0.7629 - val_loss: 0.3798 - val_recall: 0.7272\n",
      "Epoch 79/80\n",
      "36460/36460 [==============================] - 1s 38us/step - loss: 0.0421 - recall: 0.7615 - val_loss: 0.3089 - val_recall: 0.7788\n",
      "Epoch 80/80\n",
      "36460/36460 [==============================] - 1s 37us/step - loss: 0.0474 - recall: 0.7388 - val_loss: 0.3822 - val_recall: 0.7373\n"
     ]
    }
   ],
   "source": [
    "seq=Sequential()\n",
    "seq.add(Dense(256,activation=activations.relu,input_shape=(15,),name='layer1'))\n",
    "#seq.add(layers.Dropout(0.3))\n",
    "seq.add(Dense(256,activation='relu',name='layer2'))\n",
    "#seq.add(layers.Dropout(0.3))\n",
    "seq.add(Dense(256,activation='relu',name='layer3'))\n",
    "#seq.add(layers.Dropout(0.3))\n",
    "seq.add(Dense(256,activation='relu',name='layer4'))\n",
    "#seq.add(layers.Dropout(0.3))\n",
    "seq.add(Dense(256,activation='relu',name='layer5'))\n",
    "#seq.add(layers.Dropout(0.3))\n",
    "seq.add(Dense(256,activation='relu',name='layer6'))\n",
    "#seq.add(Dense(128,activation='relu',name='layer7'))\n",
    "#seq.add(Dense(64,activation='relu',name='layer8'))\n",
    "#seq.add(Dense(32,activation='relu',name='layer9'))\n",
    "#seq.add(layers.Dropout(0.3))\n",
    "seq.add(Dense(1,activation='sigmoid',name='layer10'))\n",
    "metrics=[keras.metrics.Recall(name=\"recall\")]\n",
    "\n",
    "seq.compile(\n",
    "    optimizer=keras.optimizers.Adam(1e-2), loss=\"binary_crossentropy\", metrics=metrics)\n",
    "class_weight = {0: .5, 1: .1}\n",
    "\n",
    "#history=seq.fit(X_train, y_train, validation_data=(X_val, y_val),epochs=50,batch_size=1024)\n",
    "history=seq.fit(X_train, y_train, validation_data=(X_val, y_val),epochs=80,batch_size=2048,class_weight=class_weight)"
   ]
  },
  {
   "cell_type": "code",
   "execution_count": 165,
   "metadata": {},
   "outputs": [],
   "source": [
    "df_test_enc=autoencoder.predict(df_test)"
   ]
  },
  {
   "cell_type": "code",
   "execution_count": 214,
   "metadata": {},
   "outputs": [],
   "source": [
    "y_nn_pred_score=seq.predict(df_test_enc)"
   ]
  },
  {
   "cell_type": "code",
   "execution_count": 215,
   "metadata": {},
   "outputs": [],
   "source": [
    "y_nn_pred=y_nn_pred_score>.4"
   ]
  },
  {
   "cell_type": "code",
   "execution_count": 220,
   "metadata": {},
   "outputs": [],
   "source": [
    "y_nn_Pred=y_nn_pred.astype('int')"
   ]
  },
  {
   "cell_type": "code",
   "execution_count": 232,
   "metadata": {},
   "outputs": [],
   "source": [
    "y_nn_Pred=seq.predict_classes(df_test_enc)"
   ]
  },
  {
   "cell_type": "code",
   "execution_count": 233,
   "metadata": {},
   "outputs": [
    {
     "data": {
      "text/plain": [
       "array([1, 1, 1, ..., 1, 0, 0])"
      ]
     },
     "execution_count": 233,
     "metadata": {},
     "output_type": "execute_result"
    }
   ],
   "source": [
    "y_nn_Pred[:,0]"
   ]
  },
  {
   "cell_type": "code",
   "execution_count": 71,
   "metadata": {},
   "outputs": [
    {
     "data": {
      "text/plain": [
       "array([[-0.33602492,  0.73548947,  0.61861178, ...,  0.24505213,\n",
       "        -1.00872781,  0.30229601],\n",
       "       [ 0.35856051,  0.80110665,  0.81683078, ...,  0.64365126,\n",
       "         1.60118818,  0.06382199],\n",
       "       [-0.33602492, -1.42987743, -1.4957242 , ...,  0.89730526,\n",
       "         0.46945469,  0.06382199],\n",
       "       ...,\n",
       "       [-0.33602492,  0.73548947,  0.61861178, ...,  0.24505213,\n",
       "         1.26962802,  0.30229601],\n",
       "       [-0.33602492,  1.21038343,  1.22895067, ..., -0.47967357,\n",
       "         0.29642753,  0.31644598],\n",
       "       [-0.33602492, -1.36426025, -1.3635782 , ...,  0.02212672,\n",
       "        -0.60277466,  0.06382199]])"
      ]
     },
     "execution_count": 71,
     "metadata": {},
     "output_type": "execute_result"
    }
   ],
   "source": [
    "X_train"
   ]
  },
  {
   "cell_type": "code",
   "execution_count": 227,
   "metadata": {},
   "outputs": [],
   "source": [
    "y_test_nn_score=seq.predict(X_test)"
   ]
  },
  {
   "cell_type": "code",
   "execution_count": 228,
   "metadata": {},
   "outputs": [
    {
     "data": {
      "text/plain": [
       "array([[8.6774176e-05],\n",
       "       [4.6114441e-02],\n",
       "       [9.7914451e-01],\n",
       "       ...,\n",
       "       [3.1450582e-01],\n",
       "       [4.2265574e-03],\n",
       "       [1.4983720e-01]], dtype=float32)"
      ]
     },
     "execution_count": 228,
     "metadata": {},
     "output_type": "execute_result"
    }
   ],
   "source": [
    "y_test_nn_score"
   ]
  },
  {
   "cell_type": "code",
   "execution_count": 229,
   "metadata": {},
   "outputs": [],
   "source": [
    "from sklearn.metrics import precision_recall_curve\n",
    "precisions, recalls, thresholds = precision_recall_curve(y_test, y_test_nn_score)"
   ]
  },
  {
   "cell_type": "code",
   "execution_count": null,
   "metadata": {},
   "outputs": [],
   "source": []
  },
  {
   "cell_type": "code",
   "execution_count": 230,
   "metadata": {},
   "outputs": [],
   "source": [
    "def plot_precision_recall_vs_threshold(precisions, recalls, thresholds):\n",
    "    plt.plot(thresholds, precisions[:-1], \"b--\", label=\"Precision\")\n",
    "    plt.plot(thresholds, recalls[:-1], \"g-\", label=\"Recall\")\n",
    "    plt.legend()"
   ]
  },
  {
   "cell_type": "code",
   "execution_count": 231,
   "metadata": {},
   "outputs": [
    {
     "data": {
      "image/png": "[encoded data removed]",
      "text/plain": [
       "<Figure size 432x288 with 1 Axes>"
      ]
     },
     "metadata": {
      "needs_background": "light"
     },
     "output_type": "display_data"
    }
   ],
   "source": [
    "plot_precision_recall_vs_threshold(precisions, recalls, thresholds)\n",
    "plt.show()"
   ]
  },
  {
   "cell_type": "code",
   "execution_count": 238,
   "metadata": {},
   "outputs": [
    {
     "data": {
      "text/plain": [
       "0.8317962231005709"
      ]
     },
     "execution_count": 238,
     "metadata": {},
     "output_type": "execute_result"
    }
   ],
   "source": [
    "recall_score(y_test,y_test_nn)"
   ]
  },
  {
   "cell_type": "code",
   "execution_count": 153,
   "metadata": {},
   "outputs": [
    {
     "data": {
      "text/plain": [
       "array([[-0.33149102,  0.3465487 ,  0.68916296, ..., -0.47981008,\n",
       "         1.07699829, -1.25362   ],\n",
       "       [-0.33149102,  1.26588593,  1.28412657, ..., -2.66223712,\n",
       "        -0.99497464,  0.06944597],\n",
       "       [-0.33149102,  0.60921648,  0.55694882, ..., -0.47981008,\n",
       "        -1.66261037,  0.06944597],\n",
       "       ...,\n",
       "       [-0.33149102,  0.08388092,  0.16030642, ..., -0.47981008,\n",
       "        -0.23525123,  0.06944597],\n",
       "       [-0.33149102, -0.2444538 , -0.10412185, ...,  0.2476656 ,\n",
       "        -0.23525123,  0.06944597],\n",
       "       [-0.33149102, -1.36079186, -1.36015614, ..., -0.47981008,\n",
       "        -0.99497464,  0.06944597]])"
      ]
     },
     "execution_count": 153,
     "metadata": {},
     "output_type": "execute_result"
    }
   ],
   "source": [
    "df_test\n"
   ]
  },
  {
   "cell_type": "code",
   "execution_count": 234,
   "metadata": {},
   "outputs": [],
   "source": [
    "datadict={'INCIDENT_ID':test_inident_id,'MULTIPLE_OFFENSE':y_nn_Pred[:,0]}"
   ]
  },
  {
   "cell_type": "code",
   "execution_count": 235,
   "metadata": {},
   "outputs": [],
   "source": [
    "upload=pd.DataFrame(data=datadict)"
   ]
  },
  {
   "cell_type": "code",
   "execution_count": 224,
   "metadata": {},
   "outputs": [
    {
     "data": {
      "text/html": [
       "<div>\n",
       "<style scoped>\n",
       "    .dataframe tbody tr th:only-of-type {\n",
       "        vertical-align: middle;\n",
       "    }\n",
       "\n",
       "    .dataframe tbody tr th {\n",
       "        vertical-align: top;\n",
       "    }\n",
       "\n",
       "    .dataframe thead th {\n",
       "        text-align: right;\n",
       "    }\n",
       "</style>\n",
       "<table border=\"1\" class=\"dataframe\">\n",
       "  <thead>\n",
       "    <tr style=\"text-align: right;\">\n",
       "      <th></th>\n",
       "      <th>INCIDENT_ID</th>\n",
       "      <th>MULTIPLE_OFFENSE</th>\n",
       "    </tr>\n",
       "  </thead>\n",
       "  <tbody>\n",
       "    <tr>\n",
       "      <th>0</th>\n",
       "      <td>CR_195453</td>\n",
       "      <td>1</td>\n",
       "    </tr>\n",
       "    <tr>\n",
       "      <th>1</th>\n",
       "      <td>CR_103520</td>\n",
       "      <td>1</td>\n",
       "    </tr>\n",
       "    <tr>\n",
       "      <th>2</th>\n",
       "      <td>CR_196089</td>\n",
       "      <td>1</td>\n",
       "    </tr>\n",
       "    <tr>\n",
       "      <th>3</th>\n",
       "      <td>CR_112195</td>\n",
       "      <td>1</td>\n",
       "    </tr>\n",
       "    <tr>\n",
       "      <th>4</th>\n",
       "      <td>CR_149832</td>\n",
       "      <td>1</td>\n",
       "    </tr>\n",
       "    <tr>\n",
       "      <th>...</th>\n",
       "      <td>...</td>\n",
       "      <td>...</td>\n",
       "    </tr>\n",
       "    <tr>\n",
       "      <th>15898</th>\n",
       "      <td>CR_44468</td>\n",
       "      <td>1</td>\n",
       "    </tr>\n",
       "    <tr>\n",
       "      <th>15899</th>\n",
       "      <td>CR_158460</td>\n",
       "      <td>1</td>\n",
       "    </tr>\n",
       "    <tr>\n",
       "      <th>15900</th>\n",
       "      <td>CR_115946</td>\n",
       "      <td>1</td>\n",
       "    </tr>\n",
       "    <tr>\n",
       "      <th>15901</th>\n",
       "      <td>CR_137663</td>\n",
       "      <td>1</td>\n",
       "    </tr>\n",
       "    <tr>\n",
       "      <th>15902</th>\n",
       "      <td>CR_33545</td>\n",
       "      <td>1</td>\n",
       "    </tr>\n",
       "  </tbody>\n",
       "</table>\n",
       "<p>15903 rows × 2 columns</p>\n",
       "</div>"
      ],
      "text/plain": [
       "      INCIDENT_ID  MULTIPLE_OFFENSE\n",
       "0       CR_195453                 1\n",
       "1       CR_103520                 1\n",
       "2       CR_196089                 1\n",
       "3       CR_112195                 1\n",
       "4       CR_149832                 1\n",
       "...           ...               ...\n",
       "15898    CR_44468                 1\n",
       "15899   CR_158460                 1\n",
       "15900   CR_115946                 1\n",
       "15901   CR_137663                 1\n",
       "15902    CR_33545                 1\n",
       "\n",
       "[15903 rows x 2 columns]"
      ]
     },
     "execution_count": 224,
     "metadata": {},
     "output_type": "execute_result"
    }
   ],
   "source": [
    "upload"
   ]
  },
  {
   "cell_type": "code",
   "execution_count": 237,
   "metadata": {},
   "outputs": [],
   "source": [
    "upload.to_csv(\"hacking_incidence_NN1.csv\",index=False)"
   ]
  }
 ],
 "metadata": {
  "kernelspec": {
   "display_name": "Python 3",
   "language": "python",
   "name": "python3"
  },
  "language_info": {
   "codemirror_mode": {
    "name": "ipython",
    "version": 3
   },
   "file_extension": ".py",
   "mimetype": "text/x-python",
   "name": "python",
   "nbconvert_exporter": "python",
   "pygments_lexer": "ipython3",
   "version": "3.7.7"
  }
 },
 "nbformat": 4,
 "nbformat_minor": 4
}
