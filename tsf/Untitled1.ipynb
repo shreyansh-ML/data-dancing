{
 "cells": [
  {
   "cell_type": "code",
   "execution_count": 1,
   "metadata": {},
   "outputs": [],
   "source": [
    "import numpy as np"
   ]
  },
  {
   "cell_type": "code",
   "execution_count": 20,
   "metadata": {},
   "outputs": [
    {
     "data": {
      "text/plain": [
       "array([[ 6,  6,  6,  6,  6,  6,  6,  0],\n",
       "       [ 6,  6,  6,  6,  6,  6,  6,  0],\n",
       "       [ 6,  1,  2,  3,  4,  5,  4,  0],\n",
       "       [ 6,  7,  6,  6,  8,  8, 12,  0],\n",
       "       [ 6, 12, 11, 11, 90, 90, 80,  0],\n",
       "       [ 6, 78, 79, 76, 75, 74, 73,  0],\n",
       "       [ 6,  0,  0,  0,  0,  0,  0,  0],\n",
       "       [ 6,  0,  0,  0,  0,  0,  0,  0],\n",
       "       [ 6,  0,  0,  0,  0,  0,  0,  0]])"
      ]
     },
     "execution_count": 20,
     "metadata": {},
     "output_type": "execute_result"
    }
   ],
   "source": [
    "a =np.array( [1, 2, 3, 4, 5,4,7,6,6,8,8,12,12,11,11,90,90,80,78,79,76,75,74,73])\n",
    "\n",
    "a=a.reshape(4,6)\n",
    "np.pad(a, ((2,3),(1,1)), 'constant', constant_values=( 6,0))"
   ]
  },
  {
   "cell_type": "code",
   "execution_count": null,
   "metadata": {},
   "outputs": [],
   "source": []
  },
  {
   "cell_type": "code",
   "execution_count": null,
   "metadata": {},
   "outputs": [],
   "source": []
  },
  {
   "cell_type": "code",
   "execution_count": null,
   "metadata": {},
   "outputs": [],
   "source": []
  }
 ],
 "metadata": {
  "kernelspec": {
   "display_name": "Python 3",
   "language": "python",
   "name": "python3"
  },
  "language_info": {
   "codemirror_mode": {
    "name": "ipython",
    "version": 3
   },
   "file_extension": ".py",
   "mimetype": "text/x-python",
   "name": "python",
   "nbconvert_exporter": "python",
   "pygments_lexer": "ipython3",
   "version": "3.7.7"
  }
 },
 "nbformat": 4,
 "nbformat_minor": 4
}
