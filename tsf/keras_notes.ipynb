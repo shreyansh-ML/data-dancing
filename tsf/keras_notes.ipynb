{
 "cells": [
  {
   "cell_type": "markdown",
   "metadata": {},
   "source": [
    "https://www.kdnuggets.com/2018/02/8-neural-network-architectures-machine-learning-researchers-need-learn.html\n",
    "https://github.com/khanhnamle1994/neural-nets\n",
    "https://www.cs.toronto.edu/~hinton/coursera_lectures.html\n"
   ]
  },
  {
   "cell_type": "markdown",
   "metadata": {},
   "source": [
    "Input() is used to instantiate a Keras tensor.\n",
    "Model groups layers into an object with training and inference feature\n",
    "Class Sequential-linear stack of layers\n",
    "categorical_crossentropy is another term for multi-class log loss."
   ]
  },
  {
   "cell_type": "markdown",
   "metadata": {},
   "source": [
    "activation"
   ]
  },
  {
   "cell_type": "markdown",
   "metadata": {},
   "source": [
    "In machine learning, a category in a classification problem is called a class. Data\n",
    "points are called samples. The class associated with a specific sample is called a\n",
    "label."
   ]
  },
  {
   "cell_type": "markdown",
   "metadata": {},
   "source": [
    "output = relu(dot(W, input) + b)\n",
    "In this expression, W and b are tensors that are attributes of the layer. They’re called\n",
    "the weights or trainable parameters of the layer (the kernel and bias attributes, respectively).\n",
    "These weights contain the information learned by the network from exposure\n",
    "to training data."
   ]
  }
 ],
 "metadata": {
  "kernelspec": {
   "display_name": "Python 3",
   "language": "python",
   "name": "python3"
  },
  "language_info": {
   "codemirror_mode": {
    "name": "ipython",
    "version": 3
   },
   "file_extension": ".py",
   "mimetype": "text/x-python",
   "name": "python",
   "nbconvert_exporter": "python",
   "pygments_lexer": "ipython3",
   "version": "3.6.10"
  }
 },
 "nbformat": 4,
 "nbformat_minor": 2
}
