{
 "cells": [
  {
   "cell_type": "markdown",
   "metadata": {},
   "source": [
    "https://www.kdnuggets.com/2018/02/8-neural-network-architectures-machine-learning-researchers-need-learn.html\n",
    "https://github.com/khanhnamle1994/neural-nets\n",
    "https://www.cs.toronto.edu/~hinton/coursera_lectures.html\n"
   ]
  },
  {
   "cell_type": "markdown",
   "metadata": {},
   "source": [
    "Input() is used to instantiate a Keras tensor.\n",
    "Model groups layers into an object with training and inference feature\n",
    "Class Sequential-linear stack of layers\n",
    "categorical_crossentropy is another term for multi-class log loss."
   ]
  },
  {
   "cell_type": "markdown",
   "metadata": {},
   "source": [
    "activation"
   ]
  },
  {
   "cell_type": "markdown",
   "metadata": {},
   "source": [
    "In machine learning, a category in a classification problem is called a class. Data\n",
    "points are called samples. The class associated with a specific sample is called a\n",
    "label."
   ]
  },
  {
   "cell_type": "markdown",
   "metadata": {},
   "source": [
    "output = relu(dot(W, input) + b)\n",
    "In this expression, W and b are tensors that are attributes of the layer. They’re called\n",
    "the weights or trainable parameters of the layer (the kernel and bias attributes, respectively).\n",
    "These weights contain the information learned by the network from exposure\n",
    "to training data."
   ]
  },
  {
   "cell_type": "markdown",
   "metadata": {},
   "source": [
    "A simple model in this context is a model where the distribution of parameter values\n",
    "has less entropy"
   ]
  },
  {
   "cell_type": "markdown",
   "metadata": {},
   "source": [
    "Dense layers learn global patterns in their input feature space <br>\n",
    "convolution layers learn\n",
    "local patterns"
   ]
  },
  {
   "cell_type": "markdown",
   "metadata": {},
   "source": [
    "convnets two interesting properties\n",
    " 1. The patterns they learn are translation invariant\n",
    " 2. They can learn spatial hierarchies of patterns"
   ]
  },
  {
   "cell_type": "markdown",
   "metadata": {},
   "source": [
    "Convolutions operate over 3D tensors, called feature maps, with two spatial axes (height\n",
    "and width) as well as a depth axis (also called the channels axis).\n",
    "\n",
    "feature map\n",
    "means: every dimension in the depth axis is a feature (or filter), and the 2D tensor\n",
    "output[:, :, n] is the 2D spatial map of the response of this filter over the input."
   ]
  },
  {
   "cell_type": "markdown",
   "metadata": {},
   "source": [
    "terms:\n",
    "  1. feature map\n",
    "  2. Response feature map\n",
    "  3."
   ]
  },
  {
   "cell_type": "markdown",
   "metadata": {},
   "source": [
    "Convolutions are defined by two key parameters :\n",
    "  1. Size of the patches extracted from the inputs (typically 3x3 or 5x5)\n",
    "  2. Depth of the output feature map <br>\n",
    "   --Conv2D(output_depth, (window_height, window_width))."
   ]
  },
  {
   "cell_type": "markdown",
   "metadata": {},
   "source": [
    "When considering such a batch tensor, the first axis (axis 0) is called the batch axis or\n",
    "batch dimension. This is a term you’ll frequently encounter when using Keras and other\n",
    "deep-learning libraries"
   ]
  },
  {
   "cell_type": "markdown",
   "metadata": {},
   "source": [
    "Vector data—2D tensors of shape (samples, features)\n",
    " Timeseries data or sequence data—3D tensors of shape (samples, timesteps,\n",
    "features)\n",
    " Images—4D tensors of shape (samples, height, width, channels) or (samples,\n",
    "channels, height, width)\n",
    " Video—5D tensors of shape (samples, frames, height, width, channels) or\n",
    "(samples, frames, channels, height, width)"
   ]
  },
  {
   "cell_type": "markdown",
   "metadata": {},
   "source": [
    "There are two conventions for shapes of images tensors: the channels-last convention\n",
    "(used by TensorFlow) and the channels-first convention (used by Theano). The Tensor-\n",
    "Flow machine-learning framework, from Google, places the color-depth axis at the\n",
    "end: (samples, height, width, color_depth). Meanwhile, Theano places the color\n",
    "depth axis right after the batch axis: (samples, color_depth, height, width)"
   ]
  },
  {
   "cell_type": "markdown",
   "metadata": {},
   "source": [
    "output = relu(dot(W, input) + b)\n",
    "In this expression, W and b are tensors that are attributes of the layer. They’re called\n",
    "the weights or trainable parameters of the layer (the kernel and bias attributes, respectively)."
   ]
  },
  {
   "cell_type": "markdown",
   "metadata": {},
   "source": [
    "Momentum addresses two issues with\n",
    "SGD: convergence speed and local minima.\n",
    "---------------------\n",
    "simple vector data, stored in 2D tensors of shape (samples,\n",
    "features), is often processed by densely connected layers, also called fully connected or dense\n",
    "layers (the Dense class in Keras). Sequence data, stored in 3D tensors of shape (samples,\n",
    "timesteps, features), is typically processed by recurrent layers such as an LSTM layer.\n",
    "Image data, stored in 4D tensors, is usually processed by 2D convolution layers (Conv2D)."
   ]
  },
  {
   "cell_type": "markdown",
   "metadata": {},
   "source": [
    "network topology:\n",
    "   Two-branch networks\n",
    " Multihead networks\n",
    " Inception blocks"
   ]
  },
  {
   "cell_type": "code",
   "execution_count": null,
   "metadata": {},
   "outputs": [],
   "source": [
    "You should also vectorize your labels, which is straightforward:\n",
    "y_train = np.asarray(train_labels).astype('float32')\n",
    "y_test = np.asarray(test_labels).astype('float32')"
   ]
  }
 ],
 "metadata": {
  "kernelspec": {
   "display_name": "Python 3",
   "language": "python",
   "name": "python3"
  },
  "language_info": {
   "codemirror_mode": {
    "name": "ipython",
    "version": 3
   },
   "file_extension": ".py",
   "mimetype": "text/x-python",
   "name": "python",
   "nbconvert_exporter": "python",
   "pygments_lexer": "ipython3",
   "version": "3.7.7"
  }
 },
 "nbformat": 4,
 "nbformat_minor": 2
}
