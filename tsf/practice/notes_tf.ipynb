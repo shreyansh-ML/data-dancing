{
 "cells": [
  {
   "cell_type": "code",
   "execution_count": null,
   "metadata": {},
   "outputs": [],
   "source": [
    "1.conda create -n tensorflow_cpu pip python=3.6 <br>\n",
    "2.activate tensorflow_cpu <br>\n",
    "3.pip install --ignore-installed --upgrade tensorflow==1.9 <br>\n",
    "4.conda install -c conda-forge tensorboard <br>\n",
    "5.numpy,pandas,scikit-learn,"
   ]
  },
  {
   "cell_type": "code",
   "execution_count": 1,
   "metadata": {},
   "outputs": [],
   "source": [
    "from warnings import filterwarnings\n",
    "filterwarnings(\"ignore\",category=FutureWarning)"
   ]
  },
  {
   "cell_type": "code",
   "execution_count": 2,
   "metadata": {},
   "outputs": [],
   "source": [
    "import tensorflow as tf"
   ]
  },
  {
   "cell_type": "markdown",
   "metadata": {},
   "source": [
    ". DAG-Directed acyclic graph <br>\n",
    ". A tensor is n dimensional array of data <br>\n",
    "\n",
    "cpu/gpu/tpu/android ->core tensorflow(c++)->core tensorflow(python)->tf.layers,tf.losses,tf.metrices->tf.estimator (high level API for distributed training) <br>\n",
    "\n",
    "lazy evaluation:\n",
    "tf.eager mode is used to avoid lazy evaluation.\n",
    "\n"
   ]
  },
  {
   "cell_type": "markdown",
   "metadata": {},
   "source": [
    "A DAG consits of edges and nodes. <br>\n",
    "edges represent data which are n dimesional array <br>\n",
    "nodes is operation on data.<br>\n",
    "A DAG could optimize the code like compiler.\n",
    "A DAG could be remotely executed and assigned to devices. By using explicit edges a tf could partion the computaion with the help of DAG to multiple devices\n",
    "Session class is connecton between python program we write and C++ runtime\n",
    "Session allows to cache and distribute computation\n"
   ]
  },
  {
   "cell_type": "markdown",
   "metadata": {},
   "source": [
    "tf.variable() constructor claaing is not recommended .<br>\n",
    "call tf.get_variable()"
   ]
  },
  {
   "cell_type": "code",
   "execution_count": 3,
   "metadata": {},
   "outputs": [],
   "source": [
    "#   tf.Session.run(Z) = Z.eval()\n",
    "# tensorflow eager mode to tryout things\n",
    "#from tensorflow.contrib.eager.python import tfe\n",
    "#tfe.enable_eager_execution()"
   ]
  },
  {
   "cell_type": "code",
   "execution_count": 10,
   "metadata": {},
   "outputs": [],
   "source": [
    "#from tensorflow.python.framework.ops import disable_eager_execution\n",
    "#tf.compat.v1.disable_eager_execution()"
   ]
  },
  {
   "cell_type": "code",
   "execution_count": 9,
   "metadata": {},
   "outputs": [],
   "source": [
    "#writing the summary graph\n",
    "x=tf.constant([1,2,3,4],name=\"first\")\n",
    "y=tf.constant([3,3,3,3],name='second')\n",
    "z1=tf.add(x,y,name=\"third\")\n",
    "z2=x*y\n",
    "z3=z2-z1\n"
   ]
  },
  {
   "cell_type": "markdown",
   "metadata": {},
   "source": [
    "with tf.Session() as sess:\n",
    "    with tf.summary.FileWriter('summeries',sess.graph) as writer:\n",
    "        a1,a3=sess.run(z1,z3)\n"
   ]
  },
  {
   "cell_type": "code",
   "execution_count": 15,
   "metadata": {},
   "outputs": [],
   "source": [
    "with tf.Session() as sess:\n",
    "    with tf.summary.FileWriter('summeries',sess.graph) as writer:\n",
    "        a3=sess.run(z1)\n",
    "        a1=sess.run(z3)\n"
   ]
  },
  {
   "cell_type": "code",
   "execution_count": 16,
   "metadata": {},
   "outputs": [],
   "source": [
    "from google.datalab.ml import TensorBoard"
   ]
  },
  {
   "cell_type": "markdown",
   "metadata": {},
   "source": [
    "TensorBoard().start('./summeries')"
   ]
  },
  {
   "cell_type": "code",
   "execution_count": 19,
   "metadata": {},
   "outputs": [],
   "source": [
    "x=tf.constant([[3,5,7],[4,6,8]])"
   ]
  },
  {
   "cell_type": "code",
   "execution_count": 24,
   "metadata": {},
   "outputs": [],
   "source": [
    "y=x[1,0:2]"
   ]
  },
  {
   "cell_type": "code",
   "execution_count": 25,
   "metadata": {},
   "outputs": [
    {
     "name": "stdout",
     "output_type": "stream",
     "text": [
      "[4 6]\n"
     ]
    }
   ],
   "source": [
    "with tf.Session() as sess:\n",
    "    print(y.eval())"
   ]
  },
  {
   "cell_type": "code",
   "execution_count": null,
   "metadata": {},
   "outputs": [],
   "source": [
    "def area(X):\n",
    "    a=x[0]\n",
    "    b=X[1]\n",
    "    c=X[2]\n",
    "    "
   ]
  }
 ],
 "metadata": {
  "kernelspec": {
   "display_name": "Python 3",
   "language": "python",
   "name": "python3"
  },
  "language_info": {
   "codemirror_mode": {
    "name": "ipython",
    "version": 3
   },
   "file_extension": ".py",
   "mimetype": "text/x-python",
   "name": "python",
   "nbconvert_exporter": "python",
   "pygments_lexer": "ipython3",
   "version": "3.6.10"
  }
 },
 "nbformat": 4,
 "nbformat_minor": 2
}
