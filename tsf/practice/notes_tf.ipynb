{
 "cells": [
  {
   "cell_type": "code",
   "execution_count": null,
   "metadata": {},
   "outputs": [],
   "source": [
    "from warnings import filterwarnings\n",
    "filterwarnings(\"ignore\",category=FutureWarning)"
   ]
  },
  {
   "cell_type": "code",
   "execution_count": 2,
   "metadata": {},
   "outputs": [],
   "source": [
    "import tensorflow as tf"
   ]
  },
  {
   "cell_type": "markdown",
   "metadata": {},
   "source": [
    ". DAG-Directed acyclic graph <br>\n",
    ". A tensor is n dimensional array of data <br>\n",
    "\n",
    "cpu/gpu/tpu/android ->core tensorflow(c++)->core tensorflow(python)->tf.layers,tf.losses,tf.metrices->tf.estimator (high level API for distributed training) <br>\n",
    "\n",
    "lazy evaluation:\n",
    "tf.eager mode is used to avoid lazy evaluation.\n",
    "\n"
   ]
  },
  {
   "cell_type": "markdown",
   "metadata": {},
   "source": [
    "A DAG consits of edges and nodes. <br>\n",
    "edges represent data which are n dimesional array <br>\n",
    "nodes is operation on data.<br>\n",
    "A DAG could optimize the code like compiler.\n",
    "A DAG could be remotely executed and assigned to devices. By using explicit edges a tf could partion the computaion with the help of DAG to multiple devices\n",
    "Session class is connecton between python program we write and C++ runtime\n",
    "Session allows to cache and distribute computation\n"
   ]
  },
  {
   "cell_type": "code",
   "execution_count": 3,
   "metadata": {},
   "outputs": [],
   "source": [
    "#   tf.Session.run(Z) = Z.eval()\n",
    "# tensorflow eager mode to tryout things\n",
    "from tensorflow.contrib.eager.python import tfe\n",
    "tfe.enable_eager_execution()"
   ]
  },
  {
   "cell_type": "code",
   "execution_count": null,
   "metadata": {},
   "outputs": [],
   "source": []
  }
 ],
 "metadata": {
  "kernelspec": {
   "display_name": "Python 3",
   "language": "python",
   "name": "python3"
  },
  "language_info": {
   "codemirror_mode": {
    "name": "ipython",
    "version": 3
   },
   "file_extension": ".py",
   "mimetype": "text/x-python",
   "name": "python",
   "nbconvert_exporter": "python",
   "pygments_lexer": "ipython3",
   "version": "3.6.10"
  }
 },
 "nbformat": 4,
 "nbformat_minor": 2
}
