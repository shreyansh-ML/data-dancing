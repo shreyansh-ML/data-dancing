{
 "cells": [
  {
   "cell_type": "markdown",
   "metadata": {},
   "source": [
    "https://towardsdatascience.com/feature-selection-techniques-in-machine-learning-with-python-f24e7da3f36e"
   ]
  },
  {
   "cell_type": "markdown",
   "metadata": {},
   "source": [
    "1.Feature selection\n",
    "2.Feature learning\n",
    "3.Feature extraction\n",
    "4.Feature combination\n",
    "5.Dimensionality Reduction\n"
   ]
  },
  {
   "cell_type": "markdown",
   "metadata": {},
   "source": [
    "Problems with data:\n",
    "1.insufficient data\n",
    "2.Too much data\n",
    "3.Non representative data\n",
    "4.missing\n",
    "5.Duplicate\n",
    "6.outliers"
   ]
  },
  {
   "cell_type": "markdown",
   "metadata": {},
   "source": [
    "solving missing values:\n",
    "1. drop\n",
    "2. imputation\n",
    "   2.1 mean,median mode\n",
    "       -mean substitution can weaken correlation betwee columns\n",
    "       - can be problemetic when bivariate analysis is required\n",
    "       -regression model build for imputaion and mean substitution have complimetary strength\n",
    "          regression model improves correlation\n",
    "   2.2 a model like knn\n",
    "   2.3 hot deck imputation\n",
    "       -sort records based on any criteria\n",
    "       -for each missing value use immediately prior value\n",
    "       \"called last observation carried forward\" useful in time series data\n",
    "    "
   ]
  },
  {
   "cell_type": "markdown",
   "metadata": {},
   "source": [
    "outliers:\n",
    "    points that lie beyound 3  standard deviation from mean are called outlies\n",
    "    a z-score (also called a standard score) gives you an idea of how far from the mean a data point is\n",
    "    The rule is also called the 68-95-99 7 Rule or the Three Sigma Rule.\n",
    "\n"
   ]
  },
  {
   "cell_type": "markdown",
   "metadata": {},
   "source": [
    "feature selection techniques:\n",
    "1. filter methods :apply statistical metods\n",
    "    ki square , anova \n",
    "2. embeded method : lasso ,decision tree\n",
    "3. wrapper method : filter + embeded"
   ]
  },
  {
   "cell_type": "markdown",
   "metadata": {},
   "source": [
    "Feature learning - representation learning \n",
    " 1. supervised feature learning \n",
    "     - neural network\n",
    " 2. unsupervised feature learning\n",
    "     - clustering \n",
    "     - dictionary learning \n",
    "     - auto encodes"
   ]
  },
  {
   "cell_type": "markdown",
   "metadata": {},
   "source": [
    "feature extraction :\n",
    "1. image descriptors\n",
    "2. principal component for metrices\n",
    "3. tf - idf"
   ]
  },
  {
   "cell_type": "code",
   "execution_count": null,
   "metadata": {},
   "outputs": [],
   "source": [
    "feature combination\n",
    "1\n",
    "    "
   ]
  },
  {
   "cell_type": "markdown",
   "metadata": {},
   "source": [
    "Dimensionality reduction:\n",
    "    1. PCA\n",
    "    2. MAnifold learning\n",
    "    3. Latent Semantic analysis"
   ]
  },
  {
   "cell_type": "code",
   "execution_count": null,
   "metadata": {},
   "outputs": [],
   "source": []
  }
 ],
 "metadata": {
  "kernelspec": {
   "display_name": "Python 3",
   "language": "python",
   "name": "python3"
  },
  "language_info": {
   "codemirror_mode": {
    "name": "ipython",
    "version": 3
   },
   "file_extension": ".py",
   "mimetype": "text/x-python",
   "name": "python",
   "nbconvert_exporter": "python",
   "pygments_lexer": "ipython3",
   "version": "3.6.10"
  }
 },
 "nbformat": 4,
 "nbformat_minor": 2
}
