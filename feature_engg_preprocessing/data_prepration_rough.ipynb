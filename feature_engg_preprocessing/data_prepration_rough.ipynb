{
 "cells": [
  {
   "cell_type": "markdown",
   "metadata": {},
   "source": [
    "feature veactor = input ,label = output\n",
    "simple models work well with low or less data\n",
    "transfer learning:use the existing model and tweak it for low data"
   ]
  },
  {
   "cell_type": "markdown",
   "metadata": {},
   "source": [
    "if data is low then following techniques is used:\n",
    "    1.transfer learning:use the existing model and tweak it for low data\n",
    "    2.data augmentauion:usua generate the image data by some changes using scaling rotation or affine transform \n",
    "    3.generate synthatic data"
   ]
  },
  {
   "cell_type": "markdown",
   "metadata": {},
   "source": [
    "ecess data:\n",
    "    1.concept drift : relationship between feature and label changes over time (especially in finalcial data)\n",
    "        how to overcome curse of dimesionality:\n",
    "    1. feature selection: deciding which data is actually relevant \n",
    "    2. feature engineering: aggregating low level data into useful feature\n",
    "    3.dimensionality reduction:reduce the complexity without losing information\n",
    "concept hierarchy:\n",
    "    mapping that combines low level feature into more general usable feature\n",
    "    "
   ]
  },
  {
   "cell_type": "markdown",
   "metadata": {},
   "source": [
    "problems with data :\n",
    "    1. insufficient data \n",
    "    2.too much data \n",
    "    3.non representative data : data is inaccurate and smal errors have significant impact .If data is biased then it is mitigated \n",
    "        using oversampling or undersampling\n",
    "    4. missing data \n",
    "    5.Duplicate data \n",
    "    6.outliers\n",
    "    "
   ]
  },
  {
   "cell_type": "markdown",
   "metadata": {},
   "source": [
    "dealing with missing data :\n",
    "    1.Deletion: listwise deletion ,delete entire row if particulat feature is missing.\n",
    "    2. Imputataion: univariate imputation ,multivariate imputaion\n",
    "        2.1 column avegare,median,mode (univariate) or\n",
    "        interpret from other column or build a machine learning model  that predicts the value.(multivariate imputation)\n",
    "        2.2 hot deck imputation : sort record by any criteria and for each missing value use the prior missing value\n",
    "            (Last observation carried forward) ususally time series data \n",
    "            \n",
    "                                                                                                )"
   ]
  },
  {
   "cell_type": "markdown",
   "metadata": {},
   "source": [
    "outliers: the points which lie more than three standard daviations from mean are considered outliers\n",
    "    1. identify\n",
    "      1.1 distance from mean \n",
    "      1.2 distance from fitted line\n",
    "    2. correction\n",
    "      2.1 drop the record\n",
    "      2.2 if genuine outlier then leave it or cap it \n",
    "              in the case of capping there is need to standardize the data by deduction mean  from data points"
   ]
  },
  {
   "cell_type": "markdown",
   "metadata": {},
   "source": [
    "oversampling and undersmpling introduces bias to the data in order to make it balanced"
   ]
  },
  {
   "cell_type": "markdown",
   "metadata": {},
   "source": [
    "what is stratified sampling"
   ]
  },
  {
   "cell_type": "markdown",
   "metadata": {},
   "source": [
    "use pandas replace to replace unwated values with known or meaningful"
   ]
  },
  {
   "cell_type": "markdown",
   "metadata": {},
   "source": [
    "following are the steps taken at the time of data prepration:\n",
    "\n",
    "1. use df.describe to see the lower higher or other parameters \n",
    "2. count and handle nan values\n",
    "3. see the unique values and data type .Check for numeric and non numeric values.  cars['Year'].unique()\n",
    "4. use simple imputer to replace the missing values with mean ,median or mode.\n",
    "5."
   ]
  },
  {
   "cell_type": "markdown",
   "metadata": {},
   "source": [
    "https://medium.com/@juniormiranda_23768/ensemble-methods-bagging-and-pasting-in-scikit-learn-723f4183cdf4"
   ]
  },
  {
   "cell_type": "markdown",
   "metadata": {},
   "source": [
    "###  scaling the data\n",
    "\n",
    "1.MinMaxScalar\n",
    "2.RobustScalar\n",
    "3.StandardScalar\n",
    "4.Normalizer\n",
    "\n",
    "https://towardsdatascience.com/scale-standardize-or-normalize-with-scikit-learn-6ccc7d176a02"
   ]
  },
  {
   "cell_type": "code",
   "execution_count": 5,
   "metadata": {},
   "outputs": [],
   "source": [
    "import pandas as pd\n",
    "import numpy as np\n"
   ]
  },
  {
   "cell_type": "code",
   "execution_count": null,
   "metadata": {},
   "outputs": [],
   "source": []
  },
  {
   "cell_type": "code",
   "execution_count": 3,
   "metadata": {},
   "outputs": [],
   "source": [
    "cars=pd.read_csv(r'C:\\Users\\shsubham\\pythoncode\\Git-hub\\preparing-data-machine-learning\\datasets\\cars.csv')"
   ]
  },
  {
   "cell_type": "markdown",
   "metadata": {},
   "source": [
    "if the data ? or any other value replace it with np.nan"
   ]
  },
  {
   "cell_type": "code",
   "execution_count": 4,
   "metadata": {},
   "outputs": [
    {
     "data": {
      "text/html": [
       "<div>\n",
       "<style scoped>\n",
       "    .dataframe tbody tr th:only-of-type {\n",
       "        vertical-align: middle;\n",
       "    }\n",
       "\n",
       "    .dataframe tbody tr th {\n",
       "        vertical-align: top;\n",
       "    }\n",
       "\n",
       "    .dataframe thead th {\n",
       "        text-align: right;\n",
       "    }\n",
       "</style>\n",
       "<table border=\"1\" class=\"dataframe\">\n",
       "  <thead>\n",
       "    <tr style=\"text-align: right;\">\n",
       "      <th></th>\n",
       "      <th>Model</th>\n",
       "      <th>MPG</th>\n",
       "      <th>Cylinders</th>\n",
       "      <th>Displacement</th>\n",
       "      <th>Horsepower</th>\n",
       "      <th>Weight</th>\n",
       "      <th>Acceleration</th>\n",
       "      <th>Year</th>\n",
       "      <th>Origin</th>\n",
       "      <th>bore</th>\n",
       "      <th>stroke</th>\n",
       "      <th>compression-ratio</th>\n",
       "    </tr>\n",
       "  </thead>\n",
       "  <tbody>\n",
       "    <tr>\n",
       "      <td>0</td>\n",
       "      <td>chevrolet chevelle malibu</td>\n",
       "      <td>18.0</td>\n",
       "      <td>8</td>\n",
       "      <td>307</td>\n",
       "      <td>130</td>\n",
       "      <td>3504</td>\n",
       "      <td>12</td>\n",
       "      <td>1970[1975]</td>\n",
       "      <td>US; Detroit, Michigan</td>\n",
       "      <td>3.47</td>\n",
       "      <td>2.68</td>\n",
       "      <td>9</td>\n",
       "    </tr>\n",
       "    <tr>\n",
       "      <td>1</td>\n",
       "      <td>buick skylark 320</td>\n",
       "      <td>15.0</td>\n",
       "      <td>8</td>\n",
       "      <td>350</td>\n",
       "      <td>165</td>\n",
       "      <td>3693</td>\n",
       "      <td>11.5</td>\n",
       "      <td>1970</td>\n",
       "      <td>US]</td>\n",
       "      <td>3.47</td>\n",
       "      <td>2.68</td>\n",
       "      <td>?</td>\n",
       "    </tr>\n",
       "    <tr>\n",
       "      <td>2</td>\n",
       "      <td>plymouth satellite</td>\n",
       "      <td>18.0</td>\n",
       "      <td>?</td>\n",
       "      <td>318</td>\n",
       "      <td>150</td>\n",
       "      <td>3436</td>\n",
       "      <td>11</td>\n",
       "      <td>1970, 1976</td>\n",
       "      <td>US</td>\n",
       "      <td>2.68</td>\n",
       "      <td>3.47</td>\n",
       "      <td>9</td>\n",
       "    </tr>\n",
       "    <tr>\n",
       "      <td>3</td>\n",
       "      <td>amc rebel sst</td>\n",
       "      <td>16.0</td>\n",
       "      <td>8</td>\n",
       "      <td>304</td>\n",
       "      <td>150</td>\n",
       "      <td>3433</td>\n",
       "      <td>12</td>\n",
       "      <td>1970</td>\n",
       "      <td>US</td>\n",
       "      <td>3.19</td>\n",
       "      <td>3.40</td>\n",
       "      <td>10</td>\n",
       "    </tr>\n",
       "    <tr>\n",
       "      <td>4</td>\n",
       "      <td>ford torino</td>\n",
       "      <td>17.0</td>\n",
       "      <td>8</td>\n",
       "      <td>302</td>\n",
       "      <td>140</td>\n",
       "      <td>3449</td>\n",
       "      <td>10.5</td>\n",
       "      <td>1970-1972</td>\n",
       "      <td>US]</td>\n",
       "      <td>3.19</td>\n",
       "      <td>3.40</td>\n",
       "      <td>8</td>\n",
       "    </tr>\n",
       "  </tbody>\n",
       "</table>\n",
       "</div>"
      ],
      "text/plain": [
       "                       Model   MPG Cylinders Displacement  Horsepower Weight  \\\n",
       "0  chevrolet chevelle malibu  18.0         8          307         130   3504   \n",
       "1          buick skylark 320  15.0         8          350         165   3693   \n",
       "2         plymouth satellite  18.0         ?          318         150   3436   \n",
       "3              amc rebel sst  16.0         8          304         150   3433   \n",
       "4                ford torino  17.0         8          302         140   3449   \n",
       "\n",
       "  Acceleration        Year                 Origin  bore  stroke  \\\n",
       "0           12  1970[1975]  US; Detroit, Michigan  3.47    2.68   \n",
       "1         11.5        1970                    US]  3.47    2.68   \n",
       "2           11  1970, 1976                     US  2.68    3.47   \n",
       "3           12        1970                     US  3.19    3.40   \n",
       "4         10.5   1970-1972                    US]  3.19    3.40   \n",
       "\n",
       "  compression-ratio  \n",
       "0                 9  \n",
       "1                 ?  \n",
       "2                 9  \n",
       "3                10  \n",
       "4                 8  "
      ]
     },
     "execution_count": 4,
     "metadata": {},
     "output_type": "execute_result"
    }
   ],
   "source": [
    "cars.head()"
   ]
  },
  {
   "cell_type": "code",
   "execution_count": 7,
   "metadata": {},
   "outputs": [],
   "source": [
    "cars=cars.replace(\"?\",np.nan)"
   ]
  },
  {
   "cell_type": "code",
   "execution_count": 8,
   "metadata": {},
   "outputs": [
    {
     "data": {
      "text/html": [
       "<div>\n",
       "<style scoped>\n",
       "    .dataframe tbody tr th:only-of-type {\n",
       "        vertical-align: middle;\n",
       "    }\n",
       "\n",
       "    .dataframe tbody tr th {\n",
       "        vertical-align: top;\n",
       "    }\n",
       "\n",
       "    .dataframe thead th {\n",
       "        text-align: right;\n",
       "    }\n",
       "</style>\n",
       "<table border=\"1\" class=\"dataframe\">\n",
       "  <thead>\n",
       "    <tr style=\"text-align: right;\">\n",
       "      <th></th>\n",
       "      <th>Model</th>\n",
       "      <th>MPG</th>\n",
       "      <th>Cylinders</th>\n",
       "      <th>Displacement</th>\n",
       "      <th>Horsepower</th>\n",
       "      <th>Weight</th>\n",
       "      <th>Acceleration</th>\n",
       "      <th>Year</th>\n",
       "      <th>Origin</th>\n",
       "      <th>bore</th>\n",
       "      <th>stroke</th>\n",
       "      <th>compression-ratio</th>\n",
       "    </tr>\n",
       "  </thead>\n",
       "  <tbody>\n",
       "    <tr>\n",
       "      <td>0</td>\n",
       "      <td>chevrolet chevelle malibu</td>\n",
       "      <td>18.0</td>\n",
       "      <td>8</td>\n",
       "      <td>307</td>\n",
       "      <td>130</td>\n",
       "      <td>3504</td>\n",
       "      <td>12</td>\n",
       "      <td>1970[1975]</td>\n",
       "      <td>US; Detroit, Michigan</td>\n",
       "      <td>3.47</td>\n",
       "      <td>2.68</td>\n",
       "      <td>9</td>\n",
       "    </tr>\n",
       "    <tr>\n",
       "      <td>1</td>\n",
       "      <td>buick skylark 320</td>\n",
       "      <td>15.0</td>\n",
       "      <td>8</td>\n",
       "      <td>350</td>\n",
       "      <td>165</td>\n",
       "      <td>3693</td>\n",
       "      <td>11.5</td>\n",
       "      <td>1970</td>\n",
       "      <td>US]</td>\n",
       "      <td>3.47</td>\n",
       "      <td>2.68</td>\n",
       "      <td>NaN</td>\n",
       "    </tr>\n",
       "    <tr>\n",
       "      <td>2</td>\n",
       "      <td>plymouth satellite</td>\n",
       "      <td>18.0</td>\n",
       "      <td>NaN</td>\n",
       "      <td>318</td>\n",
       "      <td>150</td>\n",
       "      <td>3436</td>\n",
       "      <td>11</td>\n",
       "      <td>1970, 1976</td>\n",
       "      <td>US</td>\n",
       "      <td>2.68</td>\n",
       "      <td>3.47</td>\n",
       "      <td>9</td>\n",
       "    </tr>\n",
       "    <tr>\n",
       "      <td>3</td>\n",
       "      <td>amc rebel sst</td>\n",
       "      <td>16.0</td>\n",
       "      <td>8</td>\n",
       "      <td>304</td>\n",
       "      <td>150</td>\n",
       "      <td>3433</td>\n",
       "      <td>12</td>\n",
       "      <td>1970</td>\n",
       "      <td>US</td>\n",
       "      <td>3.19</td>\n",
       "      <td>3.40</td>\n",
       "      <td>10</td>\n",
       "    </tr>\n",
       "    <tr>\n",
       "      <td>4</td>\n",
       "      <td>ford torino</td>\n",
       "      <td>17.0</td>\n",
       "      <td>8</td>\n",
       "      <td>302</td>\n",
       "      <td>140</td>\n",
       "      <td>3449</td>\n",
       "      <td>10.5</td>\n",
       "      <td>1970-1972</td>\n",
       "      <td>US]</td>\n",
       "      <td>3.19</td>\n",
       "      <td>3.40</td>\n",
       "      <td>8</td>\n",
       "    </tr>\n",
       "  </tbody>\n",
       "</table>\n",
       "</div>"
      ],
      "text/plain": [
       "                       Model   MPG Cylinders Displacement  Horsepower Weight  \\\n",
       "0  chevrolet chevelle malibu  18.0         8          307         130   3504   \n",
       "1          buick skylark 320  15.0         8          350         165   3693   \n",
       "2         plymouth satellite  18.0       NaN          318         150   3436   \n",
       "3              amc rebel sst  16.0         8          304         150   3433   \n",
       "4                ford torino  17.0         8          302         140   3449   \n",
       "\n",
       "  Acceleration        Year                 Origin  bore  stroke  \\\n",
       "0           12  1970[1975]  US; Detroit, Michigan  3.47    2.68   \n",
       "1         11.5        1970                    US]  3.47    2.68   \n",
       "2           11  1970, 1976                     US  2.68    3.47   \n",
       "3           12        1970                     US  3.19    3.40   \n",
       "4         10.5   1970-1972                    US]  3.19    3.40   \n",
       "\n",
       "  compression-ratio  \n",
       "0                 9  \n",
       "1               NaN  \n",
       "2                 9  \n",
       "3                10  \n",
       "4                 8  "
      ]
     },
     "execution_count": 8,
     "metadata": {},
     "output_type": "execute_result"
    }
   ],
   "source": [
    "cars.head()"
   ]
  },
  {
   "cell_type": "code",
   "execution_count": 9,
   "metadata": {},
   "outputs": [
    {
     "data": {
      "text/plain": [
       "Model                0\n",
       "MPG                  9\n",
       "Cylinders            2\n",
       "Displacement         1\n",
       "Horsepower           0\n",
       "Weight               1\n",
       "Acceleration         1\n",
       "Year                 0\n",
       "Origin               0\n",
       "bore                 0\n",
       "stroke               0\n",
       "compression-ratio    2\n",
       "dtype: int64"
      ]
     },
     "execution_count": 9,
     "metadata": {},
     "output_type": "execute_result"
    }
   ],
   "source": [
    "cars.isna().sum()"
   ]
  },
  {
   "cell_type": "markdown",
   "metadata": {},
   "source": [
    "pd.na facilities : isna(),fillna(),dropna()\n",
    "isna() and isnull() are same"
   ]
  },
  {
   "cell_type": "markdown",
   "metadata": {},
   "source": [
    "check for numeric and non numeric count"
   ]
  },
  {
   "cell_type": "code",
   "execution_count": 10,
   "metadata": {},
   "outputs": [
    {
     "data": {
      "text/plain": [
       "True     357\n",
       "False     37\n",
       "Name: Year, dtype: int64"
      ]
     },
     "execution_count": 10,
     "metadata": {},
     "output_type": "execute_result"
    }
   ],
   "source": [
    "cars['Year'].str.isnumericmeric().value_counts()"
   ]
  },
  {
   "cell_type": "code",
   "execution_count": 12,
   "metadata": {},
   "outputs": [
    {
     "data": {
      "text/plain": [
       "array(['1970[1975]', '1970', '1970, 1976', '1970-1972', '1971',\n",
       "       '1971[1973]971', '1971[1973]', '1972[1973]', '1972', '1972-73',\n",
       "       '1973', '1973-1974', '1973, 1974', '1973, 19741973', '1974',\n",
       "       '1974, 1975', '1974, 19751974', '1975', '1976', '1977', '1978',\n",
       "       '1979', '1980', '1981', '1982', '1982-1985'], dtype=object)"
      ]
     },
     "execution_count": 12,
     "metadata": {},
     "output_type": "execute_result"
    }
   ],
   "source": [
    "cars['Year'].unique()"
   ]
  },
  {
   "cell_type": "code",
   "execution_count": 13,
   "metadata": {},
   "outputs": [],
   "source": [
    "from sklearn.impute import SimpleImputer"
   ]
  },
  {
   "cell_type": "code",
   "execution_count": 64,
   "metadata": {},
   "outputs": [],
   "source": [
    "df=pd.read_csv(r'C:\\Users\\shsubham\\pythoncode\\Git-hub\\preparing-data-machine-learning\\datasets\\diabetes.csv')"
   ]
  },
  {
   "cell_type": "code",
   "execution_count": 65,
   "metadata": {},
   "outputs": [
    {
     "data": {
      "text/html": [
       "<div>\n",
       "<style scoped>\n",
       "    .dataframe tbody tr th:only-of-type {\n",
       "        vertical-align: middle;\n",
       "    }\n",
       "\n",
       "    .dataframe tbody tr th {\n",
       "        vertical-align: top;\n",
       "    }\n",
       "\n",
       "    .dataframe thead th {\n",
       "        text-align: right;\n",
       "    }\n",
       "</style>\n",
       "<table border=\"1\" class=\"dataframe\">\n",
       "  <thead>\n",
       "    <tr style=\"text-align: right;\">\n",
       "      <th></th>\n",
       "      <th>Pregnancies</th>\n",
       "      <th>Glucose</th>\n",
       "      <th>BloodPressure</th>\n",
       "      <th>SkinThickness</th>\n",
       "      <th>Insulin</th>\n",
       "      <th>BMI</th>\n",
       "      <th>DiabetesPedigreeFunction</th>\n",
       "      <th>Age</th>\n",
       "      <th>Outcome</th>\n",
       "    </tr>\n",
       "  </thead>\n",
       "  <tbody>\n",
       "    <tr>\n",
       "      <td>count</td>\n",
       "      <td>768.000000</td>\n",
       "      <td>768.000000</td>\n",
       "      <td>768.000000</td>\n",
       "      <td>768.000000</td>\n",
       "      <td>768.000000</td>\n",
       "      <td>768.000000</td>\n",
       "      <td>768.000000</td>\n",
       "      <td>768.000000</td>\n",
       "      <td>768.000000</td>\n",
       "    </tr>\n",
       "    <tr>\n",
       "      <td>mean</td>\n",
       "      <td>3.845052</td>\n",
       "      <td>120.894531</td>\n",
       "      <td>69.105469</td>\n",
       "      <td>20.536458</td>\n",
       "      <td>79.799479</td>\n",
       "      <td>31.992578</td>\n",
       "      <td>0.471876</td>\n",
       "      <td>33.240885</td>\n",
       "      <td>0.348958</td>\n",
       "    </tr>\n",
       "    <tr>\n",
       "      <td>std</td>\n",
       "      <td>3.369578</td>\n",
       "      <td>31.972618</td>\n",
       "      <td>19.355807</td>\n",
       "      <td>15.952218</td>\n",
       "      <td>115.244002</td>\n",
       "      <td>7.884160</td>\n",
       "      <td>0.331329</td>\n",
       "      <td>11.760232</td>\n",
       "      <td>0.476951</td>\n",
       "    </tr>\n",
       "    <tr>\n",
       "      <td>min</td>\n",
       "      <td>0.000000</td>\n",
       "      <td>0.000000</td>\n",
       "      <td>0.000000</td>\n",
       "      <td>0.000000</td>\n",
       "      <td>0.000000</td>\n",
       "      <td>0.000000</td>\n",
       "      <td>0.078000</td>\n",
       "      <td>21.000000</td>\n",
       "      <td>0.000000</td>\n",
       "    </tr>\n",
       "    <tr>\n",
       "      <td>25%</td>\n",
       "      <td>1.000000</td>\n",
       "      <td>99.000000</td>\n",
       "      <td>62.000000</td>\n",
       "      <td>0.000000</td>\n",
       "      <td>0.000000</td>\n",
       "      <td>27.300000</td>\n",
       "      <td>0.243750</td>\n",
       "      <td>24.000000</td>\n",
       "      <td>0.000000</td>\n",
       "    </tr>\n",
       "    <tr>\n",
       "      <td>50%</td>\n",
       "      <td>3.000000</td>\n",
       "      <td>117.000000</td>\n",
       "      <td>72.000000</td>\n",
       "      <td>23.000000</td>\n",
       "      <td>30.500000</td>\n",
       "      <td>32.000000</td>\n",
       "      <td>0.372500</td>\n",
       "      <td>29.000000</td>\n",
       "      <td>0.000000</td>\n",
       "    </tr>\n",
       "    <tr>\n",
       "      <td>75%</td>\n",
       "      <td>6.000000</td>\n",
       "      <td>140.250000</td>\n",
       "      <td>80.000000</td>\n",
       "      <td>32.000000</td>\n",
       "      <td>127.250000</td>\n",
       "      <td>36.600000</td>\n",
       "      <td>0.626250</td>\n",
       "      <td>41.000000</td>\n",
       "      <td>1.000000</td>\n",
       "    </tr>\n",
       "    <tr>\n",
       "      <td>max</td>\n",
       "      <td>17.000000</td>\n",
       "      <td>199.000000</td>\n",
       "      <td>122.000000</td>\n",
       "      <td>99.000000</td>\n",
       "      <td>846.000000</td>\n",
       "      <td>67.100000</td>\n",
       "      <td>2.420000</td>\n",
       "      <td>81.000000</td>\n",
       "      <td>1.000000</td>\n",
       "    </tr>\n",
       "  </tbody>\n",
       "</table>\n",
       "</div>"
      ],
      "text/plain": [
       "       Pregnancies     Glucose  BloodPressure  SkinThickness     Insulin  \\\n",
       "count   768.000000  768.000000     768.000000     768.000000  768.000000   \n",
       "mean      3.845052  120.894531      69.105469      20.536458   79.799479   \n",
       "std       3.369578   31.972618      19.355807      15.952218  115.244002   \n",
       "min       0.000000    0.000000       0.000000       0.000000    0.000000   \n",
       "25%       1.000000   99.000000      62.000000       0.000000    0.000000   \n",
       "50%       3.000000  117.000000      72.000000      23.000000   30.500000   \n",
       "75%       6.000000  140.250000      80.000000      32.000000  127.250000   \n",
       "max      17.000000  199.000000     122.000000      99.000000  846.000000   \n",
       "\n",
       "              BMI  DiabetesPedigreeFunction         Age     Outcome  \n",
       "count  768.000000                768.000000  768.000000  768.000000  \n",
       "mean    31.992578                  0.471876   33.240885    0.348958  \n",
       "std      7.884160                  0.331329   11.760232    0.476951  \n",
       "min      0.000000                  0.078000   21.000000    0.000000  \n",
       "25%     27.300000                  0.243750   24.000000    0.000000  \n",
       "50%     32.000000                  0.372500   29.000000    0.000000  \n",
       "75%     36.600000                  0.626250   41.000000    1.000000  \n",
       "max     67.100000                  2.420000   81.000000    1.000000  "
      ]
     },
     "execution_count": 65,
     "metadata": {},
     "output_type": "execute_result"
    }
   ],
   "source": [
    "df.describe()"
   ]
  },
  {
   "cell_type": "code",
   "execution_count": 66,
   "metadata": {},
   "outputs": [],
   "source": [
    "df['BloodPressure'].replace(0.0,np.nan,inplace=True)"
   ]
  },
  {
   "cell_type": "code",
   "execution_count": 67,
   "metadata": {},
   "outputs": [
    {
     "data": {
      "text/html": [
       "<div>\n",
       "<style scoped>\n",
       "    .dataframe tbody tr th:only-of-type {\n",
       "        vertical-align: middle;\n",
       "    }\n",
       "\n",
       "    .dataframe tbody tr th {\n",
       "        vertical-align: top;\n",
       "    }\n",
       "\n",
       "    .dataframe thead th {\n",
       "        text-align: right;\n",
       "    }\n",
       "</style>\n",
       "<table border=\"1\" class=\"dataframe\">\n",
       "  <thead>\n",
       "    <tr style=\"text-align: right;\">\n",
       "      <th></th>\n",
       "      <th>Pregnancies</th>\n",
       "      <th>Glucose</th>\n",
       "      <th>BloodPressure</th>\n",
       "      <th>SkinThickness</th>\n",
       "      <th>Insulin</th>\n",
       "      <th>BMI</th>\n",
       "      <th>DiabetesPedigreeFunction</th>\n",
       "      <th>Age</th>\n",
       "      <th>Outcome</th>\n",
       "    </tr>\n",
       "  </thead>\n",
       "  <tbody>\n",
       "    <tr>\n",
       "      <td>count</td>\n",
       "      <td>768.000000</td>\n",
       "      <td>768.000000</td>\n",
       "      <td>733.000000</td>\n",
       "      <td>768.000000</td>\n",
       "      <td>768.000000</td>\n",
       "      <td>768.000000</td>\n",
       "      <td>768.000000</td>\n",
       "      <td>768.000000</td>\n",
       "      <td>768.000000</td>\n",
       "    </tr>\n",
       "    <tr>\n",
       "      <td>mean</td>\n",
       "      <td>3.845052</td>\n",
       "      <td>120.894531</td>\n",
       "      <td>72.405184</td>\n",
       "      <td>20.536458</td>\n",
       "      <td>79.799479</td>\n",
       "      <td>31.992578</td>\n",
       "      <td>0.471876</td>\n",
       "      <td>33.240885</td>\n",
       "      <td>0.348958</td>\n",
       "    </tr>\n",
       "    <tr>\n",
       "      <td>std</td>\n",
       "      <td>3.369578</td>\n",
       "      <td>31.972618</td>\n",
       "      <td>12.382158</td>\n",
       "      <td>15.952218</td>\n",
       "      <td>115.244002</td>\n",
       "      <td>7.884160</td>\n",
       "      <td>0.331329</td>\n",
       "      <td>11.760232</td>\n",
       "      <td>0.476951</td>\n",
       "    </tr>\n",
       "    <tr>\n",
       "      <td>min</td>\n",
       "      <td>0.000000</td>\n",
       "      <td>0.000000</td>\n",
       "      <td>24.000000</td>\n",
       "      <td>0.000000</td>\n",
       "      <td>0.000000</td>\n",
       "      <td>0.000000</td>\n",
       "      <td>0.078000</td>\n",
       "      <td>21.000000</td>\n",
       "      <td>0.000000</td>\n",
       "    </tr>\n",
       "    <tr>\n",
       "      <td>25%</td>\n",
       "      <td>1.000000</td>\n",
       "      <td>99.000000</td>\n",
       "      <td>64.000000</td>\n",
       "      <td>0.000000</td>\n",
       "      <td>0.000000</td>\n",
       "      <td>27.300000</td>\n",
       "      <td>0.243750</td>\n",
       "      <td>24.000000</td>\n",
       "      <td>0.000000</td>\n",
       "    </tr>\n",
       "    <tr>\n",
       "      <td>50%</td>\n",
       "      <td>3.000000</td>\n",
       "      <td>117.000000</td>\n",
       "      <td>72.000000</td>\n",
       "      <td>23.000000</td>\n",
       "      <td>30.500000</td>\n",
       "      <td>32.000000</td>\n",
       "      <td>0.372500</td>\n",
       "      <td>29.000000</td>\n",
       "      <td>0.000000</td>\n",
       "    </tr>\n",
       "    <tr>\n",
       "      <td>75%</td>\n",
       "      <td>6.000000</td>\n",
       "      <td>140.250000</td>\n",
       "      <td>80.000000</td>\n",
       "      <td>32.000000</td>\n",
       "      <td>127.250000</td>\n",
       "      <td>36.600000</td>\n",
       "      <td>0.626250</td>\n",
       "      <td>41.000000</td>\n",
       "      <td>1.000000</td>\n",
       "    </tr>\n",
       "    <tr>\n",
       "      <td>max</td>\n",
       "      <td>17.000000</td>\n",
       "      <td>199.000000</td>\n",
       "      <td>122.000000</td>\n",
       "      <td>99.000000</td>\n",
       "      <td>846.000000</td>\n",
       "      <td>67.100000</td>\n",
       "      <td>2.420000</td>\n",
       "      <td>81.000000</td>\n",
       "      <td>1.000000</td>\n",
       "    </tr>\n",
       "  </tbody>\n",
       "</table>\n",
       "</div>"
      ],
      "text/plain": [
       "       Pregnancies     Glucose  BloodPressure  SkinThickness     Insulin  \\\n",
       "count   768.000000  768.000000     733.000000     768.000000  768.000000   \n",
       "mean      3.845052  120.894531      72.405184      20.536458   79.799479   \n",
       "std       3.369578   31.972618      12.382158      15.952218  115.244002   \n",
       "min       0.000000    0.000000      24.000000       0.000000    0.000000   \n",
       "25%       1.000000   99.000000      64.000000       0.000000    0.000000   \n",
       "50%       3.000000  117.000000      72.000000      23.000000   30.500000   \n",
       "75%       6.000000  140.250000      80.000000      32.000000  127.250000   \n",
       "max      17.000000  199.000000     122.000000      99.000000  846.000000   \n",
       "\n",
       "              BMI  DiabetesPedigreeFunction         Age     Outcome  \n",
       "count  768.000000                768.000000  768.000000  768.000000  \n",
       "mean    31.992578                  0.471876   33.240885    0.348958  \n",
       "std      7.884160                  0.331329   11.760232    0.476951  \n",
       "min      0.000000                  0.078000   21.000000    0.000000  \n",
       "25%     27.300000                  0.243750   24.000000    0.000000  \n",
       "50%     32.000000                  0.372500   29.000000    0.000000  \n",
       "75%     36.600000                  0.626250   41.000000    1.000000  \n",
       "max     67.100000                  2.420000   81.000000    1.000000  "
      ]
     },
     "execution_count": 67,
     "metadata": {},
     "output_type": "execute_result"
    }
   ],
   "source": [
    "df.describe()\n"
   ]
  },
  {
   "cell_type": "code",
   "execution_count": 68,
   "metadata": {},
   "outputs": [
    {
     "data": {
      "text/plain": [
       "35"
      ]
     },
     "execution_count": 68,
     "metadata": {},
     "output_type": "execute_result"
    }
   ],
   "source": [
    "df['BloodPressure'].isna().sum()"
   ]
  },
  {
   "cell_type": "code",
   "execution_count": 69,
   "metadata": {},
   "outputs": [],
   "source": [
    "SI_BP=SimpleImputer(np.nan,strategy='mean')"
   ]
  },
  {
   "cell_type": "code",
   "execution_count": 70,
   "metadata": {},
   "outputs": [
    {
     "data": {
      "text/plain": [
       "SimpleImputer(add_indicator=False, copy=True, fill_value=None,\n",
       "              missing_values=nan, strategy='mean', verbose=0)"
      ]
     },
     "execution_count": 70,
     "metadata": {},
     "output_type": "execute_result"
    }
   ],
   "source": [
    "SI_BP.fit([df['BloodPressure']])"
   ]
  },
  {
   "cell_type": "code",
   "execution_count": 71,
   "metadata": {},
   "outputs": [],
   "source": [
    "df['BloodPressure']=pd.Series(SI_BP.transform([df['BloodPressure']])[0])"
   ]
  },
  {
   "cell_type": "code",
   "execution_count": 72,
   "metadata": {},
   "outputs": [
    {
     "data": {
      "text/html": [
       "<div>\n",
       "<style scoped>\n",
       "    .dataframe tbody tr th:only-of-type {\n",
       "        vertical-align: middle;\n",
       "    }\n",
       "\n",
       "    .dataframe tbody tr th {\n",
       "        vertical-align: top;\n",
       "    }\n",
       "\n",
       "    .dataframe thead th {\n",
       "        text-align: right;\n",
       "    }\n",
       "</style>\n",
       "<table border=\"1\" class=\"dataframe\">\n",
       "  <thead>\n",
       "    <tr style=\"text-align: right;\">\n",
       "      <th></th>\n",
       "      <th>Pregnancies</th>\n",
       "      <th>Glucose</th>\n",
       "      <th>BloodPressure</th>\n",
       "      <th>SkinThickness</th>\n",
       "      <th>Insulin</th>\n",
       "      <th>BMI</th>\n",
       "      <th>DiabetesPedigreeFunction</th>\n",
       "      <th>Age</th>\n",
       "      <th>Outcome</th>\n",
       "    </tr>\n",
       "  </thead>\n",
       "  <tbody>\n",
       "    <tr>\n",
       "      <td>count</td>\n",
       "      <td>768.000000</td>\n",
       "      <td>768.000000</td>\n",
       "      <td>733.000000</td>\n",
       "      <td>768.000000</td>\n",
       "      <td>768.000000</td>\n",
       "      <td>768.000000</td>\n",
       "      <td>768.000000</td>\n",
       "      <td>768.000000</td>\n",
       "      <td>768.000000</td>\n",
       "    </tr>\n",
       "    <tr>\n",
       "      <td>mean</td>\n",
       "      <td>3.845052</td>\n",
       "      <td>120.894531</td>\n",
       "      <td>72.405184</td>\n",
       "      <td>20.536458</td>\n",
       "      <td>79.799479</td>\n",
       "      <td>31.992578</td>\n",
       "      <td>0.471876</td>\n",
       "      <td>33.240885</td>\n",
       "      <td>0.348958</td>\n",
       "    </tr>\n",
       "    <tr>\n",
       "      <td>std</td>\n",
       "      <td>3.369578</td>\n",
       "      <td>31.972618</td>\n",
       "      <td>12.382158</td>\n",
       "      <td>15.952218</td>\n",
       "      <td>115.244002</td>\n",
       "      <td>7.884160</td>\n",
       "      <td>0.331329</td>\n",
       "      <td>11.760232</td>\n",
       "      <td>0.476951</td>\n",
       "    </tr>\n",
       "    <tr>\n",
       "      <td>min</td>\n",
       "      <td>0.000000</td>\n",
       "      <td>0.000000</td>\n",
       "      <td>24.000000</td>\n",
       "      <td>0.000000</td>\n",
       "      <td>0.000000</td>\n",
       "      <td>0.000000</td>\n",
       "      <td>0.078000</td>\n",
       "      <td>21.000000</td>\n",
       "      <td>0.000000</td>\n",
       "    </tr>\n",
       "    <tr>\n",
       "      <td>25%</td>\n",
       "      <td>1.000000</td>\n",
       "      <td>99.000000</td>\n",
       "      <td>64.000000</td>\n",
       "      <td>0.000000</td>\n",
       "      <td>0.000000</td>\n",
       "      <td>27.300000</td>\n",
       "      <td>0.243750</td>\n",
       "      <td>24.000000</td>\n",
       "      <td>0.000000</td>\n",
       "    </tr>\n",
       "    <tr>\n",
       "      <td>50%</td>\n",
       "      <td>3.000000</td>\n",
       "      <td>117.000000</td>\n",
       "      <td>72.000000</td>\n",
       "      <td>23.000000</td>\n",
       "      <td>30.500000</td>\n",
       "      <td>32.000000</td>\n",
       "      <td>0.372500</td>\n",
       "      <td>29.000000</td>\n",
       "      <td>0.000000</td>\n",
       "    </tr>\n",
       "    <tr>\n",
       "      <td>75%</td>\n",
       "      <td>6.000000</td>\n",
       "      <td>140.250000</td>\n",
       "      <td>80.000000</td>\n",
       "      <td>32.000000</td>\n",
       "      <td>127.250000</td>\n",
       "      <td>36.600000</td>\n",
       "      <td>0.626250</td>\n",
       "      <td>41.000000</td>\n",
       "      <td>1.000000</td>\n",
       "    </tr>\n",
       "    <tr>\n",
       "      <td>max</td>\n",
       "      <td>17.000000</td>\n",
       "      <td>199.000000</td>\n",
       "      <td>122.000000</td>\n",
       "      <td>99.000000</td>\n",
       "      <td>846.000000</td>\n",
       "      <td>67.100000</td>\n",
       "      <td>2.420000</td>\n",
       "      <td>81.000000</td>\n",
       "      <td>1.000000</td>\n",
       "    </tr>\n",
       "  </tbody>\n",
       "</table>\n",
       "</div>"
      ],
      "text/plain": [
       "       Pregnancies     Glucose  BloodPressure  SkinThickness     Insulin  \\\n",
       "count   768.000000  768.000000     733.000000     768.000000  768.000000   \n",
       "mean      3.845052  120.894531      72.405184      20.536458   79.799479   \n",
       "std       3.369578   31.972618      12.382158      15.952218  115.244002   \n",
       "min       0.000000    0.000000      24.000000       0.000000    0.000000   \n",
       "25%       1.000000   99.000000      64.000000       0.000000    0.000000   \n",
       "50%       3.000000  117.000000      72.000000      23.000000   30.500000   \n",
       "75%       6.000000  140.250000      80.000000      32.000000  127.250000   \n",
       "max      17.000000  199.000000     122.000000      99.000000  846.000000   \n",
       "\n",
       "              BMI  DiabetesPedigreeFunction         Age     Outcome  \n",
       "count  768.000000                768.000000  768.000000  768.000000  \n",
       "mean    31.992578                  0.471876   33.240885    0.348958  \n",
       "std      7.884160                  0.331329   11.760232    0.476951  \n",
       "min      0.000000                  0.078000   21.000000    0.000000  \n",
       "25%     27.300000                  0.243750   24.000000    0.000000  \n",
       "50%     32.000000                  0.372500   29.000000    0.000000  \n",
       "75%     36.600000                  0.626250   41.000000    1.000000  \n",
       "max     67.100000                  2.420000   81.000000    1.000000  "
      ]
     },
     "execution_count": 72,
     "metadata": {},
     "output_type": "execute_result"
    }
   ],
   "source": [
    "df.describe()"
   ]
  },
  {
   "cell_type": "code",
   "execution_count": 73,
   "metadata": {},
   "outputs": [
    {
     "data": {
      "text/plain": [
       "35"
      ]
     },
     "execution_count": 73,
     "metadata": {},
     "output_type": "execute_result"
    }
   ],
   "source": [
    "df['BloodPressure'].isna().sum()"
   ]
  },
  {
   "cell_type": "code",
   "execution_count": 37,
   "metadata": {},
   "outputs": [],
   "source": [
    "col1=df['BloodPressure']"
   ]
  },
  {
   "cell_type": "code",
   "execution_count": 38,
   "metadata": {},
   "outputs": [
    {
     "data": {
      "text/plain": [
       "pandas.core.series.Series"
      ]
     },
     "execution_count": 38,
     "metadata": {},
     "output_type": "execute_result"
    }
   ],
   "source": [
    "type(col1)"
   ]
  },
  {
   "cell_type": "code",
   "execution_count": 80,
   "metadata": {},
   "outputs": [
    {
     "ename": "ValueError",
     "evalue": "Length of values does not match length of index",
     "output_type": "error",
     "traceback": [
      "\u001b[1;31m---------------------------------------------------------------------------\u001b[0m",
      "\u001b[1;31mValueError\u001b[0m                                Traceback (most recent call last)",
      "\u001b[1;32m<ipython-input-80-1979314acf58>\u001b[0m in \u001b[0;36m<module>\u001b[1;34m\u001b[0m\n\u001b[1;32m----> 1\u001b[1;33m \u001b[0mdf\u001b[0m\u001b[1;33m[\u001b[0m\u001b[1;34m'BloodPressure'\u001b[0m\u001b[1;33m]\u001b[0m\u001b[1;33m=\u001b[0m\u001b[0mSI_BP\u001b[0m\u001b[1;33m.\u001b[0m\u001b[0mtransform\u001b[0m\u001b[1;33m(\u001b[0m\u001b[1;33m[\u001b[0m\u001b[0mdf\u001b[0m\u001b[1;33m[\u001b[0m\u001b[1;34m'BloodPressure'\u001b[0m\u001b[1;33m]\u001b[0m\u001b[1;33m]\u001b[0m\u001b[1;33m)\u001b[0m\u001b[1;33m\u001b[0m\u001b[1;33m\u001b[0m\u001b[0m\n\u001b[0m",
      "\u001b[1;32m~\\AppData\\Local\\Continuum\\anaconda3\\lib\\site-packages\\pandas\\core\\frame.py\u001b[0m in \u001b[0;36m__setitem__\u001b[1;34m(self, key, value)\u001b[0m\n\u001b[0;32m   3470\u001b[0m         \u001b[1;32melse\u001b[0m\u001b[1;33m:\u001b[0m\u001b[1;33m\u001b[0m\u001b[1;33m\u001b[0m\u001b[0m\n\u001b[0;32m   3471\u001b[0m             \u001b[1;31m# set column\u001b[0m\u001b[1;33m\u001b[0m\u001b[1;33m\u001b[0m\u001b[1;33m\u001b[0m\u001b[0m\n\u001b[1;32m-> 3472\u001b[1;33m             \u001b[0mself\u001b[0m\u001b[1;33m.\u001b[0m\u001b[0m_set_item\u001b[0m\u001b[1;33m(\u001b[0m\u001b[0mkey\u001b[0m\u001b[1;33m,\u001b[0m \u001b[0mvalue\u001b[0m\u001b[1;33m)\u001b[0m\u001b[1;33m\u001b[0m\u001b[1;33m\u001b[0m\u001b[0m\n\u001b[0m\u001b[0;32m   3473\u001b[0m \u001b[1;33m\u001b[0m\u001b[0m\n\u001b[0;32m   3474\u001b[0m     \u001b[1;32mdef\u001b[0m \u001b[0m_setitem_slice\u001b[0m\u001b[1;33m(\u001b[0m\u001b[0mself\u001b[0m\u001b[1;33m,\u001b[0m \u001b[0mkey\u001b[0m\u001b[1;33m,\u001b[0m \u001b[0mvalue\u001b[0m\u001b[1;33m)\u001b[0m\u001b[1;33m:\u001b[0m\u001b[1;33m\u001b[0m\u001b[1;33m\u001b[0m\u001b[0m\n",
      "\u001b[1;32m~\\AppData\\Local\\Continuum\\anaconda3\\lib\\site-packages\\pandas\\core\\frame.py\u001b[0m in \u001b[0;36m_set_item\u001b[1;34m(self, key, value)\u001b[0m\n\u001b[0;32m   3547\u001b[0m \u001b[1;33m\u001b[0m\u001b[0m\n\u001b[0;32m   3548\u001b[0m         \u001b[0mself\u001b[0m\u001b[1;33m.\u001b[0m\u001b[0m_ensure_valid_index\u001b[0m\u001b[1;33m(\u001b[0m\u001b[0mvalue\u001b[0m\u001b[1;33m)\u001b[0m\u001b[1;33m\u001b[0m\u001b[1;33m\u001b[0m\u001b[0m\n\u001b[1;32m-> 3549\u001b[1;33m         \u001b[0mvalue\u001b[0m \u001b[1;33m=\u001b[0m \u001b[0mself\u001b[0m\u001b[1;33m.\u001b[0m\u001b[0m_sanitize_column\u001b[0m\u001b[1;33m(\u001b[0m\u001b[0mkey\u001b[0m\u001b[1;33m,\u001b[0m \u001b[0mvalue\u001b[0m\u001b[1;33m)\u001b[0m\u001b[1;33m\u001b[0m\u001b[1;33m\u001b[0m\u001b[0m\n\u001b[0m\u001b[0;32m   3550\u001b[0m         \u001b[0mNDFrame\u001b[0m\u001b[1;33m.\u001b[0m\u001b[0m_set_item\u001b[0m\u001b[1;33m(\u001b[0m\u001b[0mself\u001b[0m\u001b[1;33m,\u001b[0m \u001b[0mkey\u001b[0m\u001b[1;33m,\u001b[0m \u001b[0mvalue\u001b[0m\u001b[1;33m)\u001b[0m\u001b[1;33m\u001b[0m\u001b[1;33m\u001b[0m\u001b[0m\n\u001b[0;32m   3551\u001b[0m \u001b[1;33m\u001b[0m\u001b[0m\n",
      "\u001b[1;32m~\\AppData\\Local\\Continuum\\anaconda3\\lib\\site-packages\\pandas\\core\\frame.py\u001b[0m in \u001b[0;36m_sanitize_column\u001b[1;34m(self, key, value, broadcast)\u001b[0m\n\u001b[0;32m   3732\u001b[0m \u001b[1;33m\u001b[0m\u001b[0m\n\u001b[0;32m   3733\u001b[0m             \u001b[1;31m# turn me into an ndarray\u001b[0m\u001b[1;33m\u001b[0m\u001b[1;33m\u001b[0m\u001b[1;33m\u001b[0m\u001b[0m\n\u001b[1;32m-> 3734\u001b[1;33m             \u001b[0mvalue\u001b[0m \u001b[1;33m=\u001b[0m \u001b[0msanitize_index\u001b[0m\u001b[1;33m(\u001b[0m\u001b[0mvalue\u001b[0m\u001b[1;33m,\u001b[0m \u001b[0mself\u001b[0m\u001b[1;33m.\u001b[0m\u001b[0mindex\u001b[0m\u001b[1;33m,\u001b[0m \u001b[0mcopy\u001b[0m\u001b[1;33m=\u001b[0m\u001b[1;32mFalse\u001b[0m\u001b[1;33m)\u001b[0m\u001b[1;33m\u001b[0m\u001b[1;33m\u001b[0m\u001b[0m\n\u001b[0m\u001b[0;32m   3735\u001b[0m             \u001b[1;32mif\u001b[0m \u001b[1;32mnot\u001b[0m \u001b[0misinstance\u001b[0m\u001b[1;33m(\u001b[0m\u001b[0mvalue\u001b[0m\u001b[1;33m,\u001b[0m \u001b[1;33m(\u001b[0m\u001b[0mnp\u001b[0m\u001b[1;33m.\u001b[0m\u001b[0mndarray\u001b[0m\u001b[1;33m,\u001b[0m \u001b[0mIndex\u001b[0m\u001b[1;33m)\u001b[0m\u001b[1;33m)\u001b[0m\u001b[1;33m:\u001b[0m\u001b[1;33m\u001b[0m\u001b[1;33m\u001b[0m\u001b[0m\n\u001b[0;32m   3736\u001b[0m                 \u001b[1;32mif\u001b[0m \u001b[0misinstance\u001b[0m\u001b[1;33m(\u001b[0m\u001b[0mvalue\u001b[0m\u001b[1;33m,\u001b[0m \u001b[0mlist\u001b[0m\u001b[1;33m)\u001b[0m \u001b[1;32mand\u001b[0m \u001b[0mlen\u001b[0m\u001b[1;33m(\u001b[0m\u001b[0mvalue\u001b[0m\u001b[1;33m)\u001b[0m \u001b[1;33m>\u001b[0m \u001b[1;36m0\u001b[0m\u001b[1;33m:\u001b[0m\u001b[1;33m\u001b[0m\u001b[1;33m\u001b[0m\u001b[0m\n",
      "\u001b[1;32m~\\AppData\\Local\\Continuum\\anaconda3\\lib\\site-packages\\pandas\\core\\internals\\construction.py\u001b[0m in \u001b[0;36msanitize_index\u001b[1;34m(data, index, copy)\u001b[0m\n\u001b[0;32m    610\u001b[0m \u001b[1;33m\u001b[0m\u001b[0m\n\u001b[0;32m    611\u001b[0m     \u001b[1;32mif\u001b[0m \u001b[0mlen\u001b[0m\u001b[1;33m(\u001b[0m\u001b[0mdata\u001b[0m\u001b[1;33m)\u001b[0m \u001b[1;33m!=\u001b[0m \u001b[0mlen\u001b[0m\u001b[1;33m(\u001b[0m\u001b[0mindex\u001b[0m\u001b[1;33m)\u001b[0m\u001b[1;33m:\u001b[0m\u001b[1;33m\u001b[0m\u001b[1;33m\u001b[0m\u001b[0m\n\u001b[1;32m--> 612\u001b[1;33m         \u001b[1;32mraise\u001b[0m \u001b[0mValueError\u001b[0m\u001b[1;33m(\u001b[0m\u001b[1;34m\"Length of values does not match length of index\"\u001b[0m\u001b[1;33m)\u001b[0m\u001b[1;33m\u001b[0m\u001b[1;33m\u001b[0m\u001b[0m\n\u001b[0m\u001b[0;32m    613\u001b[0m \u001b[1;33m\u001b[0m\u001b[0m\n\u001b[0;32m    614\u001b[0m     \u001b[1;32mif\u001b[0m \u001b[0misinstance\u001b[0m\u001b[1;33m(\u001b[0m\u001b[0mdata\u001b[0m\u001b[1;33m,\u001b[0m \u001b[0mABCIndexClass\u001b[0m\u001b[1;33m)\u001b[0m \u001b[1;32mand\u001b[0m \u001b[1;32mnot\u001b[0m \u001b[0mcopy\u001b[0m\u001b[1;33m:\u001b[0m\u001b[1;33m\u001b[0m\u001b[1;33m\u001b[0m\u001b[0m\n",
      "\u001b[1;31mValueError\u001b[0m: Length of values does not match length of index"
     ]
    }
   ],
   "source": [
    "df['BloodPressure']=SI_BP.transform([df['BloodPressure']])"
   ]
  },
  {
   "cell_type": "code",
   "execution_count": 59,
   "metadata": {},
   "outputs": [
    {
     "data": {
      "text/plain": [
       "0      72.0\n",
       "1      66.0\n",
       "2      64.0\n",
       "3      66.0\n",
       "4      40.0\n",
       "       ... \n",
       "763     NaN\n",
       "764     NaN\n",
       "765     NaN\n",
       "766     NaN\n",
       "767     NaN\n",
       "Name: BloodPressure, Length: 768, dtype: float64"
      ]
     },
     "execution_count": 59,
     "metadata": {},
     "output_type": "execute_result"
    }
   ],
   "source": [
    "df['BloodPressure']"
   ]
  },
  {
   "cell_type": "code",
   "execution_count": 47,
   "metadata": {},
   "outputs": [],
   "source": [
    "tv=(SI_BP.transform([df['BloodPressure']]))"
   ]
  },
  {
   "cell_type": "code",
   "execution_count": 50,
   "metadata": {},
   "outputs": [],
   "source": [
    "df['BloodPressure']=pd.Series(tv[0])"
   ]
  },
  {
   "cell_type": "code",
   "execution_count": 60,
   "metadata": {},
   "outputs": [],
   "source": [
    "imp=SimpleImputer(np.nan,strategy='mean')"
   ]
  },
  {
   "cell_type": "code",
   "execution_count": 61,
   "metadata": {},
   "outputs": [
    {
     "data": {
      "text/plain": [
       "SimpleImputer(add_indicator=False, copy=True, fill_value=None,\n",
       "              missing_values=nan, strategy='mean', verbose=0)"
      ]
     },
     "execution_count": 61,
     "metadata": {},
     "output_type": "execute_result"
    }
   ],
   "source": [
    "imp.fit(df['BloodPressure'].values.reshape(-1,1))"
   ]
  },
  {
   "cell_type": "code",
   "execution_count": 78,
   "metadata": {},
   "outputs": [],
   "source": [
    "df['BloodPressure']=imp.transform(df['BloodPressure'].values.reshape(-1,1))"
   ]
  },
  {
   "cell_type": "code",
   "execution_count": 79,
   "metadata": {},
   "outputs": [
    {
     "data": {
      "text/plain": [
       "array([ 72.        ,  66.        ,  64.        ,  66.        ,\n",
       "        40.        ,  74.        ,  50.        ,  70.        ,\n",
       "        96.        ,  92.        ,  74.        ,  80.        ,\n",
       "        60.        ,  72.        ,  84.        ,  74.        ,\n",
       "        30.        ,  70.        ,  88.        ,  84.        ,\n",
       "        90.        ,  80.        ,  94.        ,  70.        ,\n",
       "        76.        ,  66.        ,  82.        ,  92.        ,\n",
       "        75.        ,  76.        ,  58.        ,  92.        ,\n",
       "        78.        ,  60.        ,  76.        ,  76.        ,\n",
       "        68.        ,  72.        ,  64.        ,  84.        ,\n",
       "        92.        , 110.        ,  64.        ,  66.        ,\n",
       "        56.        ,  70.        ,  66.        ,  80.        ,\n",
       "        50.        ,  66.        ,  90.        ,  66.        ,\n",
       "        50.        ,  68.        ,  88.        ,  82.        ,\n",
       "        64.        ,  72.        ,  62.        ,  58.        ,\n",
       "        66.        ,  74.        ,  88.        ,  92.        ,\n",
       "        66.        ,  85.        ,  66.        ,  64.        ,\n",
       "        90.        ,  86.        ,  75.        ,  48.        ,\n",
       "        78.        ,  72.        ,  66.        ,  44.        ,\n",
       "        78.        ,  65.        , 108.        ,  74.        ,\n",
       "        72.        ,  68.        ,  70.        ,  68.        ,\n",
       "        55.        ,  80.        ,  78.        ,  72.        ,\n",
       "        82.        ,  72.        ,  62.        ,  48.        ,\n",
       "        50.        ,  90.        ,  72.        ,  60.        ,\n",
       "        96.        ,  72.        ,  65.        ,  56.        ,\n",
       "       122.        ,  58.        ,  58.        ,  85.        ,\n",
       "        72.        ,  62.        ,  76.        ,  62.        ,\n",
       "        54.        ,  92.        ,  74.        ,  48.        ,\n",
       "        60.        ,  76.        ,  76.        ,  64.        ,\n",
       "        74.        ,  80.        ,  76.        ,  30.        ,\n",
       "        70.        ,  58.        ,  88.        ,  84.        ,\n",
       "        70.        ,  56.        ,  64.        ,  74.        ,\n",
       "        68.        ,  60.        ,  70.        ,  60.        ,\n",
       "        80.        ,  72.        ,  78.        ,  82.        ,\n",
       "        52.        ,  66.        ,  62.        ,  75.        ,\n",
       "        80.        ,  64.        ,  78.        ,  70.        ,\n",
       "        74.        ,  65.        ,  86.        ,  82.        ,\n",
       "        78.        ,  88.        ,  52.        ,  56.        ,\n",
       "        74.        ,  72.        ,  90.        ,  74.        ,\n",
       "        80.        ,  64.        ,  88.        ,  74.        ,\n",
       "        66.        ,  68.        ,  66.        ,  90.        ,\n",
       "        82.        ,  70.        ,  60.        ,  64.        ,\n",
       "        72.        ,  78.        , 110.        ,  78.        ,\n",
       "        82.        ,  80.        ,  64.        ,  74.        ,\n",
       "        60.        ,  74.        ,  68.        ,  68.        ,\n",
       "        98.        ,  76.        ,  80.        ,  62.        ,\n",
       "        70.        ,  66.        ,  55.        ,  84.        ,\n",
       "        58.        ,  62.        ,  64.        ,  60.        ,\n",
       "        80.        ,  82.        ,  68.        ,  70.        ,\n",
       "        72.        ,  72.        ,  76.        , 104.        ,\n",
       "        64.        ,  84.        ,  60.        ,  85.        ,\n",
       "        95.        ,  65.        ,  82.        ,  70.        ,\n",
       "        62.        ,  68.        ,  74.        ,  66.        ,\n",
       "        60.        ,  90.        ,  60.        ,  66.        ,\n",
       "        78.        ,  76.        ,  52.        ,  70.        ,\n",
       "        80.        ,  86.        ,  80.        ,  80.        ,\n",
       "        68.        ,  68.        ,  72.        ,  84.        ,\n",
       "        90.        ,  84.        ,  76.        ,  64.        ,\n",
       "        70.        ,  54.        ,  50.        ,  76.        ,\n",
       "        85.        ,  68.        ,  90.        ,  70.        ,\n",
       "        86.        ,  52.        ,  84.        ,  80.        ,\n",
       "        68.        ,  62.        ,  64.        ,  56.        ,\n",
       "        68.        ,  50.        ,  76.        ,  68.        ,\n",
       "        70.        ,  80.        ,  62.        ,  74.        ,\n",
       "        64.        ,  52.        ,  86.        ,  62.        ,\n",
       "        78.        ,  78.        ,  70.        ,  70.        ,\n",
       "        60.        ,  64.        ,  74.        ,  62.        ,\n",
       "        70.        ,  76.        ,  88.        ,  86.        ,\n",
       "        80.        ,  74.        ,  84.        ,  86.        ,\n",
       "        56.        ,  72.        ,  88.        ,  62.        ,\n",
       "        78.        ,  48.        ,  50.        ,  62.        ,\n",
       "        70.        ,  84.        ,  78.        ,  72.        ,\n",
       "        58.        ,  82.        ,  98.        ,  76.        ,\n",
       "        76.        ,  68.        ,  68.        ,  68.        ,\n",
       "        68.        ,  66.        ,  70.        ,  74.        ,\n",
       "        50.        ,  80.        ,  68.        ,  80.        ,\n",
       "        74.        ,  66.        ,  78.        ,  60.        ,\n",
       "        74.        ,  70.        ,  90.        ,  75.        ,\n",
       "        72.        ,  64.        ,  70.        ,  86.        ,\n",
       "        70.        ,  72.        ,  58.        ,  80.        ,\n",
       "        60.        ,  76.        ,  76.        ,  78.        ,\n",
       "        84.        ,  70.        ,  74.        ,  68.        ,\n",
       "        86.        ,  72.        ,  88.        ,  46.        ,\n",
       "        62.        ,  80.        ,  80.        ,  84.        ,\n",
       "        82.        ,  62.        ,  78.        ,  88.        ,\n",
       "        50.        ,  74.        ,  76.        ,  64.        ,\n",
       "        70.        , 108.        ,  78.        ,  74.        ,\n",
       "        54.        ,  72.        ,  64.        ,  86.        ,\n",
       "       102.        ,  82.        ,  64.        ,  64.        ,\n",
       "        58.        ,  52.        ,  82.        ,  82.        ,\n",
       "        60.        ,  75.        , 100.        ,  72.        ,\n",
       "        68.        ,  60.        ,  62.        ,  70.        ,\n",
       "        54.        ,  74.        , 100.        ,  82.        ,\n",
       "        68.        ,  66.        ,  76.        ,  64.        ,\n",
       "        72.        ,  78.        ,  58.        ,  56.        ,\n",
       "        66.        ,  70.        ,  70.        ,  64.        ,\n",
       "        61.        ,  84.        ,  78.        ,  64.        ,\n",
       "        48.        ,  72.        ,  62.        ,  74.        ,\n",
       "        68.        ,  90.        ,  72.        ,  84.        ,\n",
       "        74.        ,  60.        ,  84.        ,  68.        ,\n",
       "        82.        ,  68.        ,  64.        ,  88.        ,\n",
       "        68.        ,  64.        ,  64.        ,  78.        ,\n",
       "        78.        ,  64.        ,  94.        ,  82.        ,\n",
       "        74.        ,  74.        ,  75.        ,  68.        ,\n",
       "        85.        ,  75.        ,  70.        ,  88.        ,\n",
       "       104.        ,  66.        ,  64.        ,  70.        ,\n",
       "        62.        ,  78.        ,  72.        ,  80.        ,\n",
       "        64.        ,  74.        ,  64.        ,  70.        ,\n",
       "        68.        ,  54.        ,  62.        ,  54.        ,\n",
       "        68.        ,  84.        ,  74.        ,  72.        ,\n",
       "        62.        ,  70.        ,  78.        ,  98.        ,\n",
       "        56.        ,  52.        ,  64.        ,  78.        ,\n",
       "        82.        ,  70.        ,  66.        ,  90.        ,\n",
       "        64.        ,  84.        ,  80.        ,  76.        ,\n",
       "        74.        ,  86.        ,  70.        ,  88.        ,\n",
       "        58.        ,  82.        ,  68.        ,  62.        ,\n",
       "        78.        ,  72.        ,  80.        ,  65.        ,\n",
       "        90.        ,  68.        ,  70.        ,  74.        ,\n",
       "        68.        ,  72.        ,  70.        ,  74.        ,\n",
       "        90.        ,  72.        ,  68.        ,  64.        ,\n",
       "        78.        ,  82.        ,  90.        ,  60.        ,\n",
       "        50.        ,  78.        ,  72.        ,  62.        ,\n",
       "        68.        ,  62.        ,  54.        ,  70.        ,\n",
       "        88.        ,  86.        ,  60.        ,  90.        ,\n",
       "        70.        ,  80.        ,  70.        ,  58.        ,\n",
       "        60.        ,  64.        ,  74.        ,  66.        ,\n",
       "        65.        ,  60.        ,  76.        ,  66.        ,\n",
       "        56.        ,  90.        ,  60.        ,  80.        ,\n",
       "        92.        ,  74.        ,  72.        ,  85.        ,\n",
       "        90.        ,  78.        ,  90.        ,  76.        ,\n",
       "        68.        ,  82.        , 110.        ,  70.        ,\n",
       "        68.        ,  88.        ,  62.        ,  64.        ,\n",
       "        70.        ,  70.        ,  76.        ,  68.        ,\n",
       "        74.        ,  76.        ,  66.        ,  68.        ,\n",
       "        60.        ,  80.        ,  54.        ,  72.        ,\n",
       "        62.        ,  72.        ,  66.        ,  70.        ,\n",
       "        96.        ,  58.        ,  60.        ,  86.        ,\n",
       "        44.        ,  44.        ,  80.        ,  68.        ,\n",
       "        70.        ,  90.        ,  60.        ,  78.        ,\n",
       "        76.        ,  76.        ,  56.        ,  66.        ,\n",
       "        66.        ,  86.        ,  84.        ,  78.        ,\n",
       "        80.        ,  52.        ,  72.        ,  82.        ,\n",
       "        76.        ,  24.        ,  74.        ,  38.        ,\n",
       "        88.        ,  74.        ,  78.        ,  60.        ,\n",
       "        78.        ,  62.        ,  82.        ,  62.        ,\n",
       "        54.        ,  58.        ,  88.        ,  80.        ,\n",
       "        74.        ,  72.        ,  96.        ,  62.        ,\n",
       "        82.        ,  86.        ,  76.        ,  94.        ,\n",
       "        70.        ,  64.        ,  88.        ,  68.        ,\n",
       "        78.        ,  80.        ,  65.        ,  64.        ,\n",
       "        78.        ,  60.        ,  82.        ,  62.        ,\n",
       "        72.        ,  74.        ,  76.        ,  76.        ,\n",
       "        74.        ,  86.        ,  70.        ,  80.        ,\n",
       "        72.        ,  74.        ,  74.        ,  50.        ,\n",
       "        84.        ,  60.        ,  54.        ,  60.        ,\n",
       "        74.        ,  54.        ,  70.        ,  52.        ,\n",
       "        58.        ,  80.        , 106.        ,  82.        ,\n",
       "        84.        ,  76.        , 106.        ,  80.        ,\n",
       "        60.        ,  80.        ,  82.        ,  70.        ,\n",
       "        58.        ,  78.        ,  68.        ,  58.        ,\n",
       "       106.        , 100.        ,  82.        ,  70.        ,\n",
       "        86.        ,  60.        ,  52.        ,  58.        ,\n",
       "        56.        ,  76.        ,  64.        ,  80.        ,\n",
       "        82.        ,  74.        ,  64.        ,  50.        ,\n",
       "        74.        ,  82.        ,  80.        , 114.        ,\n",
       "        70.        ,  68.        ,  60.        ,  90.        ,\n",
       "        74.        ,  88.        ,  70.        ,  76.        ,\n",
       "        78.        ,  88.        ,  76.        ,  80.        ,\n",
       "        46.        ,  78.        ,  64.        ,  64.        ,\n",
       "        78.        ,  62.        ,  58.        ,  74.        ,\n",
       "        50.        ,  78.        ,  72.        ,  60.        ,\n",
       "        76.        ,  86.        ,  66.        ,  68.        ,\n",
       "        86.        ,  94.        ,  78.        ,  78.        ,\n",
       "        84.        ,  88.        ,  52.        ,  78.        ,\n",
       "        86.        ,  88.        ,  56.        ,  75.        ,\n",
       "        60.        ,  86.        ,  72.        ,  60.        ,\n",
       "        74.        ,  80.        ,  44.        ,  58.        ,\n",
       "        94.        ,  88.        ,  84.        ,  94.        ,\n",
       "        74.        ,  70.        ,  62.        ,  70.        ,\n",
       "        78.        ,  62.        ,  88.        ,  78.        ,\n",
       "        88.        ,  90.        ,  72.        ,  76.        ,\n",
       "        92.        ,  58.        ,  74.        ,  62.        ,\n",
       "        76.        ,  70.        ,  72.        ,  60.        ,\n",
       "        70.        ,  72.72578445,  72.72578445,  72.72578445,\n",
       "        72.72578445,  72.72578445,  72.72578445,  72.72578445,\n",
       "        72.72578445,  72.72578445,  72.72578445,  72.72578445,\n",
       "        72.72578445,  72.72578445,  72.72578445,  72.72578445,\n",
       "        72.72578445,  72.72578445,  72.72578445,  72.72578445,\n",
       "        72.72578445,  72.72578445,  72.72578445,  72.72578445,\n",
       "        72.72578445,  72.72578445,  72.72578445,  72.72578445,\n",
       "        72.72578445,  72.72578445,  72.72578445,  72.72578445,\n",
       "        72.72578445,  72.72578445,  72.72578445,  72.72578445])"
      ]
     },
     "execution_count": 79,
     "metadata": {},
     "output_type": "execute_result"
    }
   ],
   "source": [
    "df['BloodPressure'].values"
   ]
  }
 ],
 "metadata": {
  "kernelspec": {
   "display_name": "Python 3",
   "language": "python",
   "name": "python3"
  },
  "language_info": {
   "codemirror_mode": {
    "name": "ipython",
    "version": 3
   },
   "file_extension": ".py",
   "mimetype": "text/x-python",
   "name": "python",
   "nbconvert_exporter": "python",
   "pygments_lexer": "ipython3",
   "version": "3.7.7"
  }
 },
 "nbformat": 4,
 "nbformat_minor": 2
}
