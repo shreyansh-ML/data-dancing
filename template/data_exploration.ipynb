{
 "cells": [
  {
   "cell_type": "code",
   "execution_count": 4,
   "metadata": {},
   "outputs": [],
   "source": [
    "import pandas as pd\n",
    "import numpy as np"
   ]
  },
  {
   "cell_type": "markdown",
   "metadata": {},
   "source": [
    "1. df.info()\n",
    "2. df.describe()\n",
    "3. df.dtypes\n",
    "4. df.columns\n",
    "5. df.get_dtype_counts() or df.dtypes.value_counts()\n",
    "6. df.columns[df.isnull().any()]\n",
    "7. null_data=train.isnull().sum()/len(train)\n",
    "8. plt.bar(list(null_data.index),null_data.values)\n",
    "   plt.show()"
   ]
  },
  {
   "cell_type": "code",
   "execution_count": 3,
   "metadata": {},
   "outputs": [],
   "source": [
    "def summary(df):\n",
    "    columns=list[df.columns]\n",
    "    unique_values=[]\n",
    "    null_values=[]\n",
    "    \n",
    "    for col in df.columns:\n",
    "        unique_values.append(df[col].nunique())\n",
    "        null_values.append(df[col].isnull().sum())\n",
    "        \n",
    "    df_summary=pd.DataFrame([columns,unique_values,null_values],columns=['col_name,unique_val,null_val'])\n",
    "        "
   ]
  },
  {
   "cell_type": "code",
   "execution_count": 2,
   "metadata": {},
   "outputs": [],
   "source": [
    "def valuetypes(df):\n",
    "    for col in df.columns:\n",
    "        value_count=df[col].value_counts()\n",
    "        if len(value_count)>10 :\n",
    "            print(\"value count frequecy for col --- {} ----- \\n -----\\n {} \\n -----\".format(col,value_count.value_counts()))\n",
    "        else:\n",
    "            print(\"value count for column --- {} ----- \\n -----\\n {} \\n -----\".format(col,value_count))\n",
    "        "
   ]
  },
  {
   "cell_type": "code",
   "execution_count": 3,
   "metadata": {},
   "outputs": [],
   "source": [
    "from sklearn.base import BaseEstimator,TransformerMixin\n",
    "class column_selection(BaseEstimator,TransformerMixin):\n",
    "    def __init__(self,Type=False,columns=None,include=None,exclude=None):\n",
    "        self.Type=Type;\n",
    "        self.columns=columns\n",
    "        self.include=include\n",
    "        self.exclude=exclude\n",
    "    def fit(self,X,y=None):\n",
    "        return self\n",
    "    def transform(self,X,y=None):\n",
    "        assert isinstance(X,pd.DataFrame)\n",
    "        if(self.Type == True):\n",
    "            try:\n",
    "                return X[self.columns]\n",
    "            except KeyError:\n",
    "                cols=list(set(X.columns)-set(self.columns))\n",
    "                raise KeyError(f'columns not found {cols}')\n",
    "        else:\n",
    "            if self.exclude== None:\n",
    "                return X.select_dtypes(include=self.include)\n",
    "            else:\n",
    "                return X.select_dtypes(exclude=self.exclude)\n",
    "            \n",
    "    \n",
    "        "
   ]
  },
  {
   "cell_type": "code",
   "execution_count": null,
   "metadata": {},
   "outputs": [],
   "source": [
    "from sklearn.base import BaseEstimator,TransformerMixin\n",
    "class numeric_imputation(BaseEstimator,TransformerMixin):\n",
    "    def __init__(self,track_missing=False):\n",
    "        self.track_missing=track_missing\n",
    "    def fit(self,X,y=None):\n",
    "        return self\n",
    "    def transform(self,X,y=None):\n",
    "        if track_missing == True :\n",
    "            "
   ]
  },
  {
   "cell_type": "code",
   "execution_count": null,
   "metadata": {},
   "outputs": [],
   "source": [
    "#pipeline\n",
    "from sklearn.compose import ColumnTransformer\n",
    "from sklearn.pipeline import Pipeline ,FeatureUnion ,make_pipeline ,make_union\n",
    "\n",
    "1. columntransformer\n",
    "feature unoon\n",
    "col_transformer=ColumnTransformer([('SI_median',SimpleImputer(strategy='median'),num_col),\n",
    "                                   ('SI_most_frequent',SimpleImputer(strategy='most_frequent'),cat_col),\n",
    "                                   ('enc_lable',LabelEncoder(),label_col),\n",
    "                                   ('enc_one_hot',OneHotEncoder(),onehot_col)],\n",
    "                                   ,remainder='passthrough')"
   ]
  },
  {
   "cell_type": "code",
   "execution_count": null,
   "metadata": {},
   "outputs": [],
   "source": [
    "preprocess_pipeline=Pipeline([('col_transfor',col_transformer),('scale',StandardScalar())])"
   ]
  },
  {
   "cell_type": "markdown",
   "metadata": {},
   "source": [
    "an equivalent function to procdf"
   ]
  },
  {
   "cell_type": "code",
   "execution_count": 1,
   "metadata": {},
   "outputs": [],
   "source": [
    "from sklearn.impute import SimpleImputer\n",
    "def numeric_imputaion(df,cols,dict_values=None):\n",
    "    SI=SimpleImputer(add_indicator=True)\n",
    "    dict_value={}\n",
    "    co=[]\n",
    "    if dict_values == None :\n",
    "        print(\"inside\")\n",
    "        if cols == None:\n",
    "            cols=list(df.columns)\n",
    "        for col in cols:\n",
    "            print(\"inside for\")\n",
    "            SI.fit(df[[col]])\n",
    "            data=SI.transform(df[[col]])\n",
    "            print(\"below transform\")\n",
    "            dict_value[col]=SI.statistics_[0]\n",
    "            print(\"below dict\")\n",
    "            co.append(f'{col}')\n",
    "            co.append(f'{col}_ind')\n",
    "            df1=pd.DataFrame(data,columns=co)\n",
    "            #df.drop(col,axis=1,inplace=True)\n",
    "        #df.reset_index(drop=True, inplace=True)\n",
    "        #df1.reset_index(drop=True, inplace=True)\n",
    "            df=pd.concat([df,df1],axis=1);\n",
    "    else:\n",
    "        print(\"inside else\")\n",
    "        df.fillna(dict_values,axis=1,inplace=True)\n",
    "            \n",
    "            \n",
    "    return (df,dict_value)"
   ]
  },
  {
   "cell_type": "code",
   "execution_count": null,
   "metadata": {},
   "outputs": [],
   "source": [
    "def categorical_imputaion(df,col=None,dict_vals=None):\n",
    "    "
   ]
  }
 ],
 "metadata": {
  "kernelspec": {
   "display_name": "Python 3",
   "language": "python",
   "name": "python3"
  },
  "language_info": {
   "codemirror_mode": {
    "name": "ipython",
    "version": 3
   },
   "file_extension": ".py",
   "mimetype": "text/x-python",
   "name": "python",
   "nbconvert_exporter": "python",
   "pygments_lexer": "ipython3",
   "version": "3.7.6"
  }
 },
 "nbformat": 4,
 "nbformat_minor": 2
}
