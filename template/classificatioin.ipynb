{
 "cells": [
  {
   "cell_type": "markdown",
   "metadata": {},
   "source": [
    "1. logistic \n",
    "2. SVM\n",
    "3. GaussianNB\n",
    "4. KNN\n",
    "5. Random Forest\n",
    "6. Extra tree random forest\n",
    "7. XGBoost\n",
    "8. NN\n"
   ]
  },
  {
   "cell_type": "code",
   "execution_count": 1,
   "metadata": {},
   "outputs": [],
   "source": [
    "import pandas as pd\n",
    "import numpy as np\n",
    "import sklearn"
   ]
  },
  {
   "cell_type": "code",
   "execution_count": 6,
   "metadata": {},
   "outputs": [],
   "source": [
    "from sklearn.model_selection import GridSearchCV\n",
    "from sklearn.linear_model import LogisticRegression"
   ]
  },
  {
   "cell_type": "code",
   "execution_count": null,
   "metadata": {},
   "outputs": [],
   "source": [
    "#from sklearn.linear_model import newton-cg’, ‘lbfgs’, ‘liblinear’, ‘sag’, ‘saga’\n",
    "\n",
    "#for binary classification \n",
    "# The ‘newton-cg’, ‘sag’, and ‘lbfgs’ solvers support only L2 regularization with primal formulation\n",
    "# ‘liblinear’ solver supports both L1 and L2 regularization, with a dual formulation only for the L2 penalty. The Elastic-Net regularization is only supported by the ‘saga’ solver\n",
    "param={'penalty':[‘l1’, ‘l2’, ‘elasticnet’, ‘none’],'C'=[.1,.3,.5,.7,.9,1,2,4,6,8,10],\n",
    "       'solver':['newton-cg’, ‘lbfgs’, ‘liblinear’, ‘sag’, ‘saga’],'multi_class'=[‘auto’, ‘ovr’, ‘multinomial’]} \n",
    "#solver default \n",
    "#For small datasets, ‘liblinear’ is a good choice, whereas ‘sag’ and ‘saga’ are faster for large one\n",
    "#For multiclass problems, only ‘newton-cg’, ‘sag’, ‘saga’ and ‘lbfgs’ handle multinomial loss; ‘liblinear’ is limited to one-versus-rest schemes.\n",
    "#only L2  or no:‘newton-cg’, ‘lbfgs’, ‘sag’ and ‘saga’ \n",
    "# l1,l2,elastic : saga\n",
    "#libliner doesnot supports none penalty\n"
   ]
  },
  {
   "cell_type": "code",
   "execution_count": null,
   "metadata": {},
   "outputs": [],
   "source": [
    "# if penalty is elasticnet then l1 ratio have to be grid searched\n"
   ]
  },
  {
   "cell_type": "code",
   "execution_count": 7,
   "metadata": {},
   "outputs": [],
   "source": [
    "lr_binary=LogisticRegression(penalty='l2',C=1.0,solver='liblinear',max_iter=100,multi_class='auto')"
   ]
  },
  {
   "cell_type": "code",
   "execution_count": 8,
   "metadata": {},
   "outputs": [],
   "source": [
    "lr_param={'C':[.1,.3,.5,.7,.9,1,2,4,6,8,10]}\n",
    "lr_grid=GridSearchCV(estimator=lr_binary,param_grid=lr_param,cv=5)\n",
    "# cv_results_ ,best_estimtor_,best_param_"
   ]
  }
 ],
 "metadata": {
  "kernelspec": {
   "display_name": "Python 3",
   "language": "python",
   "name": "python3"
  },
  "language_info": {
   "codemirror_mode": {
    "name": "ipython",
    "version": 3
   },
   "file_extension": ".py",
   "mimetype": "text/x-python",
   "name": "python",
   "nbconvert_exporter": "python",
   "pygments_lexer": "ipython3",
   "version": "3.7.7"
  }
 },
 "nbformat": 4,
 "nbformat_minor": 4
}
