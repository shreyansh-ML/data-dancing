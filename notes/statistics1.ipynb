{
 "cells": [
  {
   "cell_type": "markdown",
   "metadata": {},
   "source": [
    "co-varince vs corelation :\n",
    "    ----------------\n",
    "     “Covariance” indicates the direction of the linear relationship between variables. “Correlation” on the other hand measures both the strength and direction of the linear relationship between two variables. Correlation is a function of the covariance. What sets them apart is the fact that correlation values are standardized whereas, covariance values are not\n",
    "\n"
   ]
  },
  {
   "cell_type": "markdown",
   "metadata": {},
   "source": []
  },
  {
   "cell_type": "markdown",
   "metadata": {},
   "source": [
    "normal distribution=gaussian distribution\n",
    "If you plot the probability distribution and it forms a bell shaped curve and the mean, mode and median of the sample are equal then the variable has normal distribution.\n",
    "dependent on two parameters of the data set: its mean and the standard deviation of the sample.\n",
    "This is known as the Central Limit Theorem.\n",
    "68.2-95.5-99.7\n",
    "convert a distribution to normal with \n",
    "1.  z score\n",
    "2. box cox transformaion\n",
    "3. Yeo-Johnson Transformation\n"
   ]
  },
  {
   "cell_type": "markdown",
   "metadata": {},
   "source": [
    "what is z score:\n",
    "\n",
    "childs explanation:\n",
    "\n"
   ]
  },
  {
   "cell_type": "markdown",
   "metadata": {},
   "source": [
    "what is covariance shift .\n",
    "what is moving weighted average."
   ]
  }
 ],
 "metadata": {
  "kernelspec": {
   "display_name": "Python 3",
   "language": "python",
   "name": "python3"
  },
  "language_info": {
   "codemirror_mode": {
    "name": "ipython",
    "version": 3
   },
   "file_extension": ".py",
   "mimetype": "text/x-python",
   "name": "python",
   "nbconvert_exporter": "python",
   "pygments_lexer": "ipython3",
   "version": "3.7.7"
  }
 },
 "nbformat": 4,
 "nbformat_minor": 2
}
