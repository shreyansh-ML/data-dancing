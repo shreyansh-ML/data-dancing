{
 "cells": [
  {
   "cell_type": "markdown",
   "metadata": {},
   "source": [
    "attribute-data type ( meta data )\n",
    "feature - attribute + value\n",
    "feature is also called predictor or observation\n",
    "\n",
    "lables,target variable- value to be predicted(class)\n",
    "in statistics label is is called as response variable\n"
   ]
  },
  {
   "cell_type": "code",
   "execution_count": null,
   "metadata": {},
   "outputs": [],
   "source": []
  },
  {
   "cell_type": "markdown",
   "metadata": {},
   "source": [
    "instance based learning: system learns example by heart nd then generalizes the new cases by campring to the learned model \n",
    "    using similarity measures\n",
    "    \n",
    "Model Based learning: build a model from examples and then use it for predictions\n",
    "\n",
    "in model based learning thre is either utility(fitness) function or cost function"
   ]
  },
  {
   "cell_type": "code",
   "execution_count": 1,
   "metadata": {},
   "outputs": [
    {
     "ename": "SyntaxError",
     "evalue": "invalid syntax (<ipython-input-1-0160410bee1f>, line 1)",
     "output_type": "error",
     "traceback": [
      "\u001b[1;36m  File \u001b[1;32m\"<ipython-input-1-0160410bee1f>\"\u001b[1;36m, line \u001b[1;32m1\u001b[0m\n\u001b[1;33m    tensor install:\u001b[0m\n\u001b[1;37m                 ^\u001b[0m\n\u001b[1;31mSyntaxError\u001b[0m\u001b[1;31m:\u001b[0m invalid syntax\n"
     ]
    }
   ],
   "source": [
    "tensor install:\n",
    "    pip install --upgrade pip\n",
    "    or\n",
    "    pip install --upgrade pip --user\n",
    "    \n",
    "    pip install --upgrade pip --user\n",
    "    cd Git-hub/data-dancing/\n",
    "    mkdir TF\n",
    "    cd TF\n",
    "    --virtualenv --system-site-packages .\n",
    "    virtualenv --system-site-packages -p C:\\Users\\shsubham\\AppData\\Local\\Continuum\\anaconda3\\python.exe ./venv\n",
    "    .\\venv\\Scripts\\activate\n",
    "    pip install --upgrade pip\n",
    "    \n",
    "    "
   ]
  },
  {
   "cell_type": "code",
   "execution_count": 1,
   "metadata": {},
   "outputs": [
    {
     "ename": "SyntaxError",
     "evalue": "invalid syntax (<ipython-input-1-da33ae08e4cf>, line 1)",
     "output_type": "error",
     "traceback": [
      "\u001b[1;36m  File \u001b[1;32m\"<ipython-input-1-da33ae08e4cf>\"\u001b[1;36m, line \u001b[1;32m1\u001b[0m\n\u001b[1;33m    conda activate C:\\Users\\shsubham\\pythoncode\\Git-hub\\data-dancing\\TensorFlow\\venv\u001b[0m\n\u001b[1;37m                 ^\u001b[0m\n\u001b[1;31mSyntaxError\u001b[0m\u001b[1;31m:\u001b[0m invalid syntax\n"
     ]
    }
   ],
   "source": [
    "conda activate C:\\Users\\shsubham\\pythoncode\\Git-hub\\data-dancing\\TensorFlow\\venv\n",
    "    conda deactivate\n",
    "    \n",
    "    conda activate tensorflow\n",
    "    !pip install tensorflow--in jupyter notebook"
   ]
  },
  {
   "cell_type": "code",
   "execution_count": null,
   "metadata": {},
   "outputs": [],
   "source": [
    "conda activate venv\n",
    "pip install numpy\n"
   ]
  },
  {
   "cell_type": "markdown",
   "metadata": {},
   "source": [
    "The loss function for linear regression is squared loss. The loss function for logistic regression is Log Loss, which is defined as follows:"
   ]
  }
 ],
 "metadata": {
  "kernelspec": {
   "display_name": "Python 3",
   "language": "python",
   "name": "python3"
  },
  "language_info": {
   "codemirror_mode": {
    "name": "ipython",
    "version": 3
   },
   "file_extension": ".py",
   "mimetype": "text/x-python",
   "name": "python",
   "nbconvert_exporter": "python",
   "pygments_lexer": "ipython3",
   "version": "3.6.10"
  }
 },
 "nbformat": 4,
 "nbformat_minor": 2
}
