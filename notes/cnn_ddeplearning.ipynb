{
 "cells": [
  {
   "cell_type": "markdown",
   "metadata": {},
   "source": [
    "A Gentle Introduction to Pooling Layers for Convolutional Neural Networks\n",
    "by Jason Brownlee on April 22, 2019 in Deep Learning for Computer Vision\n",
    "Tweet  Share\n",
    "Last Updated on July 5, 2019\n",
    "\n",
    "Convolutional layers in a convolutional neural network summarize the presence of features in an input image.\n",
    "\n",
    "A problem with the output feature maps is that they are sensitive to the location of the features in the input. One approach to address this sensitivity is to down sample the feature maps. This has the effect of making the resulting down sampled feature maps more robust to changes in the position of the feature in the image, referred to by the technical phrase “local translation invariance.”"
   ]
  }
 ],
 "metadata": {
  "kernelspec": {
   "display_name": "Python 3",
   "language": "python",
   "name": "python3"
  },
  "language_info": {
   "codemirror_mode": {
    "name": "ipython",
    "version": 3
   },
   "file_extension": ".py",
   "mimetype": "text/x-python",
   "name": "python",
   "nbconvert_exporter": "python",
   "pygments_lexer": "ipython3",
   "version": "3.6.10"
  }
 },
 "nbformat": 4,
 "nbformat_minor": 2
}
