{
 "cells": [
  {
   "cell_type": "markdown",
   "metadata": {},
   "source": [
    "co-varince vs corelation :\n",
    "    ----------------\n",
    "     “Covariance” indicates the direction of the linear relationship between variables. “Correlation” on the other hand measures both the strength and direction of the linear relationship between two variables. Correlation is a function of the covariance. What sets them apart is the fact that correlation values are standardized whereas, covariance values are not\n",
    "\n"
   ]
  },
  {
   "cell_type": "markdown",
   "metadata": {},
   "source": [
    "https://online.stat.psu.edu/stat462/node/180/"
   ]
  },
  {
   "cell_type": "markdown",
   "metadata": {},
   "source": [
    "curse of dimensionality"
   ]
  },
  {
   "cell_type": "markdown",
   "metadata": {},
   "source": [
    "no free lunch theorem"
   ]
  },
  {
   "cell_type": "code",
   "execution_count": null,
   "metadata": {},
   "outputs": [],
   "source": [
    "quota sampling introduces sampling  bias"
   ]
  },
  {
   "cell_type": "markdown",
   "metadata": {},
   "source": [
    "normal distribution=gaussian distribution If you plot the probability distribution and it forms a bell shaped curve and the mean, mode and median of the sample are equal then the variable has normal distribution. dependent on two parameters of the data set: its mean and the standard deviation of the sample. This is known as the Central Limit Theorem. 68.2-95.5-99.7 convert a distribution to normal with:\n",
    "\n",
    "z score\n",
    "box cox transformaion\n",
    "Yeo-Johnson Transformation"
   ]
  }
 ],
 "metadata": {
  "kernelspec": {
   "display_name": "Python 3",
   "language": "python",
   "name": "python3"
  },
  "language_info": {
   "codemirror_mode": {
    "name": "ipython",
    "version": 3
   },
   "file_extension": ".py",
   "mimetype": "text/x-python",
   "name": "python",
   "nbconvert_exporter": "python",
   "pygments_lexer": "ipython3",
   "version": "3.6.10"
  }
 },
 "nbformat": 4,
 "nbformat_minor": 2
}
