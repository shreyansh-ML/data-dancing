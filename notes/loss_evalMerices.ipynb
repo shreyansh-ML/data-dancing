{
 "cells": [
  {
   "cell_type": "markdown",
   "metadata": {},
   "source": [
    "https://ml-cheatsheet.readthedocs.io/en/latest/loss_functions.html\n",
    "1.Cross Entropy log loss -- classification\n",
    "2.hinge -- classification\n",
    "3.huber -- regression\n",
    "4.Kullback-Leibler -- \n",
    "5.MAE [l1]\n",
    "5.MSE [l2]"
   ]
  },
  {
   "cell_type": "markdown",
   "metadata": {},
   "source": [
    "Cross entropy - log loss\n",
    "for binar classification:\n",
    "  −(ylog(p)+(1−y)log(1−p))\n",
    "    it is derivation of sigmoid function .\n",
    "    \n",
    " for multiclass :\n",
    " "
   ]
  }
 ],
 "metadata": {
  "kernelspec": {
   "display_name": "Python 3",
   "language": "python",
   "name": "python3"
  },
  "language_info": {
   "codemirror_mode": {
    "name": "ipython",
    "version": 3
   },
   "file_extension": ".py",
   "mimetype": "text/x-python",
   "name": "python",
   "nbconvert_exporter": "python",
   "pygments_lexer": "ipython3",
   "version": "3.6.10"
  }
 },
 "nbformat": 4,
 "nbformat_minor": 2
}
