{
 "cells": [
  {
   "cell_type": "markdown",
   "metadata": {},
   "source": [
    "problem definition, \n",
    "evaluation, \n",
    "feature engineering,\n",
    "and fighting overfitting."
   ]
  },
  {
   "cell_type": "markdown",
   "metadata": {},
   "source": [
    "be aware of nonstationary problems\n"
   ]
  },
  {
   "cell_type": "markdown",
   "metadata": {},
   "source": [
    " ### problem definition,\n"
   ]
  },
  {
   "cell_type": "markdown",
   "metadata": {},
   "source": [
    "## steps \n",
    "    1.choose a measure of success ex.. accuracy precision recall\n",
    "       for balanced class classification Accuracy ,ROC or AUC are common\n",
    "       for unbalanced class precsion and recall are better\n",
    "       for ranking or multilabel classification mean average precision is good\n",
    " \n",
    "    2. Decide a evaluation set\n",
    "        Maintaining a hold-out validation set\n",
    "        Doing K-fold cross-validation\n",
    "        Doing iterated K-fold validation\n",
    "\n",
    "    3. Prepare the data\n",
    "    4. Develope a model that does better than baseline\n",
    "        basic model -> working model ->scale up the working model -> regularize\n",
    "        -if basic model fails to do better than baseline then look for data and assumtions\n",
    "        4.1  three key choices to build your first working model:\n",
    "             -Last-layer activation\n",
    "             -Loss function\n",
    "                the widely used classification metric ROC AUC can’t be directly optimized. Hence, in classification tasks,                 it’s common to optimize for a proxy metric of ROC AUC, such as crossentropy. In general, you\n",
    "                can hope that the lower the crossentropy gets, the higher the ROC AUC will be\n",
    "             -Optimization configuration\n",
    "                optimizer,learning rate decisions\n",
    "                In most cases, it’s safe to go with rmsprop and its default learning rate\n",
    "      5. Scale up the model\n",
    "          - add layers , hidden units\n",
    "          - train more epochs\n",
    "      6. Regularize the model and tuning your hyperparameters\n",
    "          -Add dropout\n",
    "          -Try different architectures: add or remove layers\n",
    "          -Add L1 and/or L2 regularization\n",
    "          -Try different hyperparameters (such as the number of units per layer or the\n",
    "           learning rate of the optimizer) to find the optimal configuration\n",
    "           -iterate on feature engineering: add new features, or remove features\n",
    "             that don’t seem to be informative."
   ]
  },
  {
   "cell_type": "markdown",
   "metadata": {},
   "source": [
    "### feature engg\n",
    "    1. prepare "
   ]
  }
 ],
 "metadata": {
  "kernelspec": {
   "display_name": "Python 3",
   "language": "python",
   "name": "python3"
  },
  "language_info": {
   "codemirror_mode": {
    "name": "ipython",
    "version": 3
   },
   "file_extension": ".py",
   "mimetype": "text/x-python",
   "name": "python",
   "nbconvert_exporter": "python",
   "pygments_lexer": "ipython3",
   "version": "3.6.10"
  }
 },
 "nbformat": 4,
 "nbformat_minor": 2
}
